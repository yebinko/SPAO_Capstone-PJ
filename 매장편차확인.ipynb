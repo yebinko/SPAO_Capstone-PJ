{
 "cells": [
  {
   "cell_type": "code",
   "execution_count": 1,
   "metadata": {},
   "outputs": [
    {
     "name": "stderr",
     "output_type": "stream",
     "text": [
      "/var/folders/x2/c6gjhmqs6h5bl_d26ctv923h0000gn/T/ipykernel_62880/345189607.py:2: DtypeWarning: Columns (19,20) have mixed types. Specify dtype option on import or set low_memory=False.\n",
      "  df = pd.read_csv('파일럿PJ_분석매장반영.csv', index_col=0)\n"
     ]
    }
   ],
   "source": [
    "import pandas as pd\n",
    "df = pd.read_csv('파일럿PJ_분석매장반영.csv', index_col=0)"
   ]
  },
  {
   "cell_type": "markdown",
   "metadata": {},
   "source": [
    "## 실수형으로 변환"
   ]
  },
  {
   "cell_type": "code",
   "execution_count": 2,
   "metadata": {},
   "outputs": [],
   "source": [
    "df['기간판매율[입고량대비]'] = pd.to_numeric(df['기간판매율[입고량대비]'], errors='coerce').astype(float)"
   ]
  },
  {
   "cell_type": "code",
   "execution_count": null,
   "metadata": {},
   "outputs": [],
   "source": [
    "df_mean = df.groupby(['매장코드', '매장명', '스타일코드', 'Date'])['기간판매율[입고량대비]'].mean()"
   ]
  },
  {
   "cell_type": "markdown",
   "metadata": {},
   "source": [
    "## 분석대상 스타일만 남기기"
   ]
  },
  {
   "cell_type": "code",
   "execution_count": null,
   "metadata": {},
   "outputs": [],
   "source": [
    "code_list = ['SPTAE23W03', 'SPTAE23W04', 'SPTAEA9M01', 'SPTAEA9M02', 'SPTAEA9W01', 'SPTAE23M03', 'SPTAE23M04']"
   ]
  },
  {
   "cell_type": "code",
   "execution_count": null,
   "metadata": {},
   "outputs": [],
   "source": [
    "df_mean = df_mean.reset_index()"
   ]
  },
  {
   "cell_type": "code",
   "execution_count": null,
   "metadata": {},
   "outputs": [],
   "source": [
    "df_mean2 = df_mean[df_mean['스타일코드'].isin(code_list)]"
   ]
  },
  {
   "cell_type": "code",
   "execution_count": null,
   "metadata": {},
   "outputs": [
    {
     "data": {
      "text/plain": [
       "array(['SPLWE23M12', 'SPTAE11W05', 'SPTAE23M03', 'SPTAE23M04',\n",
       "       'SPTAEA9W01', 'SPCKE12W02', 'SPCKE23W02', 'SPKWE11W07',\n",
       "       'SPKWE12W01', 'SPKWE23W06', 'SPTAE23M07', 'SPTAE23W03',\n",
       "       'SPTAE23W04', 'SPTAEA9M01', 'SPTAEA9M02', 'SPTAE11W06',\n",
       "       'SPTAE23M05', 'SPCKE11W08', 'SPCKE11W99', 'SPCKE12W94',\n",
       "       'SPKWE12W99', 'SPCKE11W98'], dtype=object)"
      ]
     },
     "metadata": {},
     "output_type": "display_data"
    }
   ],
   "source": [
    "df_mean['스타일코드'].unique() # 'SPTAEW04'"
   ]
  },
  {
   "cell_type": "code",
   "execution_count": null,
   "metadata": {},
   "outputs": [
    {
     "data": {
      "text/html": [
       "<div>\n",
       "<style scoped>\n",
       "    .dataframe tbody tr th:only-of-type {\n",
       "        vertical-align: middle;\n",
       "    }\n",
       "\n",
       "    .dataframe tbody tr th {\n",
       "        vertical-align: top;\n",
       "    }\n",
       "\n",
       "    .dataframe thead th {\n",
       "        text-align: right;\n",
       "    }\n",
       "</style>\n",
       "<table border=\"1\" class=\"dataframe\">\n",
       "  <thead>\n",
       "    <tr style=\"text-align: right;\">\n",
       "      <th></th>\n",
       "      <th>매장코드</th>\n",
       "      <th>매장명</th>\n",
       "      <th>스타일코드</th>\n",
       "      <th>Date</th>\n",
       "      <th>기간판매율[입고량대비]</th>\n",
       "    </tr>\n",
       "  </thead>\n",
       "  <tbody>\n",
       "    <tr>\n",
       "      <th>264</th>\n",
       "      <td>A8LH</td>\n",
       "      <td>NC일산</td>\n",
       "      <td>SPTAE23W04</td>\n",
       "      <td>231221</td>\n",
       "      <td>NaN</td>\n",
       "    </tr>\n",
       "    <tr>\n",
       "      <th>265</th>\n",
       "      <td>A8LH</td>\n",
       "      <td>NC일산</td>\n",
       "      <td>SPTAE23W04</td>\n",
       "      <td>231222</td>\n",
       "      <td>NaN</td>\n",
       "    </tr>\n",
       "    <tr>\n",
       "      <th>266</th>\n",
       "      <td>A8LH</td>\n",
       "      <td>NC일산</td>\n",
       "      <td>SPTAE23W04</td>\n",
       "      <td>231223</td>\n",
       "      <td>NaN</td>\n",
       "    </tr>\n",
       "    <tr>\n",
       "      <th>267</th>\n",
       "      <td>A8LH</td>\n",
       "      <td>NC일산</td>\n",
       "      <td>SPTAE23W04</td>\n",
       "      <td>231224</td>\n",
       "      <td>NaN</td>\n",
       "    </tr>\n",
       "    <tr>\n",
       "      <th>268</th>\n",
       "      <td>A8LH</td>\n",
       "      <td>NC일산</td>\n",
       "      <td>SPTAE23W04</td>\n",
       "      <td>231225</td>\n",
       "      <td>NaN</td>\n",
       "    </tr>\n",
       "    <tr>\n",
       "      <th>...</th>\n",
       "      <td>...</td>\n",
       "      <td>...</td>\n",
       "      <td>...</td>\n",
       "      <td>...</td>\n",
       "      <td>...</td>\n",
       "    </tr>\n",
       "    <tr>\n",
       "      <th>33124</th>\n",
       "      <td>ADYJ</td>\n",
       "      <td>의정부민락</td>\n",
       "      <td>SPTAE23W04</td>\n",
       "      <td>240107</td>\n",
       "      <td>50.0</td>\n",
       "    </tr>\n",
       "    <tr>\n",
       "      <th>33125</th>\n",
       "      <td>ADYJ</td>\n",
       "      <td>의정부민락</td>\n",
       "      <td>SPTAE23W04</td>\n",
       "      <td>240108</td>\n",
       "      <td>NaN</td>\n",
       "    </tr>\n",
       "    <tr>\n",
       "      <th>33126</th>\n",
       "      <td>ADYJ</td>\n",
       "      <td>의정부민락</td>\n",
       "      <td>SPTAE23W04</td>\n",
       "      <td>240109</td>\n",
       "      <td>NaN</td>\n",
       "    </tr>\n",
       "    <tr>\n",
       "      <th>33127</th>\n",
       "      <td>ADYJ</td>\n",
       "      <td>의정부민락</td>\n",
       "      <td>SPTAE23W04</td>\n",
       "      <td>240110</td>\n",
       "      <td>NaN</td>\n",
       "    </tr>\n",
       "    <tr>\n",
       "      <th>33128</th>\n",
       "      <td>ADYJ</td>\n",
       "      <td>의정부민락</td>\n",
       "      <td>SPTAE23W04</td>\n",
       "      <td>240111</td>\n",
       "      <td>NaN</td>\n",
       "    </tr>\n",
       "  </tbody>\n",
       "</table>\n",
       "<p>1737 rows × 5 columns</p>\n",
       "</div>"
      ],
      "text/plain": [
       "       매장코드    매장명       스타일코드    Date  기간판매율[입고량대비]\n",
       "264    A8LH   NC일산  SPTAE23W04  231221           NaN\n",
       "265    A8LH   NC일산  SPTAE23W04  231222           NaN\n",
       "266    A8LH   NC일산  SPTAE23W04  231223           NaN\n",
       "267    A8LH   NC일산  SPTAE23W04  231224           NaN\n",
       "268    A8LH   NC일산  SPTAE23W04  231225           NaN\n",
       "...     ...    ...         ...     ...           ...\n",
       "33124  ADYJ  의정부민락  SPTAE23W04  240107          50.0\n",
       "33125  ADYJ  의정부민락  SPTAE23W04  240108           NaN\n",
       "33126  ADYJ  의정부민락  SPTAE23W04  240109           NaN\n",
       "33127  ADYJ  의정부민락  SPTAE23W04  240110           NaN\n",
       "33128  ADYJ  의정부민락  SPTAE23W04  240111           NaN\n",
       "\n",
       "[1737 rows x 5 columns]"
      ]
     },
     "metadata": {},
     "output_type": "display_data"
    }
   ],
   "source": [
    "df_mean[df_mean['스타일코드'] == 'SPTAE23W04']"
   ]
  },
  {
   "cell_type": "markdown",
   "metadata": {},
   "source": [
    "# Week 별로"
   ]
  },
  {
   "cell_type": "code",
   "execution_count": null,
   "metadata": {},
   "outputs": [],
   "source": [
    "import pandas as pd\n",
    "\n",
    "# Assuming 'Date' is in datetime format\n",
    "df['Date'] = pd.to_datetime(df['Date'], format='%y%m%d')\n",
    "\n",
    "# Create a new column 'Week' and initialize it with 0\n",
    "df['Week'] = 0\n",
    "\n",
    "# Assign week numbers based on date ranges\n",
    "df.loc[(df['Date'] >= '2023-12-21') & (df['Date'] <= '2023-12-24'), 'Week'] = 1\n",
    "df.loc[(df['Date'] >= '2023-12-25') & (df['Date'] <= '2023-12-31'), 'Week'] = 2\n",
    "df.loc[(df['Date'] >= '2024-01-01') & (df['Date'] <= '2024-01-07'), 'Week'] = 3\n",
    "df.loc[(df['Date'] >= '2024-01-08') & (df['Date'] <= '2024-01-11'), 'Week'] = 3"
   ]
  },
  {
   "cell_type": "code",
   "execution_count": null,
   "metadata": {},
   "outputs": [],
   "source": [
    "df2 = df[(df['Week'] != 0)]"
   ]
  },
  {
   "cell_type": "code",
   "execution_count": null,
   "metadata": {},
   "outputs": [],
   "source": [
    "df_mean = df2.groupby(['매장코드', '매장명', '스타일코드', 'Week'])['기간판매율[입고량대비]'].mean()"
   ]
  },
  {
   "cell_type": "code",
   "execution_count": null,
   "metadata": {},
   "outputs": [],
   "source": [
    "df_mean = df_mean.reset_index()"
   ]
  },
  {
   "cell_type": "code",
   "execution_count": null,
   "metadata": {},
   "outputs": [
    {
     "data": {
      "text/html": [
       "<div>\n",
       "<style scoped>\n",
       "    .dataframe tbody tr th:only-of-type {\n",
       "        vertical-align: middle;\n",
       "    }\n",
       "\n",
       "    .dataframe tbody tr th {\n",
       "        vertical-align: top;\n",
       "    }\n",
       "\n",
       "    .dataframe thead th {\n",
       "        text-align: right;\n",
       "    }\n",
       "</style>\n",
       "<table border=\"1\" class=\"dataframe\">\n",
       "  <thead>\n",
       "    <tr style=\"text-align: right;\">\n",
       "      <th></th>\n",
       "      <th>매장코드</th>\n",
       "      <th>매장명</th>\n",
       "      <th>스타일코드</th>\n",
       "      <th>Week</th>\n",
       "      <th>기간판매율[입고량대비]</th>\n",
       "    </tr>\n",
       "  </thead>\n",
       "  <tbody>\n",
       "    <tr>\n",
       "      <th>5</th>\n",
       "      <td>A8LC</td>\n",
       "      <td>2001중계</td>\n",
       "      <td>SPTAE23M03</td>\n",
       "      <td>2</td>\n",
       "      <td>16.666667</td>\n",
       "    </tr>\n",
       "    <tr>\n",
       "      <th>6</th>\n",
       "      <td>A8LC</td>\n",
       "      <td>2001중계</td>\n",
       "      <td>SPTAE23M03</td>\n",
       "      <td>3</td>\n",
       "      <td>10.096154</td>\n",
       "    </tr>\n",
       "    <tr>\n",
       "      <th>7</th>\n",
       "      <td>A8LC</td>\n",
       "      <td>2001중계</td>\n",
       "      <td>SPTAE23M04</td>\n",
       "      <td>1</td>\n",
       "      <td>11.111111</td>\n",
       "    </tr>\n",
       "    <tr>\n",
       "      <th>8</th>\n",
       "      <td>A8LC</td>\n",
       "      <td>2001중계</td>\n",
       "      <td>SPTAE23M04</td>\n",
       "      <td>2</td>\n",
       "      <td>33.333333</td>\n",
       "    </tr>\n",
       "    <tr>\n",
       "      <th>9</th>\n",
       "      <td>A8LC</td>\n",
       "      <td>2001중계</td>\n",
       "      <td>SPTAE23M04</td>\n",
       "      <td>3</td>\n",
       "      <td>16.666667</td>\n",
       "    </tr>\n",
       "    <tr>\n",
       "      <th>12</th>\n",
       "      <td>A8LC</td>\n",
       "      <td>2001중계</td>\n",
       "      <td>SPTAEA9W01</td>\n",
       "      <td>3</td>\n",
       "      <td>50.000000</td>\n",
       "    </tr>\n",
       "    <tr>\n",
       "      <th>14</th>\n",
       "      <td>A8LH</td>\n",
       "      <td>NC일산</td>\n",
       "      <td>SPCKE23W02</td>\n",
       "      <td>1</td>\n",
       "      <td>23.333333</td>\n",
       "    </tr>\n",
       "    <tr>\n",
       "      <th>15</th>\n",
       "      <td>A8LH</td>\n",
       "      <td>NC일산</td>\n",
       "      <td>SPCKE23W02</td>\n",
       "      <td>2</td>\n",
       "      <td>28.000000</td>\n",
       "    </tr>\n",
       "    <tr>\n",
       "      <th>16</th>\n",
       "      <td>A8LH</td>\n",
       "      <td>NC일산</td>\n",
       "      <td>SPCKE23W02</td>\n",
       "      <td>3</td>\n",
       "      <td>26.666667</td>\n",
       "    </tr>\n",
       "    <tr>\n",
       "      <th>17</th>\n",
       "      <td>A8LH</td>\n",
       "      <td>NC일산</td>\n",
       "      <td>SPKWE11W07</td>\n",
       "      <td>1</td>\n",
       "      <td>33.333333</td>\n",
       "    </tr>\n",
       "    <tr>\n",
       "      <th>18</th>\n",
       "      <td>A8LH</td>\n",
       "      <td>NC일산</td>\n",
       "      <td>SPKWE11W07</td>\n",
       "      <td>2</td>\n",
       "      <td>29.166667</td>\n",
       "    </tr>\n",
       "    <tr>\n",
       "      <th>19</th>\n",
       "      <td>A8LH</td>\n",
       "      <td>NC일산</td>\n",
       "      <td>SPKWE11W07</td>\n",
       "      <td>3</td>\n",
       "      <td>24.166667</td>\n",
       "    </tr>\n",
       "    <tr>\n",
       "      <th>20</th>\n",
       "      <td>A8LH</td>\n",
       "      <td>NC일산</td>\n",
       "      <td>SPKWE12W01</td>\n",
       "      <td>3</td>\n",
       "      <td>20.000000</td>\n",
       "    </tr>\n",
       "    <tr>\n",
       "      <th>25</th>\n",
       "      <td>A8LH</td>\n",
       "      <td>NC일산</td>\n",
       "      <td>SPTAE23M03</td>\n",
       "      <td>3</td>\n",
       "      <td>5.000000</td>\n",
       "    </tr>\n",
       "    <tr>\n",
       "      <th>28</th>\n",
       "      <td>A8LH</td>\n",
       "      <td>NC일산</td>\n",
       "      <td>SPTAE23M04</td>\n",
       "      <td>3</td>\n",
       "      <td>11.111111</td>\n",
       "    </tr>\n",
       "    <tr>\n",
       "      <th>32</th>\n",
       "      <td>A8LH</td>\n",
       "      <td>NC일산</td>\n",
       "      <td>SPTAE23W03</td>\n",
       "      <td>3</td>\n",
       "      <td>50.000000</td>\n",
       "    </tr>\n",
       "    <tr>\n",
       "      <th>35</th>\n",
       "      <td>A8LH</td>\n",
       "      <td>NC일산</td>\n",
       "      <td>SPTAE23W04</td>\n",
       "      <td>3</td>\n",
       "      <td>50.000000</td>\n",
       "    </tr>\n",
       "    <tr>\n",
       "      <th>41</th>\n",
       "      <td>A8LH</td>\n",
       "      <td>NC일산</td>\n",
       "      <td>SPTAEA9M02</td>\n",
       "      <td>3</td>\n",
       "      <td>10.190476</td>\n",
       "    </tr>\n",
       "    <tr>\n",
       "      <th>45</th>\n",
       "      <td>A8LJ</td>\n",
       "      <td>NC고잔</td>\n",
       "      <td>SPCKE12W02</td>\n",
       "      <td>3</td>\n",
       "      <td>20.000000</td>\n",
       "    </tr>\n",
       "    <tr>\n",
       "      <th>46</th>\n",
       "      <td>A8LJ</td>\n",
       "      <td>NC고잔</td>\n",
       "      <td>SPCKE23W02</td>\n",
       "      <td>1</td>\n",
       "      <td>25.000000</td>\n",
       "    </tr>\n",
       "  </tbody>\n",
       "</table>\n",
       "</div>"
      ],
      "text/plain": [
       "    매장코드     매장명       스타일코드  Week  기간판매율[입고량대비]\n",
       "5   A8LC  2001중계  SPTAE23M03     2     16.666667\n",
       "6   A8LC  2001중계  SPTAE23M03     3     10.096154\n",
       "7   A8LC  2001중계  SPTAE23M04     1     11.111111\n",
       "8   A8LC  2001중계  SPTAE23M04     2     33.333333\n",
       "9   A8LC  2001중계  SPTAE23M04     3     16.666667\n",
       "12  A8LC  2001중계  SPTAEA9W01     3     50.000000\n",
       "14  A8LH    NC일산  SPCKE23W02     1     23.333333\n",
       "15  A8LH    NC일산  SPCKE23W02     2     28.000000\n",
       "16  A8LH    NC일산  SPCKE23W02     3     26.666667\n",
       "17  A8LH    NC일산  SPKWE11W07     1     33.333333\n",
       "18  A8LH    NC일산  SPKWE11W07     2     29.166667\n",
       "19  A8LH    NC일산  SPKWE11W07     3     24.166667\n",
       "20  A8LH    NC일산  SPKWE12W01     3     20.000000\n",
       "25  A8LH    NC일산  SPTAE23M03     3      5.000000\n",
       "28  A8LH    NC일산  SPTAE23M04     3     11.111111\n",
       "32  A8LH    NC일산  SPTAE23W03     3     50.000000\n",
       "35  A8LH    NC일산  SPTAE23W04     3     50.000000\n",
       "41  A8LH    NC일산  SPTAEA9M02     3     10.190476\n",
       "45  A8LJ    NC고잔  SPCKE12W02     3     20.000000\n",
       "46  A8LJ    NC고잔  SPCKE23W02     1     25.000000"
      ]
     },
     "metadata": {},
     "output_type": "display_data"
    }
   ],
   "source": [
    "df_mean.dropna().head(20)"
   ]
  },
  {
   "cell_type": "code",
   "execution_count": null,
   "metadata": {},
   "outputs": [],
   "source": [
    "df_mean2 = df_mean[df_mean['스타일코드'].isin(code_list)]"
   ]
  },
  {
   "cell_type": "code",
   "execution_count": null,
   "metadata": {},
   "outputs": [],
   "source": [
    "df_mean2 = df_mean2.groupby(['스타일코드', 'Week'])['기간판매율[입고량대비]'].std()"
   ]
  },
  {
   "cell_type": "code",
   "execution_count": null,
   "metadata": {},
   "outputs": [
    {
     "data": {
      "text/plain": [
       "15.00304818034787"
      ]
     },
     "metadata": {},
     "output_type": "display_data"
    }
   ],
   "source": [
    "df_mean2.mean()"
   ]
  },
  {
   "cell_type": "code",
   "execution_count": null,
   "metadata": {},
   "outputs": [
    {
     "data": {
      "text/plain": [
       "스타일코드\n",
       "SPTAE23M03    14.801299\n",
       "SPTAE23M04    11.193371\n",
       "SPTAE23W03    14.480619\n",
       "SPTAE23W04    13.277585\n",
       "SPTAEA9M01    17.778679\n",
       "SPTAEA9M02    18.405683\n",
       "SPTAEA9W01    15.084101\n",
       "Name: 기간판매율[입고량대비], dtype: float64"
      ]
     },
     "metadata": {},
     "output_type": "display_data"
    }
   ],
   "source": [
    "df_mean2.groupby('스타일코드').mean()"
   ]
  },
  {
   "cell_type": "code",
   "execution_count": null,
   "metadata": {},
   "outputs": [
    {
     "data": {
      "text/plain": [
       "스타일코드       Week\n",
       "SPTAE23M03  1       12.947783\n",
       "            2       18.819421\n",
       "SPTAE23M04  1       14.370589\n",
       "            2       10.322337\n",
       "SPTAE23W03  1       14.556252\n",
       "            2       14.460596\n",
       "SPTAE23W04  1       14.433757\n",
       "            2       13.886286\n",
       "SPTAEA9M01  1       20.059000\n",
       "            2       20.023093\n",
       "SPTAEA9M02  1       21.618981\n",
       "            2       20.233736\n",
       "SPTAEA9W01  1       13.793402\n",
       "            2       17.340500\n",
       "Name: 기간판매율[입고량대비], dtype: float64"
      ]
     },
     "metadata": {},
     "output_type": "display_data"
    }
   ],
   "source": [
    "df_mean2"
   ]
  },
  {
   "cell_type": "code",
   "execution_count": null,
   "metadata": {},
   "outputs": [],
   "source": []
  },
  {
   "cell_type": "markdown",
   "metadata": {},
   "source": [
    "# 일별 편차 확인"
   ]
  },
  {
   "cell_type": "code",
   "execution_count": null,
   "metadata": {},
   "outputs": [
    {
     "data": {
      "text/plain": [
       "array(['SPLWE23M12', 'SPTAE11W05', 'SPTAE23M03', 'SPTAE23M04',\n",
       "       'SPTAEA9W01', 'SPCKE12W02', 'SPCKE23W02', 'SPKWE11W07',\n",
       "       'SPKWE12W01', 'SPKWE23W06', 'SPTAE23M07', 'SPTAE23W03',\n",
       "       'SPTAE23W04', 'SPTAEA9M01', 'SPTAEA9M02', 'SPTAE11W06',\n",
       "       'SPTAE23M05', 'SPCKE11W08', 'SPCKE11W99', 'SPCKE12W94',\n",
       "       'SPKWE12W99', 'SPCKE11W98'], dtype=object)"
      ]
     },
     "metadata": {},
     "output_type": "display_data"
    }
   ],
   "source": [
    "df_mean['스타일코드'].unique()"
   ]
  },
  {
   "cell_type": "code",
   "execution_count": null,
   "metadata": {},
   "outputs": [],
   "source": [
    "df_mean2 = df_mean[df_mean['스타일코드'].isin(code_list)]"
   ]
  },
  {
   "cell_type": "code",
   "execution_count": null,
   "metadata": {},
   "outputs": [],
   "source": [
    "df_mean2.groupby(['스타일코드', 'Date'])['기간판매율[입고량대비]'].std().to_csv('기간판매율 편차.csv', encoding='utf-8-sig')"
   ]
  },
  {
   "cell_type": "code",
   "execution_count": null,
   "metadata": {},
   "outputs": [
    {
     "data": {
      "text/plain": [
       "Index(['매장코드', '매장명', '스타일코드', 'Date', '기간판매율[입고량대비]'], dtype='object')"
      ]
     },
     "metadata": {},
     "output_type": "display_data"
    }
   ],
   "source": [
    "df_mean.columns"
   ]
  },
  {
   "cell_type": "code",
   "execution_count": null,
   "metadata": {},
   "outputs": [
    {
     "data": {
      "text/plain": [
       "스타일코드       Date  \n",
       "SPCKE11W08  231207          NaN\n",
       "            231208     7.477355\n",
       "            231209    11.662202\n",
       "            231210     6.934735\n",
       "            231211     4.695595\n",
       "                        ...    \n",
       "SPTAEA9W01  240107    15.167444\n",
       "            240108     6.865156\n",
       "            240109    17.311710\n",
       "            240110    16.973333\n",
       "            240111    25.554853\n",
       "Name: 기간판매율[입고량대비], Length: 505, dtype: float64"
      ]
     },
     "metadata": {},
     "output_type": "display_data"
    }
   ],
   "source": [
    "df_mean.groupby(['스타일코드', 'Date'])['기간판매율[입고량대비]'].std()"
   ]
  },
  {
   "cell_type": "code",
   "execution_count": null,
   "metadata": {},
   "outputs": [
    {
     "data": {
      "text/plain": [
       "스타일코드\n",
       "SPCKE11W08    12.397303\n",
       "SPCKE11W98     7.754630\n",
       "SPCKE11W99    13.642740\n",
       "SPCKE12W02    13.891826\n",
       "SPCKE12W94     7.380952\n",
       "SPCKE23W02    20.437349\n",
       "SPKWE11W07    20.272718\n",
       "SPKWE12W01    17.211997\n",
       "SPKWE12W99    10.189618\n",
       "SPKWE23W06    19.055556\n",
       "SPLWE23M12    20.166667\n",
       "SPTAE11W05    21.809050\n",
       "SPTAE11W06    24.014705\n",
       "SPTAE23M03    15.280669\n",
       "SPTAE23M04    15.123121\n",
       "SPTAE23M05    26.430976\n",
       "SPTAE23M07    16.966891\n",
       "SPTAE23W03    36.742424\n",
       "SPTAE23W04    37.717391\n",
       "SPTAEA9M01    26.055089\n",
       "SPTAEA9M02    25.210933\n",
       "SPTAEA9W01    19.056576\n",
       "Name: 기간판매율[입고량대비], dtype: float64"
      ]
     },
     "metadata": {},
     "output_type": "display_data"
    }
   ],
   "source": [
    "df_mean.groupby(['스타일코드'])['기간판매율[입고량대비]'].mean()"
   ]
  },
  {
   "cell_type": "code",
   "execution_count": null,
   "metadata": {},
   "outputs": [
    {
     "data": {
      "text/plain": [
       "20.35488238047332"
      ]
     },
     "metadata": {},
     "output_type": "display_data"
    }
   ],
   "source": [
    "df_mean['기간판매율[입고량대비]'].mean()"
   ]
  },
  {
   "cell_type": "code",
   "execution_count": null,
   "metadata": {},
   "outputs": [
    {
     "data": {
      "text/plain": [
       "array(['SPTAE23M03', 'SPTAE23M04', 'SPTAEA9W01', 'SPTAE23W03',\n",
       "       'SPTAE23W04', 'SPTAEA9M01', 'SPTAEA9M02'], dtype=object)"
      ]
     },
     "metadata": {},
     "output_type": "display_data"
    }
   ],
   "source": [
    "df_mean2['스타일코드'].unique()\n",
    "# ['SPTAE23W03', ('SPTAEW04'), 'SPTAEA9M01', 'SPTAEA9M02', 'SPTAEA9W01', 'SPTAE23M03', 'SPTAE23M04']"
   ]
  },
  {
   "cell_type": "code",
   "execution_count": null,
   "metadata": {},
   "outputs": [
    {
     "data": {
      "text/plain": [
       "매장코드  매장명     스타일코드       Date  \n",
       "A8LC  2001중계  SPLWE23M12  240110   NaN\n",
       "                          240111   NaN\n",
       "              SPTAE11W05  231219   NaN\n",
       "                          231220   NaN\n",
       "                          231221   NaN\n",
       "                                    ..\n",
       "ADYJ  의정부민락   SPTAEA9W01  240107   NaN\n",
       "                          240108   NaN\n",
       "                          240109   NaN\n",
       "                          240110   NaN\n",
       "                          240111   NaN\n",
       "Name: 기간판매율[입고량대비], Length: 33196, dtype: float64"
      ]
     },
     "metadata": {},
     "output_type": "display_data"
    }
   ],
   "source": [
    "df.groupby(['매장코드', '매장명', '스타일코드', 'Date'])['기간판매율[입고량대비]'].mean()"
   ]
  },
  {
   "cell_type": "code",
   "execution_count": null,
   "metadata": {},
   "outputs": [
    {
     "data": {
      "text/plain": [
       "매장코드  매장명     스타일코드       Date  \n",
       "A8LC  2001중계  SPLWE23M12  240110   NaN\n",
       "                          240111   NaN\n",
       "              SPTAE11W05  231219   NaN\n",
       "                          231220   NaN\n",
       "                          231221   NaN\n",
       "                                    ..\n",
       "ADYJ  의정부민락   SPTAEA9W01  240107   NaN\n",
       "                          240108   NaN\n",
       "                          240109   NaN\n",
       "                          240110   NaN\n",
       "                          240111   NaN\n",
       "Name: 기간판매율[입고량대비], Length: 33196, dtype: float64"
      ]
     },
     "metadata": {},
     "output_type": "display_data"
    }
   ],
   "source": [
    "for i in code_list:\n",
    "    df_mean[df_mean['스타일코드'] == i]['기간판매율[입고량대비]']"
   ]
  }
 ],
 "metadata": {
  "kernelspec": {
   "display_name": "Python 3",
   "language": "python",
   "name": "python3"
  },
  "language_info": {
   "codemirror_mode": {
    "name": "ipython",
    "version": 3
   },
   "file_extension": ".py",
   "mimetype": "text/x-python",
   "name": "python",
   "nbconvert_exporter": "python",
   "pygments_lexer": "ipython3",
   "version": "3.11.1"
  }
 },
 "nbformat": 4,
 "nbformat_minor": 2
}
