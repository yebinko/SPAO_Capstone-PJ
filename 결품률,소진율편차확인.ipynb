{
 "cells": [
  {
   "cell_type": "code",
   "execution_count": 1,
   "metadata": {},
   "outputs": [],
   "source": [
    "import pandas as pd"
   ]
  },
  {
   "cell_type": "code",
   "execution_count": 2,
   "metadata": {},
   "outputs": [
    {
     "name": "stderr",
     "output_type": "stream",
     "text": [
      "/var/folders/x2/c6gjhmqs6h5bl_d26ctv923h0000gn/T/ipykernel_82021/3425303855.py:1: DtypeWarning: Columns (9,10,11,20) have mixed types. Specify dtype option on import or set low_memory=False.\n",
      "  df = pd.read_csv('파일럿PJ_2차.csv', encoding='utf-8-sig')\n"
     ]
    }
   ],
   "source": [
    "df = pd.read_csv('파일럿PJ_2차.csv', encoding='utf-8-sig')"
   ]
  },
  {
   "cell_type": "code",
   "execution_count": 164,
   "metadata": {},
   "outputs": [
    {
     "data": {
      "text/plain": [
       "Index(['Unnamed: 0', '매장코드', '매장명', '스타일코드', '스타일명', '최초입고일', '최종입고일', '최초출고일',\n",
       "       '최종출고일', '현판가', '예판가', '결판가', '단품코드', '누적매장순수입고량', '누적입고량', '누적출고량',\n",
       "       '누적판매량', '기간판매량', '잔여재고량', '누적판매율[입고량대비]', '기간판매율[입고량대비]', '기간입고량',\n",
       "       '기간출고량', 'Date'],\n",
       "      dtype='object')"
      ]
     },
     "execution_count": 164,
     "metadata": {},
     "output_type": "execute_result"
    }
   ],
   "source": [
    "df.columns"
   ]
  },
  {
   "cell_type": "code",
   "execution_count": 156,
   "metadata": {},
   "outputs": [],
   "source": [
    "code_list = df['스타일코드'].unique()"
   ]
  },
  {
   "cell_type": "code",
   "execution_count": 162,
   "metadata": {},
   "outputs": [
    {
     "data": {
      "text/html": [
       "<div>\n",
       "<style scoped>\n",
       "    .dataframe tbody tr th:only-of-type {\n",
       "        vertical-align: middle;\n",
       "    }\n",
       "\n",
       "    .dataframe tbody tr th {\n",
       "        vertical-align: top;\n",
       "    }\n",
       "\n",
       "    .dataframe thead th {\n",
       "        text-align: right;\n",
       "    }\n",
       "</style>\n",
       "<table border=\"1\" class=\"dataframe\">\n",
       "  <thead>\n",
       "    <tr style=\"text-align: right;\">\n",
       "      <th></th>\n",
       "      <th>Unnamed: 0</th>\n",
       "      <th>매장코드</th>\n",
       "      <th>매장명</th>\n",
       "      <th>스타일코드</th>\n",
       "      <th>스타일명</th>\n",
       "      <th>최초입고일</th>\n",
       "      <th>최종입고일</th>\n",
       "      <th>최초출고일</th>\n",
       "      <th>최종출고일</th>\n",
       "      <th>현판가</th>\n",
       "      <th>예판가</th>\n",
       "      <th>결판가</th>\n",
       "      <th>단품코드</th>\n",
       "      <th>누적매장순수입고량</th>\n",
       "      <th>누적입고량</th>\n",
       "      <th>누적출고량</th>\n",
       "      <th>누적판매량</th>\n",
       "      <th>기간판매량</th>\n",
       "      <th>잔여재고량</th>\n",
       "      <th>누적판매율[입고량대비]</th>\n",
       "      <th>기간판매율[입고량대비]</th>\n",
       "      <th>기간입고량</th>\n",
       "      <th>기간출고량</th>\n",
       "      <th>Date</th>\n",
       "    </tr>\n",
       "  </thead>\n",
       "  <tbody>\n",
       "  </tbody>\n",
       "</table>\n",
       "</div>"
      ],
      "text/plain": [
       "Empty DataFrame\n",
       "Columns: [Unnamed: 0, 매장코드, 매장명, 스타일코드, 스타일명, 최초입고일, 최종입고일, 최초출고일, 최종출고일, 현판가, 예판가, 결판가, 단품코드, 누적매장순수입고량, 누적입고량, 누적출고량, 누적판매량, 기간판매량, 잔여재고량, 누적판매율[입고량대비], 기간판매율[입고량대비], 기간입고량, 기간출고량, Date]\n",
       "Index: []"
      ]
     },
     "execution_count": 162,
     "metadata": {},
     "output_type": "execute_result"
    }
   ],
   "source": [
    "df[df['스타일코드'] == 'SPTAE23M91']"
   ]
  },
  {
   "cell_type": "code",
   "execution_count": 159,
   "metadata": {},
   "outputs": [
    {
     "ename": "IndexError",
     "evalue": "single positional indexer is out-of-bounds",
     "output_type": "error",
     "traceback": [
      "\u001b[0;31m---------------------------------------------------------------------------\u001b[0m",
      "\u001b[0;31mIndexError\u001b[0m                                Traceback (most recent call last)",
      "Cell \u001b[0;32mIn[159], line 1\u001b[0m\n\u001b[0;32m----> 1\u001b[0m \u001b[38;5;28mprint\u001b[39m(\u001b[38;5;124m'\u001b[39m\u001b[38;5;124m최초출고일:\u001b[39m\u001b[38;5;124m'\u001b[39m, \u001b[43mdf\u001b[49m\u001b[43m[\u001b[49m\u001b[43mdf\u001b[49m\u001b[43m[\u001b[49m\u001b[38;5;124;43m'\u001b[39;49m\u001b[38;5;124;43m스타일코드\u001b[39;49m\u001b[38;5;124;43m'\u001b[39;49m\u001b[43m]\u001b[49m\u001b[43m \u001b[49m\u001b[38;5;241;43m==\u001b[39;49m\u001b[43m \u001b[49m\u001b[38;5;124;43m'\u001b[39;49m\u001b[38;5;124;43mSPTAE23M91\u001b[39;49m\u001b[38;5;124;43m'\u001b[39;49m\u001b[43m]\u001b[49m\u001b[43m[\u001b[49m\u001b[38;5;124;43m'\u001b[39;49m\u001b[38;5;124;43m최초출고일\u001b[39;49m\u001b[38;5;124;43m'\u001b[39;49m\u001b[43m]\u001b[49m\u001b[38;5;241;43m.\u001b[39;49m\u001b[43miloc\u001b[49m\u001b[43m[\u001b[49m\u001b[38;5;241;43m0\u001b[39;49m\u001b[43m]\u001b[49m)\n",
      "File \u001b[0;32m/Library/Frameworks/Python.framework/Versions/3.11/lib/python3.11/site-packages/pandas/core/indexing.py:1153\u001b[0m, in \u001b[0;36m_LocationIndexer.__getitem__\u001b[0;34m(self, key)\u001b[0m\n\u001b[1;32m   1150\u001b[0m axis \u001b[38;5;241m=\u001b[39m \u001b[38;5;28mself\u001b[39m\u001b[38;5;241m.\u001b[39maxis \u001b[38;5;129;01mor\u001b[39;00m \u001b[38;5;241m0\u001b[39m\n\u001b[1;32m   1152\u001b[0m maybe_callable \u001b[38;5;241m=\u001b[39m com\u001b[38;5;241m.\u001b[39mapply_if_callable(key, \u001b[38;5;28mself\u001b[39m\u001b[38;5;241m.\u001b[39mobj)\n\u001b[0;32m-> 1153\u001b[0m \u001b[38;5;28;01mreturn\u001b[39;00m \u001b[38;5;28;43mself\u001b[39;49m\u001b[38;5;241;43m.\u001b[39;49m\u001b[43m_getitem_axis\u001b[49m\u001b[43m(\u001b[49m\u001b[43mmaybe_callable\u001b[49m\u001b[43m,\u001b[49m\u001b[43m \u001b[49m\u001b[43maxis\u001b[49m\u001b[38;5;241;43m=\u001b[39;49m\u001b[43maxis\u001b[49m\u001b[43m)\u001b[49m\n",
      "File \u001b[0;32m/Library/Frameworks/Python.framework/Versions/3.11/lib/python3.11/site-packages/pandas/core/indexing.py:1714\u001b[0m, in \u001b[0;36m_iLocIndexer._getitem_axis\u001b[0;34m(self, key, axis)\u001b[0m\n\u001b[1;32m   1711\u001b[0m     \u001b[38;5;28;01mraise\u001b[39;00m \u001b[38;5;167;01mTypeError\u001b[39;00m(\u001b[38;5;124m\"\u001b[39m\u001b[38;5;124mCannot index by location index with a non-integer key\u001b[39m\u001b[38;5;124m\"\u001b[39m)\n\u001b[1;32m   1713\u001b[0m \u001b[38;5;66;03m# validate the location\u001b[39;00m\n\u001b[0;32m-> 1714\u001b[0m \u001b[38;5;28;43mself\u001b[39;49m\u001b[38;5;241;43m.\u001b[39;49m\u001b[43m_validate_integer\u001b[49m\u001b[43m(\u001b[49m\u001b[43mkey\u001b[49m\u001b[43m,\u001b[49m\u001b[43m \u001b[49m\u001b[43maxis\u001b[49m\u001b[43m)\u001b[49m\n\u001b[1;32m   1716\u001b[0m \u001b[38;5;28;01mreturn\u001b[39;00m \u001b[38;5;28mself\u001b[39m\u001b[38;5;241m.\u001b[39mobj\u001b[38;5;241m.\u001b[39m_ixs(key, axis\u001b[38;5;241m=\u001b[39maxis)\n",
      "File \u001b[0;32m/Library/Frameworks/Python.framework/Versions/3.11/lib/python3.11/site-packages/pandas/core/indexing.py:1647\u001b[0m, in \u001b[0;36m_iLocIndexer._validate_integer\u001b[0;34m(self, key, axis)\u001b[0m\n\u001b[1;32m   1645\u001b[0m len_axis \u001b[38;5;241m=\u001b[39m \u001b[38;5;28mlen\u001b[39m(\u001b[38;5;28mself\u001b[39m\u001b[38;5;241m.\u001b[39mobj\u001b[38;5;241m.\u001b[39m_get_axis(axis))\n\u001b[1;32m   1646\u001b[0m \u001b[38;5;28;01mif\u001b[39;00m key \u001b[38;5;241m>\u001b[39m\u001b[38;5;241m=\u001b[39m len_axis \u001b[38;5;129;01mor\u001b[39;00m key \u001b[38;5;241m<\u001b[39m \u001b[38;5;241m-\u001b[39mlen_axis:\n\u001b[0;32m-> 1647\u001b[0m     \u001b[38;5;28;01mraise\u001b[39;00m \u001b[38;5;167;01mIndexError\u001b[39;00m(\u001b[38;5;124m\"\u001b[39m\u001b[38;5;124msingle positional indexer is out-of-bounds\u001b[39m\u001b[38;5;124m\"\u001b[39m)\n",
      "\u001b[0;31mIndexError\u001b[0m: single positional indexer is out-of-bounds"
     ]
    }
   ],
   "source": [
    "print('최초출고일:', df[df['스타일코드'] == 'SPTAE23M91']['최초출고일'].iloc[0])"
   ]
  },
  {
   "cell_type": "code",
   "execution_count": 158,
   "metadata": {},
   "outputs": [
    {
     "name": "stdout",
     "output_type": "stream",
     "text": [
      "--------------------------------------------------\n",
      "SPTAE23M91\n"
     ]
    },
    {
     "ename": "IndexError",
     "evalue": "single positional indexer is out-of-bounds",
     "output_type": "error",
     "traceback": [
      "\u001b[0;31m---------------------------------------------------------------------------\u001b[0m",
      "\u001b[0;31mIndexError\u001b[0m                                Traceback (most recent call last)",
      "Cell \u001b[0;32mIn[158], line 4\u001b[0m\n\u001b[1;32m      2\u001b[0m \u001b[38;5;28mprint\u001b[39m(\u001b[38;5;124m'\u001b[39m\u001b[38;5;124m-\u001b[39m\u001b[38;5;124m'\u001b[39m\u001b[38;5;241m*\u001b[39m\u001b[38;5;241m50\u001b[39m)\n\u001b[1;32m      3\u001b[0m \u001b[38;5;28mprint\u001b[39m(i)\n\u001b[0;32m----> 4\u001b[0m \u001b[38;5;28mprint\u001b[39m(\u001b[43mdf\u001b[49m\u001b[43m[\u001b[49m\u001b[43mdf\u001b[49m\u001b[43m[\u001b[49m\u001b[38;5;124;43m'\u001b[39;49m\u001b[38;5;124;43m스타일코드\u001b[39;49m\u001b[38;5;124;43m'\u001b[39;49m\u001b[43m]\u001b[49m\u001b[43m \u001b[49m\u001b[38;5;241;43m==\u001b[39;49m\u001b[43m \u001b[49m\u001b[43mi\u001b[49m\u001b[43m]\u001b[49m\u001b[43m[\u001b[49m\u001b[38;5;124;43m'\u001b[39;49m\u001b[38;5;124;43m스타일명\u001b[39;49m\u001b[38;5;124;43m'\u001b[39;49m\u001b[43m]\u001b[49m\u001b[38;5;241;43m.\u001b[39;49m\u001b[43miloc\u001b[49m\u001b[43m[\u001b[49m\u001b[38;5;241;43m0\u001b[39;49m\u001b[43m]\u001b[49m)\n\u001b[1;32m      5\u001b[0m \u001b[38;5;28mprint\u001b[39m(\u001b[38;5;124m'\u001b[39m\u001b[38;5;124m최초출고일:\u001b[39m\u001b[38;5;124m'\u001b[39m, df[df[\u001b[38;5;124m'\u001b[39m\u001b[38;5;124m스타일코드\u001b[39m\u001b[38;5;124m'\u001b[39m] \u001b[38;5;241m==\u001b[39m i][\u001b[38;5;124m'\u001b[39m\u001b[38;5;124m최초출고일\u001b[39m\u001b[38;5;124m'\u001b[39m]\u001b[38;5;241m.\u001b[39miloc[\u001b[38;5;241m0\u001b[39m])\n\u001b[1;32m      6\u001b[0m \u001b[38;5;28mprint\u001b[39m(\u001b[38;5;124m'\u001b[39m\u001b[38;5;124m최초판매일:\u001b[39m\u001b[38;5;124m'\u001b[39m, df[df[\u001b[38;5;124m'\u001b[39m\u001b[38;5;124m스타일코드\u001b[39m\u001b[38;5;124m'\u001b[39m] \u001b[38;5;241m==\u001b[39m i][\u001b[38;5;124m'\u001b[39m\u001b[38;5;124mDate\u001b[39m\u001b[38;5;124m'\u001b[39m]\u001b[38;5;241m.\u001b[39miloc[\u001b[38;5;241m0\u001b[39m])\n",
      "File \u001b[0;32m/Library/Frameworks/Python.framework/Versions/3.11/lib/python3.11/site-packages/pandas/core/indexing.py:1153\u001b[0m, in \u001b[0;36m_LocationIndexer.__getitem__\u001b[0;34m(self, key)\u001b[0m\n\u001b[1;32m   1150\u001b[0m axis \u001b[38;5;241m=\u001b[39m \u001b[38;5;28mself\u001b[39m\u001b[38;5;241m.\u001b[39maxis \u001b[38;5;129;01mor\u001b[39;00m \u001b[38;5;241m0\u001b[39m\n\u001b[1;32m   1152\u001b[0m maybe_callable \u001b[38;5;241m=\u001b[39m com\u001b[38;5;241m.\u001b[39mapply_if_callable(key, \u001b[38;5;28mself\u001b[39m\u001b[38;5;241m.\u001b[39mobj)\n\u001b[0;32m-> 1153\u001b[0m \u001b[38;5;28;01mreturn\u001b[39;00m \u001b[38;5;28;43mself\u001b[39;49m\u001b[38;5;241;43m.\u001b[39;49m\u001b[43m_getitem_axis\u001b[49m\u001b[43m(\u001b[49m\u001b[43mmaybe_callable\u001b[49m\u001b[43m,\u001b[49m\u001b[43m \u001b[49m\u001b[43maxis\u001b[49m\u001b[38;5;241;43m=\u001b[39;49m\u001b[43maxis\u001b[49m\u001b[43m)\u001b[49m\n",
      "File \u001b[0;32m/Library/Frameworks/Python.framework/Versions/3.11/lib/python3.11/site-packages/pandas/core/indexing.py:1714\u001b[0m, in \u001b[0;36m_iLocIndexer._getitem_axis\u001b[0;34m(self, key, axis)\u001b[0m\n\u001b[1;32m   1711\u001b[0m     \u001b[38;5;28;01mraise\u001b[39;00m \u001b[38;5;167;01mTypeError\u001b[39;00m(\u001b[38;5;124m\"\u001b[39m\u001b[38;5;124mCannot index by location index with a non-integer key\u001b[39m\u001b[38;5;124m\"\u001b[39m)\n\u001b[1;32m   1713\u001b[0m \u001b[38;5;66;03m# validate the location\u001b[39;00m\n\u001b[0;32m-> 1714\u001b[0m \u001b[38;5;28;43mself\u001b[39;49m\u001b[38;5;241;43m.\u001b[39;49m\u001b[43m_validate_integer\u001b[49m\u001b[43m(\u001b[49m\u001b[43mkey\u001b[49m\u001b[43m,\u001b[49m\u001b[43m \u001b[49m\u001b[43maxis\u001b[49m\u001b[43m)\u001b[49m\n\u001b[1;32m   1716\u001b[0m \u001b[38;5;28;01mreturn\u001b[39;00m \u001b[38;5;28mself\u001b[39m\u001b[38;5;241m.\u001b[39mobj\u001b[38;5;241m.\u001b[39m_ixs(key, axis\u001b[38;5;241m=\u001b[39maxis)\n",
      "File \u001b[0;32m/Library/Frameworks/Python.framework/Versions/3.11/lib/python3.11/site-packages/pandas/core/indexing.py:1647\u001b[0m, in \u001b[0;36m_iLocIndexer._validate_integer\u001b[0;34m(self, key, axis)\u001b[0m\n\u001b[1;32m   1645\u001b[0m len_axis \u001b[38;5;241m=\u001b[39m \u001b[38;5;28mlen\u001b[39m(\u001b[38;5;28mself\u001b[39m\u001b[38;5;241m.\u001b[39mobj\u001b[38;5;241m.\u001b[39m_get_axis(axis))\n\u001b[1;32m   1646\u001b[0m \u001b[38;5;28;01mif\u001b[39;00m key \u001b[38;5;241m>\u001b[39m\u001b[38;5;241m=\u001b[39m len_axis \u001b[38;5;129;01mor\u001b[39;00m key \u001b[38;5;241m<\u001b[39m \u001b[38;5;241m-\u001b[39mlen_axis:\n\u001b[0;32m-> 1647\u001b[0m     \u001b[38;5;28;01mraise\u001b[39;00m \u001b[38;5;167;01mIndexError\u001b[39;00m(\u001b[38;5;124m\"\u001b[39m\u001b[38;5;124msingle positional indexer is out-of-bounds\u001b[39m\u001b[38;5;124m\"\u001b[39m)\n",
      "\u001b[0;31mIndexError\u001b[0m: single positional indexer is out-of-bounds"
     ]
    }
   ],
   "source": [
    "for i in ['SPTAE23M91']:\n",
    "    print('-'*50)\n",
    "    print(i)\n",
    "    print(df[df['스타일코드'] == i]['스타일명'].iloc[0])\n",
    "    print('최초출고일:', df[df['스타일코드'] == i]['최초출고일'].iloc[0])\n",
    "    print('최초판매일:', df[df['스타일코드'] == i]['Date'].iloc[0])"
   ]
  },
  {
   "cell_type": "code",
   "execution_count": 6,
   "metadata": {},
   "outputs": [],
   "source": [
    "import pandas as pd\n",
    "import os\n",
    "\n",
    "# 엑셀 파일 경로 설정\n",
    "excel_file_path = '고대PJ_RAW_2.xlsx'  # 파일 경로와 이름을 적절히 변경해주세요\n",
    "\n",
    "# 엑셀 파일 읽기\n",
    "xls = pd.ExcelFile(excel_file_path)\n",
    "\n",
    "sheet_names = xls.sheet_names\n",
    "sheet_names.remove('스타일 정보')"
   ]
  },
  {
   "cell_type": "code",
   "execution_count": 10,
   "metadata": {},
   "outputs": [],
   "source": [
    "# 각 시트를 데이터프레임으로 읽어와 리스트에 저장\n",
    "dfs = []\n",
    "\n",
    "for sheet in sheet_names:\n",
    "    df = pd.read_excel(excel_file_path, sheet_name=sheet)\n",
    "    df = df.drop(0, axis=0).reset_index(drop=True)\n",
    "    df['Date'] = sheet\n",
    "    dfs.append(df)\n",
    "\n",
    "# 모든 데이터프레임을 하나로 합치기\n",
    "merged_df = pd.concat(dfs, ignore_index=True)"
   ]
  },
  {
   "cell_type": "code",
   "execution_count": 12,
   "metadata": {},
   "outputs": [],
   "source": [
    "merged_df.to_csv('파일럿PJ_2차.csv', encoding='utf-8-sig')"
   ]
  },
  {
   "cell_type": "code",
   "execution_count": 13,
   "metadata": {},
   "outputs": [],
   "source": [
    "code = pd.read_excel('매장코드구분.xlsx')"
   ]
  },
  {
   "cell_type": "code",
   "execution_count": 14,
   "metadata": {},
   "outputs": [],
   "source": [
    "valid_code = code[code['반영여부'] == '반영']"
   ]
  },
  {
   "cell_type": "code",
   "execution_count": 15,
   "metadata": {},
   "outputs": [],
   "source": [
    "filtered_df = merged_df[merged_df['매장코드'].isin(valid_code['매장코드'])]"
   ]
  },
  {
   "cell_type": "code",
   "execution_count": 17,
   "metadata": {},
   "outputs": [],
   "source": [
    "filtered_df.to_csv('파일럿PJ_분석매장반영_2차.csv', encoding='utf-8-sig')"
   ]
  },
  {
   "cell_type": "code",
   "execution_count": 18,
   "metadata": {},
   "outputs": [],
   "source": [
    "df = filtered_df"
   ]
  },
  {
   "cell_type": "code",
   "execution_count": null,
   "metadata": {},
   "outputs": [],
   "source": [
    "# SPTAEA9M01 (array(['[에센셜] 와이드 슬랙스'], dtype=object), '231220', 0.6079570853822083)\n",
    "# SPTAEA9M02 (array(['[에센셜] 롱 테이퍼드 슬랙스'], dtype=object), '231221', 0.42659193523275724)\n",
    "# SPTAE23M03 (array(['[에센셜] 크롭 테이퍼드 슬랙스 (-5CM)'], dtype=object), '231221', 0.09641873278236915)\n",
    "# SPTAE23M04 (array(['[에센셜] 풀밴딩 테이퍼드 슬랙스'], dtype=object), '231221', 0.0)"
   ]
  },
  {
   "cell_type": "code",
   "execution_count": 20,
   "metadata": {},
   "outputs": [],
   "source": [
    "code_list = ['SPTAEA9M01', 'SPTAEA9M02', 'SPTAE23M03', 'SPTAE23M04']"
   ]
  },
  {
   "cell_type": "markdown",
   "metadata": {},
   "source": [
    "# 1. 결품률"
   ]
  },
  {
   "cell_type": "code",
   "execution_count": 153,
   "metadata": {},
   "outputs": [],
   "source": [
    "def cal_minus(x):\n",
    "    minus = len(df[(df['스타일코드'] == x) & (df['잔여재고량'] <= 0)]) / len(df[df['스타일코드'] == x]) * 100\n",
    "    name = df[df['스타일코드']== x]['스타일명'].unique()\n",
    "    period = df[df['스타일코드'] == x]['Date'].iloc[0]\n",
    "    return x, name, period, minus"
   ]
  },
  {
   "cell_type": "code",
   "execution_count": 154,
   "metadata": {},
   "outputs": [
    {
     "name": "stdout",
     "output_type": "stream",
     "text": [
      "('SPTAEA9M01', array(['[에센셜] 와이드 슬랙스'], dtype=object), Timestamp('2023-12-20 00:00:00'), 0.4552741263225393)\n",
      "('SPTAEA9M02', array(['[에센셜] 롱 테이퍼드 슬랙스'], dtype=object), Timestamp('2023-12-21 00:00:00'), 0.33079722130334105)\n",
      "('SPTAE23M03', array(['[에센셜] 크롭 테이퍼드 슬랙스 (-5CM)'], dtype=object), Timestamp('2023-12-21 00:00:00'), 0.11730205278592376)\n",
      "('SPTAE23M04', array(['[에센셜] 풀밴딩 테이퍼드 슬랙스'], dtype=object), Timestamp('2023-12-21 00:00:00'), 0.016291951775822745)\n"
     ]
    }
   ],
   "source": [
    "for i in code_list:\n",
    "    print(cal_minus(i))"
   ]
  },
  {
   "cell_type": "code",
   "execution_count": 52,
   "metadata": {},
   "outputs": [
    {
     "data": {
      "text/plain": [
       "0.39303567381294013"
      ]
     },
     "execution_count": 52,
     "metadata": {},
     "output_type": "execute_result"
    }
   ],
   "source": [
    "a = (0.4552741263225393+0.33079722130334105)/2\n",
    "a"
   ]
  },
  {
   "cell_type": "code",
   "execution_count": 53,
   "metadata": {},
   "outputs": [
    {
     "data": {
      "text/plain": [
       "0.06679700228087325"
      ]
     },
     "execution_count": 53,
     "metadata": {},
     "output_type": "execute_result"
    }
   ],
   "source": [
    "b= (0.11730205278592376+0.016291951775822745)/2\n",
    "b"
   ]
  },
  {
   "cell_type": "code",
   "execution_count": 54,
   "metadata": {},
   "outputs": [
    {
     "data": {
      "text/plain": [
       "0.8300485000945121"
      ]
     },
     "execution_count": 54,
     "metadata": {},
     "output_type": "execute_result"
    }
   ],
   "source": [
    "(a-b)/a"
   ]
  },
  {
   "cell_type": "markdown",
   "metadata": {},
   "source": [
    "# 2. 매장 소진율 편차"
   ]
  },
  {
   "cell_type": "code",
   "execution_count": 23,
   "metadata": {},
   "outputs": [
    {
     "name": "stderr",
     "output_type": "stream",
     "text": [
      "/var/folders/x2/c6gjhmqs6h5bl_d26ctv923h0000gn/T/ipykernel_11387/2921087818.py:1: SettingWithCopyWarning: \n",
      "A value is trying to be set on a copy of a slice from a DataFrame.\n",
      "Try using .loc[row_indexer,col_indexer] = value instead\n",
      "\n",
      "See the caveats in the documentation: https://pandas.pydata.org/pandas-docs/stable/user_guide/indexing.html#returning-a-view-versus-a-copy\n",
      "  df['기간판매율[입고량대비]'] = pd.to_numeric(df['기간판매율[입고량대비]'], errors='coerce').astype(float)\n"
     ]
    }
   ],
   "source": [
    "df['기간판매율[입고량대비]'] = pd.to_numeric(df['기간판매율[입고량대비]'], errors='coerce').astype(float)"
   ]
  },
  {
   "cell_type": "code",
   "execution_count": 60,
   "metadata": {},
   "outputs": [
    {
     "name": "stderr",
     "output_type": "stream",
     "text": [
      "/var/folders/x2/c6gjhmqs6h5bl_d26ctv923h0000gn/T/ipykernel_11387/3385534161.py:1: SettingWithCopyWarning: \n",
      "A value is trying to be set on a copy of a slice from a DataFrame.\n",
      "Try using .loc[row_indexer,col_indexer] = value instead\n",
      "\n",
      "See the caveats in the documentation: https://pandas.pydata.org/pandas-docs/stable/user_guide/indexing.html#returning-a-view-versus-a-copy\n",
      "  df['누적판매율[입고량대비]'] = pd.to_numeric(df['누적판매율[입고량대비]'], errors='coerce').astype(float)\n"
     ]
    }
   ],
   "source": [
    "df['누적판매율[입고량대비]'] = pd.to_numeric(df['누적판매율[입고량대비]'], errors='coerce').astype(float)"
   ]
  },
  {
   "cell_type": "code",
   "execution_count": 62,
   "metadata": {},
   "outputs": [],
   "source": [
    "df2 = df[df['스타일코드'].isin(code_list)]"
   ]
  },
  {
   "cell_type": "code",
   "execution_count": 39,
   "metadata": {},
   "outputs": [
    {
     "data": {
      "text/html": [
       "<div>\n",
       "<style scoped>\n",
       "    .dataframe tbody tr th:only-of-type {\n",
       "        vertical-align: middle;\n",
       "    }\n",
       "\n",
       "    .dataframe tbody tr th {\n",
       "        vertical-align: top;\n",
       "    }\n",
       "\n",
       "    .dataframe thead th {\n",
       "        text-align: right;\n",
       "    }\n",
       "</style>\n",
       "<table border=\"1\" class=\"dataframe\">\n",
       "  <thead>\n",
       "    <tr style=\"text-align: right;\">\n",
       "      <th></th>\n",
       "      <th>매장코드</th>\n",
       "      <th>매장명</th>\n",
       "      <th>스타일코드</th>\n",
       "      <th>스타일명</th>\n",
       "      <th>최초입고일</th>\n",
       "      <th>최종입고일</th>\n",
       "      <th>최초출고일</th>\n",
       "      <th>최종출고일</th>\n",
       "      <th>현판가</th>\n",
       "      <th>예판가</th>\n",
       "      <th>...</th>\n",
       "      <th>누적입고량</th>\n",
       "      <th>누적출고량</th>\n",
       "      <th>누적판매량</th>\n",
       "      <th>기간판매량</th>\n",
       "      <th>잔여재고량</th>\n",
       "      <th>누적판매율[입고량대비]</th>\n",
       "      <th>기간판매율[입고량대비]</th>\n",
       "      <th>기간입고량</th>\n",
       "      <th>기간출고량</th>\n",
       "      <th>Date</th>\n",
       "    </tr>\n",
       "  </thead>\n",
       "  <tbody>\n",
       "    <tr>\n",
       "      <th>99516</th>\n",
       "      <td>ABR6</td>\n",
       "      <td>디큐브거제</td>\n",
       "      <td>SPTAE23M03</td>\n",
       "      <td>[에센셜] 크롭 테이퍼드 슬랙스 (-5CM)</td>\n",
       "      <td>2023-11-22</td>\n",
       "      <td>2023-12-04</td>\n",
       "      <td>2023-12-11</td>\n",
       "      <td>2024-01-09</td>\n",
       "      <td>39900</td>\n",
       "      <td>39900</td>\n",
       "      <td>...</td>\n",
       "      <td>4</td>\n",
       "      <td>-1</td>\n",
       "      <td>NaN</td>\n",
       "      <td>NaN</td>\n",
       "      <td>3</td>\n",
       "      <td>NaN</td>\n",
       "      <td>NaN</td>\n",
       "      <td>NaN</td>\n",
       "      <td>-1</td>\n",
       "      <td>231226</td>\n",
       "    </tr>\n",
       "    <tr>\n",
       "      <th>184983</th>\n",
       "      <td>ACVZ</td>\n",
       "      <td>스타필드코엑스몰</td>\n",
       "      <td>SPTAE23M03</td>\n",
       "      <td>[에센셜] 크롭 테이퍼드 슬랙스 (-5CM)</td>\n",
       "      <td>2023-11-22</td>\n",
       "      <td>2023-12-04</td>\n",
       "      <td>2023-12-11</td>\n",
       "      <td>2024-01-09</td>\n",
       "      <td>39900</td>\n",
       "      <td>39900</td>\n",
       "      <td>...</td>\n",
       "      <td>6</td>\n",
       "      <td>-1</td>\n",
       "      <td>NaN</td>\n",
       "      <td>NaN</td>\n",
       "      <td>5</td>\n",
       "      <td>NaN</td>\n",
       "      <td>NaN</td>\n",
       "      <td>NaN</td>\n",
       "      <td>-1</td>\n",
       "      <td>240102</td>\n",
       "    </tr>\n",
       "    <tr>\n",
       "      <th>184991</th>\n",
       "      <td>ACVZ</td>\n",
       "      <td>스타필드코엑스몰</td>\n",
       "      <td>SPTAE23M04</td>\n",
       "      <td>[에센셜] 풀밴딩 테이퍼드 슬랙스</td>\n",
       "      <td>2023-11-07</td>\n",
       "      <td>2023-11-07</td>\n",
       "      <td>2023-11-09</td>\n",
       "      <td>2024-01-09</td>\n",
       "      <td>39900</td>\n",
       "      <td>39900</td>\n",
       "      <td>...</td>\n",
       "      <td>12</td>\n",
       "      <td>-1</td>\n",
       "      <td>2</td>\n",
       "      <td>NaN</td>\n",
       "      <td>9</td>\n",
       "      <td>18.181818</td>\n",
       "      <td>NaN</td>\n",
       "      <td>NaN</td>\n",
       "      <td>-1</td>\n",
       "      <td>240102</td>\n",
       "    </tr>\n",
       "    <tr>\n",
       "      <th>377161</th>\n",
       "      <td>ACVZ</td>\n",
       "      <td>스타필드코엑스몰</td>\n",
       "      <td>SPTAE23M03</td>\n",
       "      <td>[에센셜] 크롭 테이퍼드 슬랙스 (-5CM)</td>\n",
       "      <td>2023-11-22</td>\n",
       "      <td>2023-12-04</td>\n",
       "      <td>2023-12-11</td>\n",
       "      <td>2024-01-09</td>\n",
       "      <td>39900</td>\n",
       "      <td>39900</td>\n",
       "      <td>...</td>\n",
       "      <td>24</td>\n",
       "      <td>-1</td>\n",
       "      <td>2</td>\n",
       "      <td>1</td>\n",
       "      <td>21</td>\n",
       "      <td>8.695652</td>\n",
       "      <td>4.347826</td>\n",
       "      <td>NaN</td>\n",
       "      <td>-1</td>\n",
       "      <td>240114</td>\n",
       "    </tr>\n",
       "    <tr>\n",
       "      <th>409184</th>\n",
       "      <td>A9WP</td>\n",
       "      <td>강남</td>\n",
       "      <td>SPTAEA9M01</td>\n",
       "      <td>[에센셜] 와이드 슬랙스</td>\n",
       "      <td>2023-12-04</td>\n",
       "      <td>2023-12-04</td>\n",
       "      <td>2023-12-11</td>\n",
       "      <td>2024-01-15</td>\n",
       "      <td>39900</td>\n",
       "      <td>39900</td>\n",
       "      <td>...</td>\n",
       "      <td>18</td>\n",
       "      <td>-1</td>\n",
       "      <td>1</td>\n",
       "      <td>NaN</td>\n",
       "      <td>16</td>\n",
       "      <td>5.882353</td>\n",
       "      <td>NaN</td>\n",
       "      <td>NaN</td>\n",
       "      <td>-1</td>\n",
       "      <td>240116</td>\n",
       "    </tr>\n",
       "  </tbody>\n",
       "</table>\n",
       "<p>5 rows × 23 columns</p>\n",
       "</div>"
      ],
      "text/plain": [
       "        매장코드       매장명       스타일코드                      스타일명       최초입고일  \\\n",
       "99516   ABR6     디큐브거제  SPTAE23M03  [에센셜] 크롭 테이퍼드 슬랙스 (-5CM)  2023-11-22   \n",
       "184983  ACVZ  스타필드코엑스몰  SPTAE23M03  [에센셜] 크롭 테이퍼드 슬랙스 (-5CM)  2023-11-22   \n",
       "184991  ACVZ  스타필드코엑스몰  SPTAE23M04        [에센셜] 풀밴딩 테이퍼드 슬랙스  2023-11-07   \n",
       "377161  ACVZ  스타필드코엑스몰  SPTAE23M03  [에센셜] 크롭 테이퍼드 슬랙스 (-5CM)  2023-11-22   \n",
       "409184  A9WP        강남  SPTAEA9M01             [에센셜] 와이드 슬랙스  2023-12-04   \n",
       "\n",
       "             최종입고일       최초출고일       최종출고일    현판가    예판가  ... 누적입고량 누적출고량  \\\n",
       "99516   2023-12-04  2023-12-11  2024-01-09  39900  39900  ...     4    -1   \n",
       "184983  2023-12-04  2023-12-11  2024-01-09  39900  39900  ...     6    -1   \n",
       "184991  2023-11-07  2023-11-09  2024-01-09  39900  39900  ...    12    -1   \n",
       "377161  2023-12-04  2023-12-11  2024-01-09  39900  39900  ...    24    -1   \n",
       "409184  2023-12-04  2023-12-11  2024-01-15  39900  39900  ...    18    -1   \n",
       "\n",
       "       누적판매량 기간판매량 잔여재고량 누적판매율[입고량대비] 기간판매율[입고량대비] 기간입고량 기간출고량    Date  \n",
       "99516    NaN   NaN     3          NaN          NaN   NaN    -1  231226  \n",
       "184983   NaN   NaN     5          NaN          NaN   NaN    -1  240102  \n",
       "184991     2   NaN     9    18.181818          NaN   NaN    -1  240102  \n",
       "377161     2     1    21     8.695652     4.347826   NaN    -1  240114  \n",
       "409184     1   NaN    16     5.882353          NaN   NaN    -1  240116  \n",
       "\n",
       "[5 rows x 23 columns]"
      ]
     },
     "execution_count": 39,
     "metadata": {},
     "output_type": "execute_result"
    }
   ],
   "source": [
    "df3 = df2.dropna(subset='기간출고량')\n",
    "df3.head()"
   ]
  },
  {
   "cell_type": "code",
   "execution_count": 130,
   "metadata": {},
   "outputs": [],
   "source": [
    "df2_fillna = df2.fillna(0)"
   ]
  },
  {
   "cell_type": "code",
   "execution_count": 148,
   "metadata": {},
   "outputs": [],
   "source": [
    "df_mean = df2.groupby(['매장코드', '매장명', '스타일코드', 'Date'])[['기간판매율[입고량대비]', '누적판매율[입고량대비]']].mean()"
   ]
  },
  {
   "cell_type": "code",
   "execution_count": 149,
   "metadata": {},
   "outputs": [],
   "source": [
    "df_mean = df_mean.reset_index()"
   ]
  },
  {
   "cell_type": "code",
   "execution_count": 150,
   "metadata": {},
   "outputs": [
    {
     "data": {
      "text/html": [
       "<div>\n",
       "<style scoped>\n",
       "    .dataframe tbody tr th:only-of-type {\n",
       "        vertical-align: middle;\n",
       "    }\n",
       "\n",
       "    .dataframe tbody tr th {\n",
       "        vertical-align: top;\n",
       "    }\n",
       "\n",
       "    .dataframe thead th {\n",
       "        text-align: right;\n",
       "    }\n",
       "</style>\n",
       "<table border=\"1\" class=\"dataframe\">\n",
       "  <thead>\n",
       "    <tr style=\"text-align: right;\">\n",
       "      <th></th>\n",
       "      <th>매장코드</th>\n",
       "      <th>매장명</th>\n",
       "      <th>스타일코드</th>\n",
       "      <th>Date</th>\n",
       "      <th>기간판매율[입고량대비]</th>\n",
       "      <th>누적판매율[입고량대비]</th>\n",
       "    </tr>\n",
       "  </thead>\n",
       "  <tbody>\n",
       "    <tr>\n",
       "      <th>0</th>\n",
       "      <td>A8LC</td>\n",
       "      <td>2001중계</td>\n",
       "      <td>SPTAE23M03</td>\n",
       "      <td>2023-12-21</td>\n",
       "      <td>NaN</td>\n",
       "      <td>NaN</td>\n",
       "    </tr>\n",
       "    <tr>\n",
       "      <th>1</th>\n",
       "      <td>A8LC</td>\n",
       "      <td>2001중계</td>\n",
       "      <td>SPTAE23M03</td>\n",
       "      <td>2023-12-22</td>\n",
       "      <td>NaN</td>\n",
       "      <td>NaN</td>\n",
       "    </tr>\n",
       "    <tr>\n",
       "      <th>2</th>\n",
       "      <td>A8LC</td>\n",
       "      <td>2001중계</td>\n",
       "      <td>SPTAE23M03</td>\n",
       "      <td>2023-12-23</td>\n",
       "      <td>NaN</td>\n",
       "      <td>NaN</td>\n",
       "    </tr>\n",
       "    <tr>\n",
       "      <th>3</th>\n",
       "      <td>A8LC</td>\n",
       "      <td>2001중계</td>\n",
       "      <td>SPTAE23M03</td>\n",
       "      <td>2023-12-24</td>\n",
       "      <td>NaN</td>\n",
       "      <td>NaN</td>\n",
       "    </tr>\n",
       "    <tr>\n",
       "      <th>4</th>\n",
       "      <td>A8LC</td>\n",
       "      <td>2001중계</td>\n",
       "      <td>SPTAE23M03</td>\n",
       "      <td>2023-12-25</td>\n",
       "      <td>NaN</td>\n",
       "      <td>NaN</td>\n",
       "    </tr>\n",
       "  </tbody>\n",
       "</table>\n",
       "</div>"
      ],
      "text/plain": [
       "   매장코드     매장명       스타일코드       Date  기간판매율[입고량대비]  누적판매율[입고량대비]\n",
       "0  A8LC  2001중계  SPTAE23M03 2023-12-21           NaN           NaN\n",
       "1  A8LC  2001중계  SPTAE23M03 2023-12-22           NaN           NaN\n",
       "2  A8LC  2001중계  SPTAE23M03 2023-12-23           NaN           NaN\n",
       "3  A8LC  2001중계  SPTAE23M03 2023-12-24           NaN           NaN\n",
       "4  A8LC  2001중계  SPTAE23M03 2023-12-25           NaN           NaN"
      ]
     },
     "execution_count": 150,
     "metadata": {},
     "output_type": "execute_result"
    }
   ],
   "source": [
    "df_mean.head()"
   ]
  },
  {
   "cell_type": "code",
   "execution_count": 134,
   "metadata": {},
   "outputs": [],
   "source": [
    "df_mean = df2.groupby(['매장코드', '매장명', '스타일코드', 'Date'])[['기간판매율[입고량대비]', '누적판매율[입고량대비]']].mean()"
   ]
  },
  {
   "cell_type": "code",
   "execution_count": 152,
   "metadata": {},
   "outputs": [
    {
     "data": {
      "text/html": [
       "<div>\n",
       "<style scoped>\n",
       "    .dataframe tbody tr th:only-of-type {\n",
       "        vertical-align: middle;\n",
       "    }\n",
       "\n",
       "    .dataframe tbody tr th {\n",
       "        vertical-align: top;\n",
       "    }\n",
       "\n",
       "    .dataframe thead th {\n",
       "        text-align: right;\n",
       "    }\n",
       "</style>\n",
       "<table border=\"1\" class=\"dataframe\">\n",
       "  <thead>\n",
       "    <tr style=\"text-align: right;\">\n",
       "      <th></th>\n",
       "      <th>매장코드</th>\n",
       "      <th>매장명</th>\n",
       "      <th>스타일코드</th>\n",
       "      <th>Date</th>\n",
       "      <th>기간판매율[입고량대비]</th>\n",
       "      <th>누적판매율[입고량대비]</th>\n",
       "    </tr>\n",
       "  </thead>\n",
       "  <tbody>\n",
       "    <tr>\n",
       "      <th>0</th>\n",
       "      <td>A8LC</td>\n",
       "      <td>2001중계</td>\n",
       "      <td>SPTAE23M03</td>\n",
       "      <td>2023-12-21</td>\n",
       "      <td>NaN</td>\n",
       "      <td>NaN</td>\n",
       "    </tr>\n",
       "    <tr>\n",
       "      <th>1</th>\n",
       "      <td>A8LC</td>\n",
       "      <td>2001중계</td>\n",
       "      <td>SPTAE23M03</td>\n",
       "      <td>2023-12-22</td>\n",
       "      <td>NaN</td>\n",
       "      <td>NaN</td>\n",
       "    </tr>\n",
       "    <tr>\n",
       "      <th>2</th>\n",
       "      <td>A8LC</td>\n",
       "      <td>2001중계</td>\n",
       "      <td>SPTAE23M03</td>\n",
       "      <td>2023-12-23</td>\n",
       "      <td>NaN</td>\n",
       "      <td>NaN</td>\n",
       "    </tr>\n",
       "    <tr>\n",
       "      <th>3</th>\n",
       "      <td>A8LC</td>\n",
       "      <td>2001중계</td>\n",
       "      <td>SPTAE23M03</td>\n",
       "      <td>2023-12-24</td>\n",
       "      <td>NaN</td>\n",
       "      <td>NaN</td>\n",
       "    </tr>\n",
       "    <tr>\n",
       "      <th>4</th>\n",
       "      <td>A8LC</td>\n",
       "      <td>2001중계</td>\n",
       "      <td>SPTAE23M03</td>\n",
       "      <td>2023-12-25</td>\n",
       "      <td>NaN</td>\n",
       "      <td>NaN</td>\n",
       "    </tr>\n",
       "  </tbody>\n",
       "</table>\n",
       "</div>"
      ],
      "text/plain": [
       "   매장코드     매장명       스타일코드       Date  기간판매율[입고량대비]  누적판매율[입고량대비]\n",
       "0  A8LC  2001중계  SPTAE23M03 2023-12-21           NaN           NaN\n",
       "1  A8LC  2001중계  SPTAE23M03 2023-12-22           NaN           NaN\n",
       "2  A8LC  2001중계  SPTAE23M03 2023-12-23           NaN           NaN\n",
       "3  A8LC  2001중계  SPTAE23M03 2023-12-24           NaN           NaN\n",
       "4  A8LC  2001중계  SPTAE23M03 2023-12-25           NaN           NaN"
      ]
     },
     "execution_count": 152,
     "metadata": {},
     "output_type": "execute_result"
    }
   ],
   "source": [
    "df_mean.head()"
   ]
  },
  {
   "cell_type": "code",
   "execution_count": 135,
   "metadata": {},
   "outputs": [
    {
     "data": {
      "text/plain": [
       "스타일코드\n",
       "SPTAE23M03    14.379853\n",
       "SPTAE23M04    10.589850\n",
       "SPTAEA9M01    14.619301\n",
       "SPTAEA9M02    15.602671\n",
       "Name: 기간판매율[입고량대비], dtype: float64"
      ]
     },
     "execution_count": 135,
     "metadata": {},
     "output_type": "execute_result"
    }
   ],
   "source": [
    "df_mean2 = df_mean.groupby(['스타일코드', 'Date'])['기간판매율[입고량대비]'].std()\n",
    "df_mean2.groupby('스타일코드').mean()"
   ]
  },
  {
   "cell_type": "code",
   "execution_count": 145,
   "metadata": {},
   "outputs": [
    {
     "data": {
      "text/plain": [
       "15.110986"
      ]
     },
     "execution_count": 145,
     "metadata": {},
     "output_type": "execute_result"
    }
   ],
   "source": [
    "a = (14.619301 + 15.602671)/2\n",
    "a"
   ]
  },
  {
   "cell_type": "code",
   "execution_count": 146,
   "metadata": {},
   "outputs": [
    {
     "data": {
      "text/plain": [
       "12.484851500000001"
      ]
     },
     "execution_count": 146,
     "metadata": {},
     "output_type": "execute_result"
    }
   ],
   "source": [
    "b = (14.379853+10.589850)/2\n",
    "b"
   ]
  },
  {
   "cell_type": "code",
   "execution_count": 147,
   "metadata": {},
   "outputs": [
    {
     "data": {
      "text/plain": [
       "0.17378975137691208"
      ]
     },
     "execution_count": 147,
     "metadata": {},
     "output_type": "execute_result"
    }
   ],
   "source": [
    "(a-b)/a"
   ]
  },
  {
   "cell_type": "code",
   "execution_count": null,
   "metadata": {},
   "outputs": [],
   "source": []
  },
  {
   "cell_type": "code",
   "execution_count": 139,
   "metadata": {},
   "outputs": [],
   "source": [
    "df_mean = df_mean.reset_index()"
   ]
  },
  {
   "cell_type": "code",
   "execution_count": 143,
   "metadata": {},
   "outputs": [
    {
     "data": {
      "text/plain": [
       "스타일코드\n",
       "SPTAE23M03     9.831807\n",
       "SPTAE23M04     7.602375\n",
       "SPTAEA9M01     7.712535\n",
       "SPTAEA9M02    11.070773\n",
       "Name: 누적판매율[입고량대비], dtype: float64"
      ]
     },
     "execution_count": 143,
     "metadata": {},
     "output_type": "execute_result"
    }
   ],
   "source": [
    "df_mean[df_mean['Date']=='2024-01-11'].groupby('스타일코드')['누적판매율[입고량대비]'].std()"
   ]
  },
  {
   "cell_type": "code",
   "execution_count": 144,
   "metadata": {},
   "outputs": [
    {
     "data": {
      "text/plain": [
       "스타일코드\n",
       "SPTAE23M03    9.851742\n",
       "SPTAE23M04    7.942056\n",
       "SPTAEA9M01    8.194960\n",
       "SPTAEA9M02    9.004272\n",
       "Name: 누적판매율[입고량대비], dtype: float64"
      ]
     },
     "execution_count": 144,
     "metadata": {},
     "output_type": "execute_result"
    }
   ],
   "source": [
    "df_mean[df_mean['Date']=='2024-01-20'].groupby('스타일코드')['누적판매율[입고량대비]'].std()"
   ]
  },
  {
   "cell_type": "code",
   "execution_count": null,
   "metadata": {},
   "outputs": [],
   "source": []
  },
  {
   "cell_type": "code",
   "execution_count": 95,
   "metadata": {},
   "outputs": [],
   "source": [
    "df_mean[(df_mean['Date'] == '2024-01-20') & (df_mean['스타일코드']=='SPTAEA9M02')].to_excel('데이터살펴보기.xlsx')"
   ]
  },
  {
   "cell_type": "code",
   "execution_count": 86,
   "metadata": {},
   "outputs": [
    {
     "data": {
      "text/plain": [
       "15.110986"
      ]
     },
     "execution_count": 86,
     "metadata": {},
     "output_type": "execute_result"
    }
   ],
   "source": [
    "a = (14.619301+15.602671)/2\n",
    "a"
   ]
  },
  {
   "cell_type": "code",
   "execution_count": 87,
   "metadata": {},
   "outputs": [
    {
     "data": {
      "text/plain": [
       "12.484851500000001"
      ]
     },
     "execution_count": 87,
     "metadata": {},
     "output_type": "execute_result"
    }
   ],
   "source": [
    "b = (14.379853+10.589850)/2\n",
    "b"
   ]
  },
  {
   "cell_type": "code",
   "execution_count": 88,
   "metadata": {},
   "outputs": [
    {
     "data": {
      "text/plain": [
       "0.17378975137691208"
      ]
     },
     "execution_count": 88,
     "metadata": {},
     "output_type": "execute_result"
    }
   ],
   "source": [
    "(a-b)/a"
   ]
  },
  {
   "cell_type": "code",
   "execution_count": 97,
   "metadata": {},
   "outputs": [],
   "source": [
    "pd.set_option('display.max_columns',None)"
   ]
  },
  {
   "cell_type": "code",
   "execution_count": 98,
   "metadata": {},
   "outputs": [
    {
     "data": {
      "text/html": [
       "<div>\n",
       "<style scoped>\n",
       "    .dataframe tbody tr th:only-of-type {\n",
       "        vertical-align: middle;\n",
       "    }\n",
       "\n",
       "    .dataframe tbody tr th {\n",
       "        vertical-align: top;\n",
       "    }\n",
       "\n",
       "    .dataframe thead th {\n",
       "        text-align: right;\n",
       "    }\n",
       "</style>\n",
       "<table border=\"1\" class=\"dataframe\">\n",
       "  <thead>\n",
       "    <tr style=\"text-align: right;\">\n",
       "      <th></th>\n",
       "      <th>매장코드</th>\n",
       "      <th>매장명</th>\n",
       "      <th>스타일코드</th>\n",
       "      <th>스타일명</th>\n",
       "      <th>최초입고일</th>\n",
       "      <th>최종입고일</th>\n",
       "      <th>최초출고일</th>\n",
       "      <th>최종출고일</th>\n",
       "      <th>현판가</th>\n",
       "      <th>예판가</th>\n",
       "      <th>결판가</th>\n",
       "      <th>단품코드</th>\n",
       "      <th>누적매장순수입고량</th>\n",
       "      <th>누적입고량</th>\n",
       "      <th>누적출고량</th>\n",
       "      <th>누적판매량</th>\n",
       "      <th>기간판매량</th>\n",
       "      <th>잔여재고량</th>\n",
       "      <th>누적판매율[입고량대비]</th>\n",
       "      <th>기간판매율[입고량대비]</th>\n",
       "      <th>기간입고량</th>\n",
       "      <th>기간출고량</th>\n",
       "      <th>Date</th>\n",
       "      <th>Week</th>\n",
       "    </tr>\n",
       "  </thead>\n",
       "  <tbody>\n",
       "    <tr>\n",
       "      <th>483982</th>\n",
       "      <td>A8MB</td>\n",
       "      <td>NC인천</td>\n",
       "      <td>SPTAEA9M02</td>\n",
       "      <td>[에센셜] 롱 테이퍼드 슬랙스</td>\n",
       "      <td>2023-12-04</td>\n",
       "      <td>2023-12-04</td>\n",
       "      <td>2023-12-11</td>\n",
       "      <td>2024-01-17</td>\n",
       "      <td>39900</td>\n",
       "      <td>39900</td>\n",
       "      <td>39900</td>\n",
       "      <td>SPTAEA9M0216074</td>\n",
       "      <td>3</td>\n",
       "      <td>3</td>\n",
       "      <td>NaN</td>\n",
       "      <td>NaN</td>\n",
       "      <td>NaN</td>\n",
       "      <td>3</td>\n",
       "      <td>NaN</td>\n",
       "      <td>NaN</td>\n",
       "      <td>NaN</td>\n",
       "      <td>NaN</td>\n",
       "      <td>2024-01-20</td>\n",
       "      <td>0</td>\n",
       "    </tr>\n",
       "    <tr>\n",
       "      <th>483983</th>\n",
       "      <td>A8MB</td>\n",
       "      <td>NC인천</td>\n",
       "      <td>SPTAEA9M02</td>\n",
       "      <td>[에센셜] 롱 테이퍼드 슬랙스</td>\n",
       "      <td>2023-12-04</td>\n",
       "      <td>2023-12-04</td>\n",
       "      <td>2023-12-11</td>\n",
       "      <td>2024-01-17</td>\n",
       "      <td>39900</td>\n",
       "      <td>39900</td>\n",
       "      <td>39900</td>\n",
       "      <td>SPTAEA9M0216078</td>\n",
       "      <td>5</td>\n",
       "      <td>5</td>\n",
       "      <td>NaN</td>\n",
       "      <td>NaN</td>\n",
       "      <td>NaN</td>\n",
       "      <td>5</td>\n",
       "      <td>NaN</td>\n",
       "      <td>NaN</td>\n",
       "      <td>NaN</td>\n",
       "      <td>NaN</td>\n",
       "      <td>2024-01-20</td>\n",
       "      <td>0</td>\n",
       "    </tr>\n",
       "    <tr>\n",
       "      <th>483984</th>\n",
       "      <td>A8MB</td>\n",
       "      <td>NC인천</td>\n",
       "      <td>SPTAEA9M02</td>\n",
       "      <td>[에센셜] 롱 테이퍼드 슬랙스</td>\n",
       "      <td>2023-12-04</td>\n",
       "      <td>2023-12-04</td>\n",
       "      <td>2023-12-11</td>\n",
       "      <td>2024-01-17</td>\n",
       "      <td>39900</td>\n",
       "      <td>39900</td>\n",
       "      <td>39900</td>\n",
       "      <td>SPTAEA9M0216082</td>\n",
       "      <td>7</td>\n",
       "      <td>7</td>\n",
       "      <td>NaN</td>\n",
       "      <td>NaN</td>\n",
       "      <td>NaN</td>\n",
       "      <td>7</td>\n",
       "      <td>NaN</td>\n",
       "      <td>NaN</td>\n",
       "      <td>NaN</td>\n",
       "      <td>NaN</td>\n",
       "      <td>2024-01-20</td>\n",
       "      <td>0</td>\n",
       "    </tr>\n",
       "    <tr>\n",
       "      <th>483985</th>\n",
       "      <td>A8MB</td>\n",
       "      <td>NC인천</td>\n",
       "      <td>SPTAEA9M02</td>\n",
       "      <td>[에센셜] 롱 테이퍼드 슬랙스</td>\n",
       "      <td>2023-12-04</td>\n",
       "      <td>2023-12-04</td>\n",
       "      <td>2023-12-11</td>\n",
       "      <td>2024-01-17</td>\n",
       "      <td>39900</td>\n",
       "      <td>39900</td>\n",
       "      <td>39900</td>\n",
       "      <td>SPTAEA9M0216086</td>\n",
       "      <td>6</td>\n",
       "      <td>6</td>\n",
       "      <td>NaN</td>\n",
       "      <td>NaN</td>\n",
       "      <td>NaN</td>\n",
       "      <td>6</td>\n",
       "      <td>NaN</td>\n",
       "      <td>NaN</td>\n",
       "      <td>NaN</td>\n",
       "      <td>NaN</td>\n",
       "      <td>2024-01-20</td>\n",
       "      <td>0</td>\n",
       "    </tr>\n",
       "    <tr>\n",
       "      <th>483986</th>\n",
       "      <td>A8MB</td>\n",
       "      <td>NC인천</td>\n",
       "      <td>SPTAEA9M02</td>\n",
       "      <td>[에센셜] 롱 테이퍼드 슬랙스</td>\n",
       "      <td>2023-12-04</td>\n",
       "      <td>2023-12-04</td>\n",
       "      <td>2023-12-11</td>\n",
       "      <td>2024-01-17</td>\n",
       "      <td>39900</td>\n",
       "      <td>39900</td>\n",
       "      <td>39900</td>\n",
       "      <td>SPTAEA9M0216090</td>\n",
       "      <td>3</td>\n",
       "      <td>3</td>\n",
       "      <td>NaN</td>\n",
       "      <td>NaN</td>\n",
       "      <td>NaN</td>\n",
       "      <td>3</td>\n",
       "      <td>NaN</td>\n",
       "      <td>NaN</td>\n",
       "      <td>NaN</td>\n",
       "      <td>NaN</td>\n",
       "      <td>2024-01-20</td>\n",
       "      <td>0</td>\n",
       "    </tr>\n",
       "    <tr>\n",
       "      <th>483987</th>\n",
       "      <td>A8MB</td>\n",
       "      <td>NC인천</td>\n",
       "      <td>SPTAEA9M02</td>\n",
       "      <td>[에센셜] 롱 테이퍼드 슬랙스</td>\n",
       "      <td>2023-12-04</td>\n",
       "      <td>2023-12-04</td>\n",
       "      <td>2023-12-11</td>\n",
       "      <td>2024-01-17</td>\n",
       "      <td>39900</td>\n",
       "      <td>39900</td>\n",
       "      <td>39900</td>\n",
       "      <td>SPTAEA9M0217074</td>\n",
       "      <td>3</td>\n",
       "      <td>3</td>\n",
       "      <td>NaN</td>\n",
       "      <td>NaN</td>\n",
       "      <td>NaN</td>\n",
       "      <td>3</td>\n",
       "      <td>NaN</td>\n",
       "      <td>NaN</td>\n",
       "      <td>NaN</td>\n",
       "      <td>NaN</td>\n",
       "      <td>2024-01-20</td>\n",
       "      <td>0</td>\n",
       "    </tr>\n",
       "    <tr>\n",
       "      <th>483988</th>\n",
       "      <td>A8MB</td>\n",
       "      <td>NC인천</td>\n",
       "      <td>SPTAEA9M02</td>\n",
       "      <td>[에센셜] 롱 테이퍼드 슬랙스</td>\n",
       "      <td>2023-12-04</td>\n",
       "      <td>2023-12-04</td>\n",
       "      <td>2023-12-11</td>\n",
       "      <td>2024-01-17</td>\n",
       "      <td>39900</td>\n",
       "      <td>39900</td>\n",
       "      <td>39900</td>\n",
       "      <td>SPTAEA9M0217078</td>\n",
       "      <td>5</td>\n",
       "      <td>5</td>\n",
       "      <td>NaN</td>\n",
       "      <td>NaN</td>\n",
       "      <td>NaN</td>\n",
       "      <td>5</td>\n",
       "      <td>NaN</td>\n",
       "      <td>NaN</td>\n",
       "      <td>NaN</td>\n",
       "      <td>NaN</td>\n",
       "      <td>2024-01-20</td>\n",
       "      <td>0</td>\n",
       "    </tr>\n",
       "    <tr>\n",
       "      <th>483989</th>\n",
       "      <td>A8MB</td>\n",
       "      <td>NC인천</td>\n",
       "      <td>SPTAEA9M02</td>\n",
       "      <td>[에센셜] 롱 테이퍼드 슬랙스</td>\n",
       "      <td>2023-12-04</td>\n",
       "      <td>2023-12-04</td>\n",
       "      <td>2023-12-11</td>\n",
       "      <td>2024-01-17</td>\n",
       "      <td>39900</td>\n",
       "      <td>39900</td>\n",
       "      <td>39900</td>\n",
       "      <td>SPTAEA9M0217082</td>\n",
       "      <td>7</td>\n",
       "      <td>7</td>\n",
       "      <td>NaN</td>\n",
       "      <td>NaN</td>\n",
       "      <td>NaN</td>\n",
       "      <td>7</td>\n",
       "      <td>NaN</td>\n",
       "      <td>NaN</td>\n",
       "      <td>NaN</td>\n",
       "      <td>NaN</td>\n",
       "      <td>2024-01-20</td>\n",
       "      <td>0</td>\n",
       "    </tr>\n",
       "    <tr>\n",
       "      <th>483990</th>\n",
       "      <td>A8MB</td>\n",
       "      <td>NC인천</td>\n",
       "      <td>SPTAEA9M02</td>\n",
       "      <td>[에센셜] 롱 테이퍼드 슬랙스</td>\n",
       "      <td>2023-12-04</td>\n",
       "      <td>2023-12-04</td>\n",
       "      <td>2023-12-11</td>\n",
       "      <td>2024-01-17</td>\n",
       "      <td>39900</td>\n",
       "      <td>39900</td>\n",
       "      <td>39900</td>\n",
       "      <td>SPTAEA9M0217086</td>\n",
       "      <td>6</td>\n",
       "      <td>6</td>\n",
       "      <td>NaN</td>\n",
       "      <td>NaN</td>\n",
       "      <td>NaN</td>\n",
       "      <td>6</td>\n",
       "      <td>NaN</td>\n",
       "      <td>NaN</td>\n",
       "      <td>NaN</td>\n",
       "      <td>NaN</td>\n",
       "      <td>2024-01-20</td>\n",
       "      <td>0</td>\n",
       "    </tr>\n",
       "    <tr>\n",
       "      <th>483991</th>\n",
       "      <td>A8MB</td>\n",
       "      <td>NC인천</td>\n",
       "      <td>SPTAEA9M02</td>\n",
       "      <td>[에센셜] 롱 테이퍼드 슬랙스</td>\n",
       "      <td>2023-12-04</td>\n",
       "      <td>2023-12-04</td>\n",
       "      <td>2023-12-11</td>\n",
       "      <td>2024-01-17</td>\n",
       "      <td>39900</td>\n",
       "      <td>39900</td>\n",
       "      <td>39900</td>\n",
       "      <td>SPTAEA9M0217090</td>\n",
       "      <td>3</td>\n",
       "      <td>3</td>\n",
       "      <td>NaN</td>\n",
       "      <td>NaN</td>\n",
       "      <td>NaN</td>\n",
       "      <td>3</td>\n",
       "      <td>NaN</td>\n",
       "      <td>NaN</td>\n",
       "      <td>NaN</td>\n",
       "      <td>NaN</td>\n",
       "      <td>2024-01-20</td>\n",
       "      <td>0</td>\n",
       "    </tr>\n",
       "    <tr>\n",
       "      <th>483992</th>\n",
       "      <td>A8MB</td>\n",
       "      <td>NC인천</td>\n",
       "      <td>SPTAEA9M02</td>\n",
       "      <td>[에센셜] 롱 테이퍼드 슬랙스</td>\n",
       "      <td>2023-12-04</td>\n",
       "      <td>2023-12-04</td>\n",
       "      <td>2023-12-11</td>\n",
       "      <td>2024-01-17</td>\n",
       "      <td>39900</td>\n",
       "      <td>39900</td>\n",
       "      <td>39900</td>\n",
       "      <td>SPTAEA9M0219074</td>\n",
       "      <td>3</td>\n",
       "      <td>3</td>\n",
       "      <td>NaN</td>\n",
       "      <td>NaN</td>\n",
       "      <td>NaN</td>\n",
       "      <td>3</td>\n",
       "      <td>NaN</td>\n",
       "      <td>NaN</td>\n",
       "      <td>NaN</td>\n",
       "      <td>NaN</td>\n",
       "      <td>2024-01-20</td>\n",
       "      <td>0</td>\n",
       "    </tr>\n",
       "    <tr>\n",
       "      <th>483993</th>\n",
       "      <td>A8MB</td>\n",
       "      <td>NC인천</td>\n",
       "      <td>SPTAEA9M02</td>\n",
       "      <td>[에센셜] 롱 테이퍼드 슬랙스</td>\n",
       "      <td>2023-12-04</td>\n",
       "      <td>2023-12-04</td>\n",
       "      <td>2023-12-11</td>\n",
       "      <td>2024-01-17</td>\n",
       "      <td>39900</td>\n",
       "      <td>39900</td>\n",
       "      <td>39900</td>\n",
       "      <td>SPTAEA9M0219078</td>\n",
       "      <td>5</td>\n",
       "      <td>5</td>\n",
       "      <td>NaN</td>\n",
       "      <td>NaN</td>\n",
       "      <td>NaN</td>\n",
       "      <td>5</td>\n",
       "      <td>NaN</td>\n",
       "      <td>NaN</td>\n",
       "      <td>NaN</td>\n",
       "      <td>NaN</td>\n",
       "      <td>2024-01-20</td>\n",
       "      <td>0</td>\n",
       "    </tr>\n",
       "    <tr>\n",
       "      <th>483994</th>\n",
       "      <td>A8MB</td>\n",
       "      <td>NC인천</td>\n",
       "      <td>SPTAEA9M02</td>\n",
       "      <td>[에센셜] 롱 테이퍼드 슬랙스</td>\n",
       "      <td>2023-12-04</td>\n",
       "      <td>2023-12-04</td>\n",
       "      <td>2023-12-11</td>\n",
       "      <td>2024-01-17</td>\n",
       "      <td>39900</td>\n",
       "      <td>39900</td>\n",
       "      <td>39900</td>\n",
       "      <td>SPTAEA9M0219082</td>\n",
       "      <td>7</td>\n",
       "      <td>7</td>\n",
       "      <td>NaN</td>\n",
       "      <td>NaN</td>\n",
       "      <td>NaN</td>\n",
       "      <td>7</td>\n",
       "      <td>NaN</td>\n",
       "      <td>NaN</td>\n",
       "      <td>NaN</td>\n",
       "      <td>NaN</td>\n",
       "      <td>2024-01-20</td>\n",
       "      <td>0</td>\n",
       "    </tr>\n",
       "    <tr>\n",
       "      <th>483995</th>\n",
       "      <td>A8MB</td>\n",
       "      <td>NC인천</td>\n",
       "      <td>SPTAEA9M02</td>\n",
       "      <td>[에센셜] 롱 테이퍼드 슬랙스</td>\n",
       "      <td>2023-12-04</td>\n",
       "      <td>2023-12-04</td>\n",
       "      <td>2023-12-11</td>\n",
       "      <td>2024-01-17</td>\n",
       "      <td>39900</td>\n",
       "      <td>39900</td>\n",
       "      <td>39900</td>\n",
       "      <td>SPTAEA9M0219086</td>\n",
       "      <td>6</td>\n",
       "      <td>6</td>\n",
       "      <td>NaN</td>\n",
       "      <td>NaN</td>\n",
       "      <td>NaN</td>\n",
       "      <td>6</td>\n",
       "      <td>NaN</td>\n",
       "      <td>NaN</td>\n",
       "      <td>NaN</td>\n",
       "      <td>NaN</td>\n",
       "      <td>2024-01-20</td>\n",
       "      <td>0</td>\n",
       "    </tr>\n",
       "    <tr>\n",
       "      <th>483996</th>\n",
       "      <td>A8MB</td>\n",
       "      <td>NC인천</td>\n",
       "      <td>SPTAEA9M02</td>\n",
       "      <td>[에센셜] 롱 테이퍼드 슬랙스</td>\n",
       "      <td>2023-12-04</td>\n",
       "      <td>2023-12-04</td>\n",
       "      <td>2023-12-11</td>\n",
       "      <td>2024-01-17</td>\n",
       "      <td>39900</td>\n",
       "      <td>39900</td>\n",
       "      <td>39900</td>\n",
       "      <td>SPTAEA9M0219090</td>\n",
       "      <td>3</td>\n",
       "      <td>3</td>\n",
       "      <td>NaN</td>\n",
       "      <td>NaN</td>\n",
       "      <td>NaN</td>\n",
       "      <td>3</td>\n",
       "      <td>NaN</td>\n",
       "      <td>NaN</td>\n",
       "      <td>NaN</td>\n",
       "      <td>NaN</td>\n",
       "      <td>2024-01-20</td>\n",
       "      <td>0</td>\n",
       "    </tr>\n",
       "  </tbody>\n",
       "</table>\n",
       "</div>"
      ],
      "text/plain": [
       "        매장코드   매장명       스타일코드              스타일명       최초입고일       최종입고일  \\\n",
       "483982  A8MB  NC인천  SPTAEA9M02  [에센셜] 롱 테이퍼드 슬랙스  2023-12-04  2023-12-04   \n",
       "483983  A8MB  NC인천  SPTAEA9M02  [에센셜] 롱 테이퍼드 슬랙스  2023-12-04  2023-12-04   \n",
       "483984  A8MB  NC인천  SPTAEA9M02  [에센셜] 롱 테이퍼드 슬랙스  2023-12-04  2023-12-04   \n",
       "483985  A8MB  NC인천  SPTAEA9M02  [에센셜] 롱 테이퍼드 슬랙스  2023-12-04  2023-12-04   \n",
       "483986  A8MB  NC인천  SPTAEA9M02  [에센셜] 롱 테이퍼드 슬랙스  2023-12-04  2023-12-04   \n",
       "483987  A8MB  NC인천  SPTAEA9M02  [에센셜] 롱 테이퍼드 슬랙스  2023-12-04  2023-12-04   \n",
       "483988  A8MB  NC인천  SPTAEA9M02  [에센셜] 롱 테이퍼드 슬랙스  2023-12-04  2023-12-04   \n",
       "483989  A8MB  NC인천  SPTAEA9M02  [에센셜] 롱 테이퍼드 슬랙스  2023-12-04  2023-12-04   \n",
       "483990  A8MB  NC인천  SPTAEA9M02  [에센셜] 롱 테이퍼드 슬랙스  2023-12-04  2023-12-04   \n",
       "483991  A8MB  NC인천  SPTAEA9M02  [에센셜] 롱 테이퍼드 슬랙스  2023-12-04  2023-12-04   \n",
       "483992  A8MB  NC인천  SPTAEA9M02  [에센셜] 롱 테이퍼드 슬랙스  2023-12-04  2023-12-04   \n",
       "483993  A8MB  NC인천  SPTAEA9M02  [에센셜] 롱 테이퍼드 슬랙스  2023-12-04  2023-12-04   \n",
       "483994  A8MB  NC인천  SPTAEA9M02  [에센셜] 롱 테이퍼드 슬랙스  2023-12-04  2023-12-04   \n",
       "483995  A8MB  NC인천  SPTAEA9M02  [에센셜] 롱 테이퍼드 슬랙스  2023-12-04  2023-12-04   \n",
       "483996  A8MB  NC인천  SPTAEA9M02  [에센셜] 롱 테이퍼드 슬랙스  2023-12-04  2023-12-04   \n",
       "\n",
       "             최초출고일       최종출고일    현판가    예판가    결판가             단품코드  \\\n",
       "483982  2023-12-11  2024-01-17  39900  39900  39900  SPTAEA9M0216074   \n",
       "483983  2023-12-11  2024-01-17  39900  39900  39900  SPTAEA9M0216078   \n",
       "483984  2023-12-11  2024-01-17  39900  39900  39900  SPTAEA9M0216082   \n",
       "483985  2023-12-11  2024-01-17  39900  39900  39900  SPTAEA9M0216086   \n",
       "483986  2023-12-11  2024-01-17  39900  39900  39900  SPTAEA9M0216090   \n",
       "483987  2023-12-11  2024-01-17  39900  39900  39900  SPTAEA9M0217074   \n",
       "483988  2023-12-11  2024-01-17  39900  39900  39900  SPTAEA9M0217078   \n",
       "483989  2023-12-11  2024-01-17  39900  39900  39900  SPTAEA9M0217082   \n",
       "483990  2023-12-11  2024-01-17  39900  39900  39900  SPTAEA9M0217086   \n",
       "483991  2023-12-11  2024-01-17  39900  39900  39900  SPTAEA9M0217090   \n",
       "483992  2023-12-11  2024-01-17  39900  39900  39900  SPTAEA9M0219074   \n",
       "483993  2023-12-11  2024-01-17  39900  39900  39900  SPTAEA9M0219078   \n",
       "483994  2023-12-11  2024-01-17  39900  39900  39900  SPTAEA9M0219082   \n",
       "483995  2023-12-11  2024-01-17  39900  39900  39900  SPTAEA9M0219086   \n",
       "483996  2023-12-11  2024-01-17  39900  39900  39900  SPTAEA9M0219090   \n",
       "\n",
       "       누적매장순수입고량 누적입고량 누적출고량 누적판매량 기간판매량 잔여재고량  누적판매율[입고량대비]  기간판매율[입고량대비]  \\\n",
       "483982         3     3   NaN   NaN   NaN     3           NaN           NaN   \n",
       "483983         5     5   NaN   NaN   NaN     5           NaN           NaN   \n",
       "483984         7     7   NaN   NaN   NaN     7           NaN           NaN   \n",
       "483985         6     6   NaN   NaN   NaN     6           NaN           NaN   \n",
       "483986         3     3   NaN   NaN   NaN     3           NaN           NaN   \n",
       "483987         3     3   NaN   NaN   NaN     3           NaN           NaN   \n",
       "483988         5     5   NaN   NaN   NaN     5           NaN           NaN   \n",
       "483989         7     7   NaN   NaN   NaN     7           NaN           NaN   \n",
       "483990         6     6   NaN   NaN   NaN     6           NaN           NaN   \n",
       "483991         3     3   NaN   NaN   NaN     3           NaN           NaN   \n",
       "483992         3     3   NaN   NaN   NaN     3           NaN           NaN   \n",
       "483993         5     5   NaN   NaN   NaN     5           NaN           NaN   \n",
       "483994         7     7   NaN   NaN   NaN     7           NaN           NaN   \n",
       "483995         6     6   NaN   NaN   NaN     6           NaN           NaN   \n",
       "483996         3     3   NaN   NaN   NaN     3           NaN           NaN   \n",
       "\n",
       "       기간입고량 기간출고량       Date  Week  \n",
       "483982   NaN   NaN 2024-01-20     0  \n",
       "483983   NaN   NaN 2024-01-20     0  \n",
       "483984   NaN   NaN 2024-01-20     0  \n",
       "483985   NaN   NaN 2024-01-20     0  \n",
       "483986   NaN   NaN 2024-01-20     0  \n",
       "483987   NaN   NaN 2024-01-20     0  \n",
       "483988   NaN   NaN 2024-01-20     0  \n",
       "483989   NaN   NaN 2024-01-20     0  \n",
       "483990   NaN   NaN 2024-01-20     0  \n",
       "483991   NaN   NaN 2024-01-20     0  \n",
       "483992   NaN   NaN 2024-01-20     0  \n",
       "483993   NaN   NaN 2024-01-20     0  \n",
       "483994   NaN   NaN 2024-01-20     0  \n",
       "483995   NaN   NaN 2024-01-20     0  \n",
       "483996   NaN   NaN 2024-01-20     0  "
      ]
     },
     "execution_count": 98,
     "metadata": {},
     "output_type": "execute_result"
    }
   ],
   "source": [
    "df[(df['매장코드'] == 'A8MB')&(df['스타일코드']=='SPTAEA9M02')&(df['Date']=='2024-01-20')]"
   ]
  },
  {
   "cell_type": "code",
   "execution_count": null,
   "metadata": {},
   "outputs": [],
   "source": []
  },
  {
   "cell_type": "markdown",
   "metadata": {},
   "source": [
    "# 3. Week 별로"
   ]
  },
  {
   "cell_type": "code",
   "execution_count": 43,
   "metadata": {},
   "outputs": [
    {
     "name": "stderr",
     "output_type": "stream",
     "text": [
      "/var/folders/x2/c6gjhmqs6h5bl_d26ctv923h0000gn/T/ipykernel_11387/3670749371.py:4: SettingWithCopyWarning: \n",
      "A value is trying to be set on a copy of a slice from a DataFrame.\n",
      "Try using .loc[row_indexer,col_indexer] = value instead\n",
      "\n",
      "See the caveats in the documentation: https://pandas.pydata.org/pandas-docs/stable/user_guide/indexing.html#returning-a-view-versus-a-copy\n",
      "  df['Date'] = pd.to_datetime(df['Date'], format='%y%m%d')\n",
      "/var/folders/x2/c6gjhmqs6h5bl_d26ctv923h0000gn/T/ipykernel_11387/3670749371.py:7: SettingWithCopyWarning: \n",
      "A value is trying to be set on a copy of a slice from a DataFrame.\n",
      "Try using .loc[row_indexer,col_indexer] = value instead\n",
      "\n",
      "See the caveats in the documentation: https://pandas.pydata.org/pandas-docs/stable/user_guide/indexing.html#returning-a-view-versus-a-copy\n",
      "  df['Week'] = 0\n"
     ]
    }
   ],
   "source": [
    "import pandas as pd\n",
    "\n",
    "# Assuming 'Date' is in datetime format\n",
    "df['Date'] = pd.to_datetime(df['Date'], format='%y%m%d')\n",
    "\n",
    "# Create a new column 'Week' and initialize it with 0\n",
    "df['Week'] = 0\n",
    "\n",
    "# Assign week numbers based on date ranges\n",
    "df.loc[(df['Date'] >= '2023-12-21') & (df['Date'] <= '2023-12-24'), 'Week'] = 1\n",
    "df.loc[(df['Date'] >= '2023-12-25') & (df['Date'] <= '2023-12-31'), 'Week'] = 2\n",
    "df.loc[(df['Date'] >= '2024-01-01') & (df['Date'] <= '2024-01-07'), 'Week'] = 3\n",
    "df.loc[(df['Date'] >= '2024-01-08') & (df['Date'] <= '2024-01-11'), 'Week'] = 4\n",
    "df.loc[(df['Date'] >= '2024-01-09') & (df['Date'] <= '2024-01-19'), 'Week'] = 5"
   ]
  },
  {
   "cell_type": "code",
   "execution_count": 44,
   "metadata": {},
   "outputs": [],
   "source": [
    "df2 = df[(df['Week'] != 0)]\n",
    "df_mean = df2.groupby(['매장코드', '매장명', '스타일코드', 'Week'])['기간판매율[입고량대비]'].mean()\n",
    "df_mean = df_mean.reset_index()"
   ]
  },
  {
   "cell_type": "code",
   "execution_count": 45,
   "metadata": {},
   "outputs": [],
   "source": [
    "df_mean2 = df_mean[df_mean['스타일코드'].isin(code_list)]\n",
    "df_mean2 = df_mean2.groupby(['스타일코드', 'Week'])['기간판매율[입고량대비]'].std()"
   ]
  },
  {
   "cell_type": "code",
   "execution_count": 46,
   "metadata": {},
   "outputs": [
    {
     "data": {
      "text/plain": [
       "스타일코드\n",
       "SPTAE23M03    14.472696\n",
       "SPTAE23M04     9.450116\n",
       "SPTAEA9M01    13.678196\n",
       "SPTAEA9M02    14.640147\n",
       "Name: 기간판매율[입고량대비], dtype: float64"
      ]
     },
     "execution_count": 46,
     "metadata": {},
     "output_type": "execute_result"
    }
   ],
   "source": [
    "df_mean2.groupby('스타일코드').mean()"
   ]
  },
  {
   "cell_type": "code",
   "execution_count": 47,
   "metadata": {},
   "outputs": [
    {
     "data": {
      "text/plain": [
       "14.1591715"
      ]
     },
     "execution_count": 47,
     "metadata": {},
     "output_type": "execute_result"
    }
   ],
   "source": [
    "(13.678196+14.640147)/2"
   ]
  },
  {
   "cell_type": "code",
   "execution_count": 48,
   "metadata": {},
   "outputs": [
    {
     "data": {
      "text/plain": [
       "11.961406"
      ]
     },
     "execution_count": 48,
     "metadata": {},
     "output_type": "execute_result"
    }
   ],
   "source": [
    "(14.472696+9.450116)/2"
   ]
  },
  {
   "cell_type": "code",
   "execution_count": null,
   "metadata": {},
   "outputs": [],
   "source": [
    "df_mean2.groupby(['스타일코드', 'Date'])['기간판매율[입고량대비]'].std().to_csv('기간판매율 편차.csv', encoding='utf-8-sig')"
   ]
  },
  {
   "cell_type": "code",
   "execution_count": null,
   "metadata": {},
   "outputs": [],
   "source": []
  }
 ],
 "metadata": {
  "kernelspec": {
   "display_name": "Python 3",
   "language": "python",
   "name": "python3"
  },
  "language_info": {
   "codemirror_mode": {
    "name": "ipython",
    "version": 3
   },
   "file_extension": ".py",
   "mimetype": "text/x-python",
   "name": "python",
   "nbconvert_exporter": "python",
   "pygments_lexer": "ipython3",
   "version": "3.11.1"
  }
 },
 "nbformat": 4,
 "nbformat_minor": 2
}
