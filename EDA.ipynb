{
 "cells": [
  {
   "cell_type": "markdown",
   "metadata": {},
   "source": [
    "# 파일 하나로 합치기"
   ]
  },
  {
   "cell_type": "code",
   "execution_count": 2,
   "metadata": {},
   "outputs": [],
   "source": [
    "import pandas as pd\n",
    "import os\n",
    "\n",
    "# 엑셀 파일 경로 설정\n",
    "excel_file_path = '고대PJ_RAW(1).xlsx'  # 파일 경로와 이름을 적절히 변경해주세요\n",
    "\n",
    "# 엑셀 파일 읽기\n",
    "xls = pd.ExcelFile(excel_file_path)\n",
    "\n",
    "sheet_names = xls.sheet_names\n",
    "sheet_names = sheet_names.remove('스타일 정보')"
   ]
  },
  {
   "cell_type": "code",
   "execution_count": 32,
   "metadata": {},
   "outputs": [],
   "source": [
    "# 각 시트를 데이터프레임으로 읽어와 리스트에 저장\n",
    "dfs = []\n",
    "\n",
    "for sheet in sheet_names:\n",
    "    df = pd.read_excel(excel_file_path, sheet_name=sheet)\n",
    "    df = df.drop(0, axis=0).reset_index(drop=True)\n",
    "    df['Date'] = sheet\n",
    "    dfs.append(df)\n",
    "\n",
    "# 모든 데이터프레임을 하나로 합치기\n",
    "merged_df = pd.concat(dfs, ignore_index=True)"
   ]
  },
  {
   "cell_type": "code",
   "execution_count": 33,
   "metadata": {},
   "outputs": [
    {
     "data": {
      "text/plain": [
       "Index(['매장코드', '매장명', '스타일코드', '스타일명', '최초입고일', '최종입고일', '최초출고일', '최종출고일',\n",
       "       '현판가', '예판가', '결판가', '단품코드', '누적매장순수입고량', '누적입고량', '누적출고량', '누적판매량',\n",
       "       '기간판매량', '잔여재고량', '누적판매율[입고량대비]', '기간판매율[입고량대비]', '기간입고량', '기간출고량',\n",
       "       'Date'],\n",
       "      dtype='object')"
      ]
     },
     "execution_count": 33,
     "metadata": {},
     "output_type": "execute_result"
    }
   ],
   "source": [
    "merged_df.columns"
   ]
  },
  {
   "cell_type": "code",
   "execution_count": 35,
   "metadata": {},
   "outputs": [],
   "source": [
    "merged_df.to_csv('파일럿PJ.csv', encoding='utf-8-sig')"
   ]
  },
  {
   "cell_type": "code",
   "execution_count": 45,
   "metadata": {},
   "outputs": [],
   "source": [
    "code = pd.read_excel('매장코드구분.xlsx')"
   ]
  },
  {
   "cell_type": "markdown",
   "metadata": {},
   "source": [
    "# 반영 매장만 남기기"
   ]
  },
  {
   "cell_type": "code",
   "execution_count": 47,
   "metadata": {},
   "outputs": [],
   "source": [
    "valid_code = code[code['반영여부'] == '반영']"
   ]
  },
  {
   "cell_type": "code",
   "execution_count": 49,
   "metadata": {},
   "outputs": [
    {
     "data": {
      "text/plain": [
       "0      A8LC\n",
       "1      A8LH\n",
       "2      A8LJ\n",
       "3      A8LL\n",
       "4      A8LM\n",
       "       ... \n",
       "250    A9MX\n",
       "251    A9WN\n",
       "252    A9ZK\n",
       "255    AA6H\n",
       "266    ACKC\n",
       "Name: 매장코드, Length: 141, dtype: object"
      ]
     },
     "execution_count": 49,
     "metadata": {},
     "output_type": "execute_result"
    }
   ],
   "source": [
    "valid_code['매장코드']"
   ]
  },
  {
   "cell_type": "code",
   "execution_count": 52,
   "metadata": {},
   "outputs": [],
   "source": [
    "filtered_df = merged_df[merged_df['매장코드'].isin(valid_code['매장코드'])]"
   ]
  },
  {
   "cell_type": "code",
   "execution_count": 57,
   "metadata": {},
   "outputs": [
    {
     "data": {
      "text/plain": [
       "array(['A8LC', 'A8LH', 'A8LJ', 'A8LL', 'A8LM', 'A8LS', 'A8LY', 'A8M1',\n",
       "       'A8M5', 'A8MB', 'A8MD', 'A8MH', 'A8MK', 'A8MN', 'A8MP', 'A8MQ',\n",
       "       'A8MT', 'A8MX', 'A8MY', 'A8N4', 'A8R5', 'A8W8', 'A8ZE', 'A93L',\n",
       "       'A93N', 'A98U', 'A9B1', 'A9C7', 'A9CR', 'A9DR', 'A9EU', 'A9KH',\n",
       "       'A9KJ', 'A9WP', 'A9XX', 'A9YQ', 'AAAR', 'AARK', 'AASL', 'AAZN',\n",
       "       'ABAG', 'ABDG', 'ABMJ', 'ABR5', 'ABR6', 'ABRX', 'ABS5', 'ABSC',\n",
       "       'ABV9', 'ABW5', 'ABXS', 'AC21', 'AC5Q', 'AC6P', 'AC7P', 'ACAM',\n",
       "       'ACBZ', 'ACC0', 'ACDR', 'ACDU', 'ACDW', 'ACDZ', 'ACE0', 'ACFH',\n",
       "       'ACH7', 'ACJG', 'ACKD', 'ACKE', 'ACKH', 'ACP3', 'ACP4', 'ACPT',\n",
       "       'ACPW', 'ACR8', 'ACRB', 'ACSC', 'ACSD', 'ACSJ', 'ACU0', 'ACVY',\n",
       "       'ACVZ', 'ACWC', 'ACWR', 'ACZ1', 'ACZ5', 'AD0E', 'AD0M', 'AD0N',\n",
       "       'AD5B', 'AD6Q', 'AD7A', 'AD7D', 'ADCC', 'ADFR', 'ADGW', 'ADHS',\n",
       "       'ADJD', 'ADK3', 'ADKD', 'ADKK', 'ADLB', 'ADPC', 'ADQ4', 'ADQ6',\n",
       "       'ADR2', 'ADRP', 'ADS3', 'ADSM', 'ADUH', 'ADV4', 'ADV5', 'ADVD',\n",
       "       'ADVL', 'ADW0', 'ADX7', 'ADYJ', 'A8M8', 'A8MJ', 'A8MR', 'A8PR',\n",
       "       'A8XS', 'A91G', 'A9K2', 'A9P9', 'A9WE', 'AAWU', 'ABDX', 'AC35',\n",
       "       'ACCP', 'ADGQ', 'ADZB', 'A8LX', 'A8ML', 'A8MU', 'A9AW', 'A9C8',\n",
       "       'A9MX', 'A9WN', 'A9ZK', 'AA6H', 'ACKC'], dtype=object)"
      ]
     },
     "execution_count": 57,
     "metadata": {},
     "output_type": "execute_result"
    }
   ],
   "source": [
    "valid_code['매장코드'].unique()"
   ]
  },
  {
   "cell_type": "code",
   "execution_count": 58,
   "metadata": {},
   "outputs": [
    {
     "data": {
      "text/plain": [
       "array(['A8LH', 'A8LJ', 'A8LL', 'A8LM', 'A8LS', 'A8LY', 'A8M1', 'A8M5',\n",
       "       'A8MB', 'A8MD', 'A8MH', 'A8MK', 'A8MN', 'A8MP', 'A8MQ', 'A8MT',\n",
       "       'A8MX', 'A8MY', 'A8N4', 'A8R5', 'A8ZE', 'A93L', 'A93N', 'A98U',\n",
       "       'A9C7', 'A9DR', 'A9EU', 'A9KH', 'A9KJ', 'A9WP', 'A9XX', 'AAAR',\n",
       "       'AARK', 'AASL', 'AAZN', 'ABAG', 'ABR6', 'ABS5', 'ABV9', 'ABW5',\n",
       "       'ABXS', 'AC21', 'AC6P', 'AC7P', 'ACAM', 'ACBZ', 'ACDR', 'ACDU',\n",
       "       'ACDW', 'ACDZ', 'ACE0', 'ACFH', 'ACJG', 'ACKE', 'ACKH', 'ACP3',\n",
       "       'ACP4', 'ACPW', 'ACR8', 'ACRB', 'ACSC', 'ACU0', 'ACVY', 'ACVZ',\n",
       "       'ACWC', 'ACWR', 'ACZ1', 'ACZ5', 'AD0E', 'AD0M', 'AD0N', 'AD5B',\n",
       "       'AD6Q', 'AD7D', 'ADCC', 'ADFR', 'ADGW', 'ADHS', 'ADJD', 'ADK3',\n",
       "       'ADKD', 'ADKK', 'ADLB', 'ADPC', 'ADQ4', 'ADQ6', 'ADR2', 'ADRP',\n",
       "       'ADS3', 'ADSM', 'ADUH', 'ADV4', 'ADVD', 'ADVL', 'ADW0', 'ADX7',\n",
       "       'ADYJ', 'A8LC', 'ADV5'], dtype=object)"
      ]
     },
     "execution_count": 58,
     "metadata": {},
     "output_type": "execute_result"
    }
   ],
   "source": [
    "filtered_df['매장코드'].unique()"
   ]
  },
  {
   "cell_type": "code",
   "execution_count": 65,
   "metadata": {},
   "outputs": [],
   "source": [
    "filtered_df.to_csv('파일럿PJ_분석매장반영.csv', encoding='utf-8-sig')"
   ]
  },
  {
   "cell_type": "code",
   "execution_count": 115,
   "metadata": {},
   "outputs": [],
   "source": [
    "style_code = filtered_df['스타일코드'].unique()"
   ]
  },
  {
   "cell_type": "code",
   "execution_count": 117,
   "metadata": {},
   "outputs": [
    {
     "data": {
      "text/plain": [
       "array(['SPKWE11W07', 'SPCKE12W02', 'SPKWE12W01', 'SPTAE11W05',\n",
       "       'SPTAE11W06', 'SPCKE11W08', 'SPCKE23W02', 'SPTAEA9M01',\n",
       "       'SPTAE23M05', 'SPCKE11W99', 'SPTAEA9W01', 'SPTAE23M03',\n",
       "       'SPTAE23M04', 'SPTAE23W03', 'SPTAE23W04', 'SPTAEA9M02',\n",
       "       'SPKWE12W99', 'SPCKE11W98', 'SPTAE23M07', 'SPKWE23W06',\n",
       "       'SPLWE23M12', 'SPCKE12W94'], dtype=object)"
      ]
     },
     "execution_count": 117,
     "metadata": {},
     "output_type": "execute_result"
    }
   ],
   "source": [
    "style_code"
   ]
  },
  {
   "cell_type": "markdown",
   "metadata": {},
   "source": [
    "# 스타일 특징 확인하기"
   ]
  },
  {
   "cell_type": "code",
   "execution_count": 126,
   "metadata": {},
   "outputs": [
    {
     "name": "stdout",
     "output_type": "stream",
     "text": [
      "--------------------------------------------------\n",
      "SPKWE11W07\n",
      "[소프트얀] 하찌 반집업 니트\n",
      "최초출고일: 2023-11-17\n",
      "최초판매일: 231117\n",
      "--------------------------------------------------\n",
      "SPCKE12W02\n",
      "[소프트얀] 라운드넥 케이블 가디건\n",
      "최초출고일: 2023-11-29\n",
      "최초판매일: 231129\n",
      "--------------------------------------------------\n",
      "SPKWE12W01\n",
      "[소프트얀] 라운드넥 케이블 풀오버\n",
      "최초출고일: 2023-11-29\n",
      "최초판매일: 231129\n",
      "--------------------------------------------------\n",
      "SPTAE11W05\n",
      "[데일리지] 웜 풀밴딩 스트레치 와이드\n",
      "최초출고일: 2023-11-09\n",
      "최초판매일: 231206\n",
      "--------------------------------------------------\n",
      "SPTAE11W06\n",
      "[데일리지] 웜 풀밴딩 스트레치 부츠컷\n",
      "최초출고일: 2023-11-09\n",
      "최초판매일: 231206\n",
      "--------------------------------------------------\n",
      "SPCKE11W08\n",
      "[소프트얀] 소프트 하찌 집업 가디건\n",
      "최초출고일: 2023-12-07\n",
      "최초판매일: 231207\n",
      "--------------------------------------------------\n",
      "SPCKE23W02\n",
      "[소프트얀] 라운드넥 가디건\n",
      "최초출고일: 2023-12-19\n",
      "최초판매일: 231219\n",
      "--------------------------------------------------\n",
      "SPTAEA9M01\n",
      "[에센셜] 와이드 슬랙스\n",
      "최초출고일: 2023-12-11\n",
      "최초판매일: 231220\n",
      "--------------------------------------------------\n",
      "SPTAE23M05\n",
      "[에센셜] 벨티드 와이드 슬랙스\n",
      "최초출고일: 2023-11-09\n",
      "최초판매일: 231220\n",
      "--------------------------------------------------\n",
      "SPCKE11W99\n",
      "[날개사] 가디건\n",
      "최초출고일: 2023-12-20\n",
      "최초판매일: 231220\n",
      "--------------------------------------------------\n",
      "SPTAEA9W01\n",
      "[에센셜] 스트레이트 슬랙스\n",
      "최초출고일: 2023-12-11\n",
      "최초판매일: 231221\n",
      "--------------------------------------------------\n",
      "SPTAE23M03\n",
      "[에센셜] 크롭 테이퍼드 슬랙스 (-5CM)\n",
      "최초출고일: 2023-12-11\n",
      "최초판매일: 231221\n",
      "--------------------------------------------------\n",
      "SPTAE23M04\n",
      "[에센셜] 풀밴딩 테이퍼드 슬랙스\n",
      "최초출고일: 2023-11-09\n",
      "최초판매일: 231221\n",
      "--------------------------------------------------\n",
      "SPTAE23W03\n",
      "[에센셜] 롱 와이드 슬랙스\n",
      "최초출고일: 2023-12-21\n",
      "최초판매일: 231221\n",
      "--------------------------------------------------\n",
      "SPTAE23W04\n",
      "[에센셜] 크롭 와이드 슬랙스 (-5CM)\n",
      "최초출고일: 2023-12-11\n",
      "최초판매일: 231221\n",
      "--------------------------------------------------\n",
      "SPTAEA9M02\n",
      "[에센셜] 롱 테이퍼드 슬랙스\n",
      "최초출고일: 2023-12-11\n",
      "최초판매일: 231221\n",
      "--------------------------------------------------\n",
      "SPKWE12W99\n",
      "[날개사] 스웨터\n",
      "최초출고일: 2024-01-02\n",
      "최초판매일: 240104\n",
      "--------------------------------------------------\n",
      "SPCKE11W98\n",
      "배색 집업 가디건\n",
      "최초출고일: 2024-01-05\n",
      "최초판매일: 240105\n",
      "--------------------------------------------------\n",
      "SPTAE23M07\n",
      "[에센셜] 원턱 와이드 슬랙스\n",
      "최초출고일: 2024-01-04\n",
      "최초판매일: 240108\n",
      "--------------------------------------------------\n",
      "SPKWE23W06\n",
      "[소프트얀] 스트라이프 반오픈 니트\n",
      "최초출고일: 2024-01-09\n",
      "최초판매일: 240109\n",
      "--------------------------------------------------\n",
      "SPLWE23M12\n",
      "[밀라노조직] 라운드넥 긴팔티\n",
      "최초출고일: 2024-01-10\n",
      "최초판매일: 240110\n",
      "--------------------------------------------------\n",
      "SPCKE12W94\n",
      "[날개사] 볼레로 가디건\n",
      "최초출고일: 2024-01-10\n",
      "최초판매일: 240110\n"
     ]
    }
   ],
   "source": [
    "for i in style_code:\n",
    "    print('-'*50)\n",
    "    print(i)\n",
    "    print(filtered_df[filtered_df['스타일코드'] == i]['스타일명'].iloc[0])\n",
    "    print('최초출고일:', filtered_df[filtered_df['스타일코드'] == i]['최초출고일'].iloc[0])\n",
    "    print('최초판매일:', filtered_df[filtered_df['스타일코드'] == i]['Date'].iloc[0])"
   ]
  },
  {
   "cell_type": "code",
   "execution_count": null,
   "metadata": {},
   "outputs": [],
   "source": []
  },
  {
   "cell_type": "code",
   "execution_count": 127,
   "metadata": {},
   "outputs": [
    {
     "data": {
      "text/html": [
       "<div>\n",
       "<style scoped>\n",
       "    .dataframe tbody tr th:only-of-type {\n",
       "        vertical-align: middle;\n",
       "    }\n",
       "\n",
       "    .dataframe tbody tr th {\n",
       "        vertical-align: top;\n",
       "    }\n",
       "\n",
       "    .dataframe thead th {\n",
       "        text-align: right;\n",
       "    }\n",
       "</style>\n",
       "<table border=\"1\" class=\"dataframe\">\n",
       "  <thead>\n",
       "    <tr style=\"text-align: right;\">\n",
       "      <th></th>\n",
       "      <th>매장코드</th>\n",
       "      <th>매장명</th>\n",
       "      <th>스타일코드</th>\n",
       "      <th>스타일명</th>\n",
       "      <th>최초입고일</th>\n",
       "      <th>최종입고일</th>\n",
       "      <th>최초출고일</th>\n",
       "      <th>최종출고일</th>\n",
       "      <th>현판가</th>\n",
       "      <th>예판가</th>\n",
       "      <th>...</th>\n",
       "      <th>누적입고량</th>\n",
       "      <th>누적출고량</th>\n",
       "      <th>누적판매량</th>\n",
       "      <th>기간판매량</th>\n",
       "      <th>잔여재고량</th>\n",
       "      <th>누적판매율[입고량대비]</th>\n",
       "      <th>기간판매율[입고량대비]</th>\n",
       "      <th>기간입고량</th>\n",
       "      <th>기간출고량</th>\n",
       "      <th>Date</th>\n",
       "    </tr>\n",
       "  </thead>\n",
       "  <tbody>\n",
       "    <tr>\n",
       "      <th>37504</th>\n",
       "      <td>A8LH</td>\n",
       "      <td>NC일산</td>\n",
       "      <td>SPTAE23W03</td>\n",
       "      <td>[에센셜] 롱 와이드 슬랙스</td>\n",
       "      <td>2023-11-22</td>\n",
       "      <td>2023-12-05</td>\n",
       "      <td>2023-12-21</td>\n",
       "      <td>2024-01-10</td>\n",
       "      <td>39900</td>\n",
       "      <td>39900</td>\n",
       "      <td>...</td>\n",
       "      <td>3</td>\n",
       "      <td>NaN</td>\n",
       "      <td>NaN</td>\n",
       "      <td>NaN</td>\n",
       "      <td>3</td>\n",
       "      <td>NaN</td>\n",
       "      <td>NaN</td>\n",
       "      <td>3</td>\n",
       "      <td>NaN</td>\n",
       "      <td>231221</td>\n",
       "    </tr>\n",
       "    <tr>\n",
       "      <th>37505</th>\n",
       "      <td>A8LH</td>\n",
       "      <td>NC일산</td>\n",
       "      <td>SPTAE23W03</td>\n",
       "      <td>[에센셜] 롱 와이드 슬랙스</td>\n",
       "      <td>2023-11-22</td>\n",
       "      <td>2023-12-05</td>\n",
       "      <td>2023-12-21</td>\n",
       "      <td>2024-01-10</td>\n",
       "      <td>39900</td>\n",
       "      <td>39900</td>\n",
       "      <td>...</td>\n",
       "      <td>2</td>\n",
       "      <td>NaN</td>\n",
       "      <td>NaN</td>\n",
       "      <td>NaN</td>\n",
       "      <td>2</td>\n",
       "      <td>NaN</td>\n",
       "      <td>NaN</td>\n",
       "      <td>2</td>\n",
       "      <td>NaN</td>\n",
       "      <td>231221</td>\n",
       "    </tr>\n",
       "    <tr>\n",
       "      <th>37506</th>\n",
       "      <td>A8LH</td>\n",
       "      <td>NC일산</td>\n",
       "      <td>SPTAE23W03</td>\n",
       "      <td>[에센셜] 롱 와이드 슬랙스</td>\n",
       "      <td>2023-11-22</td>\n",
       "      <td>2023-12-05</td>\n",
       "      <td>2023-12-21</td>\n",
       "      <td>2024-01-10</td>\n",
       "      <td>39900</td>\n",
       "      <td>39900</td>\n",
       "      <td>...</td>\n",
       "      <td>2</td>\n",
       "      <td>NaN</td>\n",
       "      <td>NaN</td>\n",
       "      <td>NaN</td>\n",
       "      <td>2</td>\n",
       "      <td>NaN</td>\n",
       "      <td>NaN</td>\n",
       "      <td>2</td>\n",
       "      <td>NaN</td>\n",
       "      <td>231221</td>\n",
       "    </tr>\n",
       "    <tr>\n",
       "      <th>37507</th>\n",
       "      <td>A8LH</td>\n",
       "      <td>NC일산</td>\n",
       "      <td>SPTAE23W03</td>\n",
       "      <td>[에센셜] 롱 와이드 슬랙스</td>\n",
       "      <td>2023-11-22</td>\n",
       "      <td>2023-12-05</td>\n",
       "      <td>2023-12-21</td>\n",
       "      <td>2024-01-10</td>\n",
       "      <td>39900</td>\n",
       "      <td>39900</td>\n",
       "      <td>...</td>\n",
       "      <td>2</td>\n",
       "      <td>NaN</td>\n",
       "      <td>NaN</td>\n",
       "      <td>NaN</td>\n",
       "      <td>2</td>\n",
       "      <td>NaN</td>\n",
       "      <td>NaN</td>\n",
       "      <td>2</td>\n",
       "      <td>NaN</td>\n",
       "      <td>231221</td>\n",
       "    </tr>\n",
       "    <tr>\n",
       "      <th>37508</th>\n",
       "      <td>A8LH</td>\n",
       "      <td>NC일산</td>\n",
       "      <td>SPTAE23W03</td>\n",
       "      <td>[에센셜] 롱 와이드 슬랙스</td>\n",
       "      <td>2023-11-22</td>\n",
       "      <td>2023-12-05</td>\n",
       "      <td>2023-12-21</td>\n",
       "      <td>2024-01-10</td>\n",
       "      <td>39900</td>\n",
       "      <td>39900</td>\n",
       "      <td>...</td>\n",
       "      <td>2</td>\n",
       "      <td>NaN</td>\n",
       "      <td>NaN</td>\n",
       "      <td>NaN</td>\n",
       "      <td>2</td>\n",
       "      <td>NaN</td>\n",
       "      <td>NaN</td>\n",
       "      <td>2</td>\n",
       "      <td>NaN</td>\n",
       "      <td>231221</td>\n",
       "    </tr>\n",
       "    <tr>\n",
       "      <th>...</th>\n",
       "      <td>...</td>\n",
       "      <td>...</td>\n",
       "      <td>...</td>\n",
       "      <td>...</td>\n",
       "      <td>...</td>\n",
       "      <td>...</td>\n",
       "      <td>...</td>\n",
       "      <td>...</td>\n",
       "      <td>...</td>\n",
       "      <td>...</td>\n",
       "      <td>...</td>\n",
       "      <td>...</td>\n",
       "      <td>...</td>\n",
       "      <td>...</td>\n",
       "      <td>...</td>\n",
       "      <td>...</td>\n",
       "      <td>...</td>\n",
       "      <td>...</td>\n",
       "      <td>...</td>\n",
       "      <td>...</td>\n",
       "      <td>...</td>\n",
       "    </tr>\n",
       "    <tr>\n",
       "      <th>325375</th>\n",
       "      <td>ADYJ</td>\n",
       "      <td>의정부민락</td>\n",
       "      <td>SPTAE23W03</td>\n",
       "      <td>[에센셜] 롱 와이드 슬랙스</td>\n",
       "      <td>2023-11-22</td>\n",
       "      <td>2023-12-05</td>\n",
       "      <td>2023-12-21</td>\n",
       "      <td>2024-01-10</td>\n",
       "      <td>39900</td>\n",
       "      <td>39900</td>\n",
       "      <td>...</td>\n",
       "      <td>2</td>\n",
       "      <td>NaN</td>\n",
       "      <td>NaN</td>\n",
       "      <td>NaN</td>\n",
       "      <td>2</td>\n",
       "      <td>NaN</td>\n",
       "      <td>NaN</td>\n",
       "      <td>NaN</td>\n",
       "      <td>NaN</td>\n",
       "      <td>240111</td>\n",
       "    </tr>\n",
       "    <tr>\n",
       "      <th>325376</th>\n",
       "      <td>ADYJ</td>\n",
       "      <td>의정부민락</td>\n",
       "      <td>SPTAE23W03</td>\n",
       "      <td>[에센셜] 롱 와이드 슬랙스</td>\n",
       "      <td>2023-11-22</td>\n",
       "      <td>2023-12-05</td>\n",
       "      <td>2023-12-21</td>\n",
       "      <td>2024-01-10</td>\n",
       "      <td>39900</td>\n",
       "      <td>39900</td>\n",
       "      <td>...</td>\n",
       "      <td>2</td>\n",
       "      <td>NaN</td>\n",
       "      <td>NaN</td>\n",
       "      <td>NaN</td>\n",
       "      <td>2</td>\n",
       "      <td>NaN</td>\n",
       "      <td>NaN</td>\n",
       "      <td>NaN</td>\n",
       "      <td>NaN</td>\n",
       "      <td>240111</td>\n",
       "    </tr>\n",
       "    <tr>\n",
       "      <th>325377</th>\n",
       "      <td>ADYJ</td>\n",
       "      <td>의정부민락</td>\n",
       "      <td>SPTAE23W03</td>\n",
       "      <td>[에센셜] 롱 와이드 슬랙스</td>\n",
       "      <td>2023-11-22</td>\n",
       "      <td>2023-12-05</td>\n",
       "      <td>2023-12-21</td>\n",
       "      <td>2024-01-10</td>\n",
       "      <td>39900</td>\n",
       "      <td>39900</td>\n",
       "      <td>...</td>\n",
       "      <td>2</td>\n",
       "      <td>NaN</td>\n",
       "      <td>NaN</td>\n",
       "      <td>NaN</td>\n",
       "      <td>2</td>\n",
       "      <td>NaN</td>\n",
       "      <td>NaN</td>\n",
       "      <td>NaN</td>\n",
       "      <td>NaN</td>\n",
       "      <td>240111</td>\n",
       "    </tr>\n",
       "    <tr>\n",
       "      <th>325378</th>\n",
       "      <td>ADYJ</td>\n",
       "      <td>의정부민락</td>\n",
       "      <td>SPTAE23W03</td>\n",
       "      <td>[에센셜] 롱 와이드 슬랙스</td>\n",
       "      <td>2023-11-22</td>\n",
       "      <td>2023-12-05</td>\n",
       "      <td>2023-12-21</td>\n",
       "      <td>2024-01-10</td>\n",
       "      <td>39900</td>\n",
       "      <td>39900</td>\n",
       "      <td>...</td>\n",
       "      <td>2</td>\n",
       "      <td>NaN</td>\n",
       "      <td>NaN</td>\n",
       "      <td>NaN</td>\n",
       "      <td>2</td>\n",
       "      <td>NaN</td>\n",
       "      <td>NaN</td>\n",
       "      <td>NaN</td>\n",
       "      <td>NaN</td>\n",
       "      <td>240111</td>\n",
       "    </tr>\n",
       "    <tr>\n",
       "      <th>325379</th>\n",
       "      <td>ADYJ</td>\n",
       "      <td>의정부민락</td>\n",
       "      <td>SPTAE23W03</td>\n",
       "      <td>[에센셜] 롱 와이드 슬랙스</td>\n",
       "      <td>2023-11-22</td>\n",
       "      <td>2023-12-05</td>\n",
       "      <td>2023-12-21</td>\n",
       "      <td>2024-01-10</td>\n",
       "      <td>39900</td>\n",
       "      <td>39900</td>\n",
       "      <td>...</td>\n",
       "      <td>2</td>\n",
       "      <td>NaN</td>\n",
       "      <td>NaN</td>\n",
       "      <td>NaN</td>\n",
       "      <td>2</td>\n",
       "      <td>NaN</td>\n",
       "      <td>NaN</td>\n",
       "      <td>NaN</td>\n",
       "      <td>NaN</td>\n",
       "      <td>240111</td>\n",
       "    </tr>\n",
       "  </tbody>\n",
       "</table>\n",
       "<p>28236 rows × 23 columns</p>\n",
       "</div>"
      ],
      "text/plain": [
       "        매장코드    매장명       스타일코드             스타일명       최초입고일       최종입고일  \\\n",
       "37504   A8LH   NC일산  SPTAE23W03  [에센셜] 롱 와이드 슬랙스  2023-11-22  2023-12-05   \n",
       "37505   A8LH   NC일산  SPTAE23W03  [에센셜] 롱 와이드 슬랙스  2023-11-22  2023-12-05   \n",
       "37506   A8LH   NC일산  SPTAE23W03  [에센셜] 롱 와이드 슬랙스  2023-11-22  2023-12-05   \n",
       "37507   A8LH   NC일산  SPTAE23W03  [에센셜] 롱 와이드 슬랙스  2023-11-22  2023-12-05   \n",
       "37508   A8LH   NC일산  SPTAE23W03  [에센셜] 롱 와이드 슬랙스  2023-11-22  2023-12-05   \n",
       "...      ...    ...         ...              ...         ...         ...   \n",
       "325375  ADYJ  의정부민락  SPTAE23W03  [에센셜] 롱 와이드 슬랙스  2023-11-22  2023-12-05   \n",
       "325376  ADYJ  의정부민락  SPTAE23W03  [에센셜] 롱 와이드 슬랙스  2023-11-22  2023-12-05   \n",
       "325377  ADYJ  의정부민락  SPTAE23W03  [에센셜] 롱 와이드 슬랙스  2023-11-22  2023-12-05   \n",
       "325378  ADYJ  의정부민락  SPTAE23W03  [에센셜] 롱 와이드 슬랙스  2023-11-22  2023-12-05   \n",
       "325379  ADYJ  의정부민락  SPTAE23W03  [에센셜] 롱 와이드 슬랙스  2023-11-22  2023-12-05   \n",
       "\n",
       "             최초출고일       최종출고일    현판가    예판가  ... 누적입고량 누적출고량 누적판매량 기간판매량  \\\n",
       "37504   2023-12-21  2024-01-10  39900  39900  ...     3   NaN   NaN   NaN   \n",
       "37505   2023-12-21  2024-01-10  39900  39900  ...     2   NaN   NaN   NaN   \n",
       "37506   2023-12-21  2024-01-10  39900  39900  ...     2   NaN   NaN   NaN   \n",
       "37507   2023-12-21  2024-01-10  39900  39900  ...     2   NaN   NaN   NaN   \n",
       "37508   2023-12-21  2024-01-10  39900  39900  ...     2   NaN   NaN   NaN   \n",
       "...            ...         ...    ...    ...  ...   ...   ...   ...   ...   \n",
       "325375  2023-12-21  2024-01-10  39900  39900  ...     2   NaN   NaN   NaN   \n",
       "325376  2023-12-21  2024-01-10  39900  39900  ...     2   NaN   NaN   NaN   \n",
       "325377  2023-12-21  2024-01-10  39900  39900  ...     2   NaN   NaN   NaN   \n",
       "325378  2023-12-21  2024-01-10  39900  39900  ...     2   NaN   NaN   NaN   \n",
       "325379  2023-12-21  2024-01-10  39900  39900  ...     2   NaN   NaN   NaN   \n",
       "\n",
       "       잔여재고량 누적판매율[입고량대비] 기간판매율[입고량대비] 기간입고량 기간출고량    Date  \n",
       "37504      3          NaN          NaN     3   NaN  231221  \n",
       "37505      2          NaN          NaN     2   NaN  231221  \n",
       "37506      2          NaN          NaN     2   NaN  231221  \n",
       "37507      2          NaN          NaN     2   NaN  231221  \n",
       "37508      2          NaN          NaN     2   NaN  231221  \n",
       "...      ...          ...          ...   ...   ...     ...  \n",
       "325375     2          NaN          NaN   NaN   NaN  240111  \n",
       "325376     2          NaN          NaN   NaN   NaN  240111  \n",
       "325377     2          NaN          NaN   NaN   NaN  240111  \n",
       "325378     2          NaN          NaN   NaN   NaN  240111  \n",
       "325379     2          NaN          NaN   NaN   NaN  240111  \n",
       "\n",
       "[28236 rows x 23 columns]"
      ]
     },
     "execution_count": 127,
     "metadata": {},
     "output_type": "execute_result"
    }
   ],
   "source": [
    "filtered_df[filtered_df['스타일코드'] == 'SPTAE23W03']"
   ]
  },
  {
   "cell_type": "code",
   "execution_count": 66,
   "metadata": {},
   "outputs": [],
   "source": [
    "df = filtered_df"
   ]
  },
  {
   "cell_type": "markdown",
   "metadata": {},
   "source": [
    "# 결품률 확인"
   ]
  },
  {
   "cell_type": "code",
   "execution_count": 108,
   "metadata": {},
   "outputs": [],
   "source": [
    "def cal_minus(x):\n",
    "    minus = len(df[(df['스타일코드'] == x) & (df['잔여재고량'] <= 0)]) / len(df[df['스타일코드'] == x]) * 100\n",
    "    name = df[df['스타일코드']== x]['스타일명'].unique()\n",
    "    period = df[df['스타일코드'] == x]['Date'].iloc[0]\n",
    "    return name, period, minus"
   ]
  },
  {
   "cell_type": "code",
   "execution_count": 81,
   "metadata": {},
   "outputs": [],
   "source": [
    "style_code = df['스타일코드'].unique()"
   ]
  },
  {
   "cell_type": "code",
   "execution_count": 106,
   "metadata": {},
   "outputs": [
    {
     "data": {
      "text/plain": [
       "(array(['[데일리지] 웜 풀밴딩 스트레치 와이드'], dtype=object), 13.228789706473663, '231206')"
      ]
     },
     "execution_count": 106,
     "metadata": {},
     "output_type": "execute_result"
    }
   ],
   "source": [
    "cal_minus('SPTAE11W05')"
   ]
  },
  {
   "cell_type": "code",
   "execution_count": 110,
   "metadata": {},
   "outputs": [
    {
     "name": "stdout",
     "output_type": "stream",
     "text": [
      "SPKWE11W07 (array(['[소프트얀] 하찌 반집업 니트'], dtype=object), '231117', 3.5529644703552963)\n",
      "SPCKE12W02 (array(['[소프트얀] 라운드넥 케이블 가디건'], dtype=object), '231129', 0.055096418732782364)\n",
      "SPKWE12W01 (array(['[소프트얀] 라운드넥 케이블 풀오버'], dtype=object), '231129', 0.0)\n",
      "SPTAE11W05 (array(['[데일리지] 웜 풀밴딩 스트레치 와이드'], dtype=object), '231206', 13.228789706473663)\n",
      "SPTAE11W06 (array(['[데일리지] 웜 풀밴딩 스트레치 부츠컷'], dtype=object), '231206', 15.248083904800321)\n",
      "SPCKE11W08 (array(['[소프트얀] 소프트 하찌 집업 가디건'], dtype=object), '231207', 0.0)\n",
      "SPCKE23W02 (array(['[소프트얀] 라운드넥 가디건'], dtype=object), '231219', 0.1422699968384445)\n",
      "SPTAEA9M01 (array(['[에센셜] 와이드 슬랙스'], dtype=object), '231220', 0.6079570853822083)\n",
      "SPTAE23M05 (array(['[에센셜] 벨티드 와이드 슬랙스'], dtype=object), '231220', 0.731948565776459)\n",
      "SPCKE11W99 (array(['[날개사] 가디건'], dtype=object), '231220', 0.2911208151382824)\n",
      "SPTAEA9W01 (array(['[에센셜] 스트레이트 슬랙스'], dtype=object), '231221', 0.026782981328435873)\n",
      "SPTAE23M03 (array(['[에센셜] 크롭 테이퍼드 슬랙스 (-5CM)'], dtype=object), '231221', 0.09641873278236915)\n",
      "SPTAE23M04 (array(['[에센셜] 풀밴딩 테이퍼드 슬랙스'], dtype=object), '231221', 0.0)\n",
      "SPTAE23W03 (array(['[에센셜] 롱 와이드 슬랙스'], dtype=object), '231221', 0.2939509845587193)\n",
      "SPTAE23W04 (array(['[에센셜] 크롭 와이드 슬랙스 (-5CM)'], dtype=object), '231221', 0.11287789556340792)\n",
      "SPTAEA9M02 (array(['[에센셜] 롱 테이퍼드 슬랙스'], dtype=object), '231221', 0.42659193523275724)\n",
      "SPKWE12W99 (array(['[날개사] 스웨터'], dtype=object), '240104', 0.0)\n",
      "SPCKE11W98 (array(['배색 집업 가디건'], dtype=object), '240105', 0.0)\n",
      "SPTAE23M07 (array(['[에센셜] 원턱 와이드 슬랙스'], dtype=object), '240108', 0.0)\n",
      "SPKWE23W06 (array(['[소프트얀] 스트라이프 반오픈 니트'], dtype=object), '240109', 0.0)\n",
      "SPLWE23M12 (array(['[밀라노조직] 라운드넥 긴팔티'], dtype=object), '240110', 0.0)\n",
      "SPCKE12W94 (array(['[날개사] 볼레로 가디건'], dtype=object), '240110', 0.0)\n"
     ]
    }
   ],
   "source": [
    "for x in style_code:\n",
    "    print(x, cal_minus(x))\n",
    "\n",
    "# SPTAEA9W01\n",
    "# SPTAE23M03\n",
    "# SPTAE23M04\n",
    "# SPCKE12W93\n",
    "# SPKWE11W95\n",
    "# SPLWE23M12\n",
    "\n",
    "# [에센셜] 스트레이트 슬랙스\n",
    "# [에센셜] 크롭 테이퍼드 슬랙스 (-\n",
    "# [에센셜] 풀밴딩 테이퍼드 슬랙스\n",
    "# 빅카라 집업 가디건 -> \n",
    "# [울블렌드] V넥 카라 케이블니트\n",
    "# [밀라노조직] 라운드넥 긴팔티"
   ]
  },
  {
   "cell_type": "code",
   "execution_count": 353,
   "metadata": {},
   "outputs": [
    {
     "data": {
      "text/plain": [
       "0.006079570853822083"
      ]
     },
     "execution_count": 353,
     "metadata": {},
     "output_type": "execute_result"
    }
   ],
   "source": [
    "len(df[(df['스타일코드']=='SPTAEA9M01') & (df['잔여재고량'] <= 0)]) / len(df[(df['스타일코드']=='SPTAEA9M01')])"
   ]
  },
  {
   "cell_type": "code",
   "execution_count": 352,
   "metadata": {},
   "outputs": [
    {
     "data": {
      "text/plain": [
       "22370"
      ]
     },
     "execution_count": 352,
     "metadata": {},
     "output_type": "execute_result"
    }
   ],
   "source": [
    "len(df[(df['스타일코드']=='SPTAEA9M01')])"
   ]
  },
  {
   "cell_type": "code",
   "execution_count": 358,
   "metadata": {},
   "outputs": [
    {
     "data": {
      "text/plain": [
       "0.0009641873278236915"
      ]
     },
     "execution_count": 358,
     "metadata": {},
     "output_type": "execute_result"
    }
   ],
   "source": [
    "len(df[(df['스타일코드']=='SPTAE23M03') & (df['잔여재고량'] <= 0)]) / len(df[(df['스타일코드']=='SPTAE23M03')])"
   ]
  },
  {
   "cell_type": "code",
   "execution_count": 357,
   "metadata": {},
   "outputs": [
    {
     "data": {
      "text/plain": [
       "0.0004693786320965579"
      ]
     },
     "execution_count": 357,
     "metadata": {},
     "output_type": "execute_result"
    }
   ],
   "source": [
    "0.0009387572641931158/2"
   ]
  },
  {
   "cell_type": "code",
   "execution_count": 356,
   "metadata": {},
   "outputs": [
    {
     "data": {
      "text/plain": [
       "21"
      ]
     },
     "execution_count": 356,
     "metadata": {},
     "output_type": "execute_result"
    }
   ],
   "source": [
    "len(df[(df['스타일코드']=='SPTAE23M03') & (df['잔여재고량'] <= 0)])"
   ]
  },
  {
   "cell_type": "code",
   "execution_count": 355,
   "metadata": {},
   "outputs": [
    {
     "data": {
      "text/plain": [
       "21780"
      ]
     },
     "execution_count": 355,
     "metadata": {},
     "output_type": "execute_result"
    }
   ],
   "source": [
    "len(df[(df['스타일코드']=='SPTAE23M03')])"
   ]
  },
  {
   "cell_type": "code",
   "execution_count": null,
   "metadata": {},
   "outputs": [],
   "source": [
    "# SPTAEA9M01 (array(['[에센셜] 와이드 슬랙스'], dtype=object), '231220', 0.6079570853822083)\n",
    "# SPTAEA9M02 (array(['[에센셜] 롱 테이퍼드 슬랙스'], dtype=object), '231221', 0.42659193523275724)\n",
    "# SPTAE23M03 (array(['[에센셜] 크롭 테이퍼드 슬랙스 (-5CM)'], dtype=object), '231221', 0.09641873278236915)\n",
    "# SPTAE23M04 (array(['[에센셜] 풀밴딩 테이퍼드 슬랙스'], dtype=object), '231221', 0.0)"
   ]
  },
  {
   "cell_type": "code",
   "execution_count": 340,
   "metadata": {},
   "outputs": [
    {
     "data": {
      "text/plain": [
       "0.5172745103074827"
      ]
     },
     "execution_count": 340,
     "metadata": {},
     "output_type": "execute_result"
    }
   ],
   "source": [
    "(0.6079570853822083+0.42659193523275724)/2"
   ]
  },
  {
   "cell_type": "code",
   "execution_count": 359,
   "metadata": {},
   "outputs": [
    {
     "data": {
      "text/plain": [
       "0.048"
      ]
     },
     "execution_count": 359,
     "metadata": {},
     "output_type": "execute_result"
    }
   ],
   "source": [
    "round(0.09641873278236915/2, 3)"
   ]
  },
  {
   "cell_type": "code",
   "execution_count": 70,
   "metadata": {},
   "outputs": [
    {
     "data": {
      "text/plain": [
       "0.13228789706473662"
      ]
     },
     "execution_count": 70,
     "metadata": {},
     "output_type": "execute_result"
    }
   ],
   "source": [
    "len(df[(df['스타일코드'] == 'SPTAE11W05') & (df['잔여재고량'] <= 0)]) / len(df[df['스타일코드'] == 'SPTAE11W05'])"
   ]
  },
  {
   "cell_type": "code",
   "execution_count": 71,
   "metadata": {},
   "outputs": [
    {
     "data": {
      "text/plain": [
       "0.0002678298132843587"
      ]
     },
     "execution_count": 71,
     "metadata": {},
     "output_type": "execute_result"
    }
   ],
   "source": [
    "len(df[(df['스타일코드'] == 'SPTAEA9W01') & (df['잔여재고량'] <= 0)]) / len(df[df['스타일코드'] == 'SPTAEA9W01'])"
   ]
  },
  {
   "cell_type": "code",
   "execution_count": null,
   "metadata": {},
   "outputs": [],
   "source": [
    "'SPTAE23W03', 'SPTAEW04', 'SPTAEA9M01', 'SPTAEA9M02', 'SPTAEA9W01', 'SPTAE23M03', 'SPTAE23M04'"
   ]
  },
  {
   "cell_type": "markdown",
   "metadata": {},
   "source": [
    "# 매장 편차 확인하기"
   ]
  },
  {
   "cell_type": "code",
   "execution_count": 163,
   "metadata": {},
   "outputs": [
    {
     "name": "stderr",
     "output_type": "stream",
     "text": [
      "/var/folders/x2/c6gjhmqs6h5bl_d26ctv923h0000gn/T/ipykernel_3332/3811159829.py:1: DtypeWarning: Columns (19,20) have mixed types. Specify dtype option on import or set low_memory=False.\n",
      "  df = pd.read_csv('파일럿PJ_분석매장반영.csv', index_col=0)\n"
     ]
    }
   ],
   "source": [
    "df = pd.read_csv('파일럿PJ_분석매장반영.csv', index_col=0)"
   ]
  },
  {
   "cell_type": "code",
   "execution_count": 164,
   "metadata": {},
   "outputs": [],
   "source": [
    "df['기간판매율[입고량대비]'] = pd.to_numeric(df['기간판매율[입고량대비]'], errors='coerce').astype(float)"
   ]
  },
  {
   "cell_type": "code",
   "execution_count": 194,
   "metadata": {},
   "outputs": [],
   "source": [
    "df_mean = df.groupby(['매장코드', '매장명', '스타일코드', 'Date'])['기간판매율[입고량대비]'].mean()"
   ]
  },
  {
   "cell_type": "code",
   "execution_count": 184,
   "metadata": {},
   "outputs": [],
   "source": [
    "code_list = ['SPTAE23W03', 'SPTAE23W04', 'SPTAEA9M01', 'SPTAEA9M02', 'SPTAEA9W01', 'SPTAE23M03', 'SPTAE23M04']"
   ]
  },
  {
   "cell_type": "code",
   "execution_count": 197,
   "metadata": {},
   "outputs": [],
   "source": [
    "df_mean = df_mean.reset_index()"
   ]
  },
  {
   "cell_type": "code",
   "execution_count": 181,
   "metadata": {},
   "outputs": [
    {
     "data": {
      "text/plain": [
       "array(['SPLWE23M12', 'SPTAE11W05', 'SPTAE23M03', 'SPTAE23M04',\n",
       "       'SPTAEA9W01', 'SPCKE12W02', 'SPCKE23W02', 'SPKWE11W07',\n",
       "       'SPKWE12W01', 'SPKWE23W06', 'SPTAE23M07', 'SPTAE23W03',\n",
       "       'SPTAE23W04', 'SPTAEA9M01', 'SPTAEA9M02', 'SPTAE11W06',\n",
       "       'SPTAE23M05', 'SPCKE11W08', 'SPCKE11W99', 'SPCKE12W94',\n",
       "       'SPKWE12W99', 'SPCKE11W98'], dtype=object)"
      ]
     },
     "execution_count": 181,
     "metadata": {},
     "output_type": "execute_result"
    }
   ],
   "source": [
    "df_mean['스타일코드'].unique() # 'SPTAEW04'"
   ]
  },
  {
   "cell_type": "code",
   "execution_count": 185,
   "metadata": {},
   "outputs": [
    {
     "data": {
      "text/html": [
       "<div>\n",
       "<style scoped>\n",
       "    .dataframe tbody tr th:only-of-type {\n",
       "        vertical-align: middle;\n",
       "    }\n",
       "\n",
       "    .dataframe tbody tr th {\n",
       "        vertical-align: top;\n",
       "    }\n",
       "\n",
       "    .dataframe thead th {\n",
       "        text-align: right;\n",
       "    }\n",
       "</style>\n",
       "<table border=\"1\" class=\"dataframe\">\n",
       "  <thead>\n",
       "    <tr style=\"text-align: right;\">\n",
       "      <th></th>\n",
       "      <th>매장코드</th>\n",
       "      <th>매장명</th>\n",
       "      <th>스타일코드</th>\n",
       "      <th>Date</th>\n",
       "      <th>기간판매율[입고량대비]</th>\n",
       "    </tr>\n",
       "  </thead>\n",
       "  <tbody>\n",
       "    <tr>\n",
       "      <th>264</th>\n",
       "      <td>A8LH</td>\n",
       "      <td>NC일산</td>\n",
       "      <td>SPTAE23W04</td>\n",
       "      <td>231221</td>\n",
       "      <td>NaN</td>\n",
       "    </tr>\n",
       "    <tr>\n",
       "      <th>265</th>\n",
       "      <td>A8LH</td>\n",
       "      <td>NC일산</td>\n",
       "      <td>SPTAE23W04</td>\n",
       "      <td>231222</td>\n",
       "      <td>NaN</td>\n",
       "    </tr>\n",
       "    <tr>\n",
       "      <th>266</th>\n",
       "      <td>A8LH</td>\n",
       "      <td>NC일산</td>\n",
       "      <td>SPTAE23W04</td>\n",
       "      <td>231223</td>\n",
       "      <td>NaN</td>\n",
       "    </tr>\n",
       "    <tr>\n",
       "      <th>267</th>\n",
       "      <td>A8LH</td>\n",
       "      <td>NC일산</td>\n",
       "      <td>SPTAE23W04</td>\n",
       "      <td>231224</td>\n",
       "      <td>NaN</td>\n",
       "    </tr>\n",
       "    <tr>\n",
       "      <th>268</th>\n",
       "      <td>A8LH</td>\n",
       "      <td>NC일산</td>\n",
       "      <td>SPTAE23W04</td>\n",
       "      <td>231225</td>\n",
       "      <td>NaN</td>\n",
       "    </tr>\n",
       "    <tr>\n",
       "      <th>...</th>\n",
       "      <td>...</td>\n",
       "      <td>...</td>\n",
       "      <td>...</td>\n",
       "      <td>...</td>\n",
       "      <td>...</td>\n",
       "    </tr>\n",
       "    <tr>\n",
       "      <th>33124</th>\n",
       "      <td>ADYJ</td>\n",
       "      <td>의정부민락</td>\n",
       "      <td>SPTAE23W04</td>\n",
       "      <td>240107</td>\n",
       "      <td>50.0</td>\n",
       "    </tr>\n",
       "    <tr>\n",
       "      <th>33125</th>\n",
       "      <td>ADYJ</td>\n",
       "      <td>의정부민락</td>\n",
       "      <td>SPTAE23W04</td>\n",
       "      <td>240108</td>\n",
       "      <td>NaN</td>\n",
       "    </tr>\n",
       "    <tr>\n",
       "      <th>33126</th>\n",
       "      <td>ADYJ</td>\n",
       "      <td>의정부민락</td>\n",
       "      <td>SPTAE23W04</td>\n",
       "      <td>240109</td>\n",
       "      <td>NaN</td>\n",
       "    </tr>\n",
       "    <tr>\n",
       "      <th>33127</th>\n",
       "      <td>ADYJ</td>\n",
       "      <td>의정부민락</td>\n",
       "      <td>SPTAE23W04</td>\n",
       "      <td>240110</td>\n",
       "      <td>NaN</td>\n",
       "    </tr>\n",
       "    <tr>\n",
       "      <th>33128</th>\n",
       "      <td>ADYJ</td>\n",
       "      <td>의정부민락</td>\n",
       "      <td>SPTAE23W04</td>\n",
       "      <td>240111</td>\n",
       "      <td>NaN</td>\n",
       "    </tr>\n",
       "  </tbody>\n",
       "</table>\n",
       "<p>1737 rows × 5 columns</p>\n",
       "</div>"
      ],
      "text/plain": [
       "       매장코드    매장명       스타일코드    Date  기간판매율[입고량대비]\n",
       "264    A8LH   NC일산  SPTAE23W04  231221           NaN\n",
       "265    A8LH   NC일산  SPTAE23W04  231222           NaN\n",
       "266    A8LH   NC일산  SPTAE23W04  231223           NaN\n",
       "267    A8LH   NC일산  SPTAE23W04  231224           NaN\n",
       "268    A8LH   NC일산  SPTAE23W04  231225           NaN\n",
       "...     ...    ...         ...     ...           ...\n",
       "33124  ADYJ  의정부민락  SPTAE23W04  240107          50.0\n",
       "33125  ADYJ  의정부민락  SPTAE23W04  240108           NaN\n",
       "33126  ADYJ  의정부민락  SPTAE23W04  240109           NaN\n",
       "33127  ADYJ  의정부민락  SPTAE23W04  240110           NaN\n",
       "33128  ADYJ  의정부민락  SPTAE23W04  240111           NaN\n",
       "\n",
       "[1737 rows x 5 columns]"
      ]
     },
     "execution_count": 185,
     "metadata": {},
     "output_type": "execute_result"
    }
   ],
   "source": [
    "df_mean[df_mean['스타일코드'] == 'SPTAE23W04']"
   ]
  },
  {
   "cell_type": "code",
   "execution_count": 365,
   "metadata": {},
   "outputs": [
    {
     "data": {
      "text/plain": [
       "Index(['매장코드', '매장명', '스타일코드', 'Week', '기간판매율[입고량대비]'], dtype='object')"
      ]
     },
     "execution_count": 365,
     "metadata": {},
     "output_type": "execute_result"
    }
   ],
   "source": [
    "df_mean.columns"
   ]
  },
  {
   "cell_type": "code",
   "execution_count": 367,
   "metadata": {},
   "outputs": [],
   "source": [
    "df_mean = df_mean[(df_mean['스타일코드'] == 'SPTAE23M03') | (df_mean['스타일코드'] == 'SPTAE23M04')\n",
    "                  |(df_mean['스타일코드'] == 'SPTAEA9M01') |(df_mean['스타일코드'] == 'SPTAEA9M02')]"
   ]
  },
  {
   "cell_type": "code",
   "execution_count": 368,
   "metadata": {},
   "outputs": [
    {
     "data": {
      "text/plain": [
       "스타일코드\n",
       "SPTAE23M03    15.125740\n",
       "SPTAE23M04    10.145752\n",
       "SPTAEA9M01    19.574574\n",
       "SPTAEA9M02    19.049656\n",
       "Name: 기간판매율[입고량대비], dtype: float64"
      ]
     },
     "execution_count": 368,
     "metadata": {},
     "output_type": "execute_result"
    }
   ],
   "source": [
    "df_mean.groupby('스타일코드')['기간판매율[입고량대비]'].std()"
   ]
  },
  {
   "cell_type": "code",
   "execution_count": 203,
   "metadata": {},
   "outputs": [
    {
     "name": "stdout",
     "output_type": "stream",
     "text": [
      "<class 'pandas.core.frame.DataFrame'>\n",
      "Index: 296346 entries, 0 to 325426\n",
      "Data columns (total 23 columns):\n",
      " #   Column        Non-Null Count   Dtype  \n",
      "---  ------        --------------   -----  \n",
      " 0   매장코드          296346 non-null  object \n",
      " 1   매장명           296346 non-null  object \n",
      " 2   스타일코드         296346 non-null  object \n",
      " 3   스타일명          296346 non-null  object \n",
      " 4   최초입고일         296346 non-null  object \n",
      " 5   최종입고일         296346 non-null  object \n",
      " 6   최초출고일         296346 non-null  object \n",
      " 7   최종출고일         296346 non-null  object \n",
      " 8   현판가           296346 non-null  int64  \n",
      " 9   예판가           296346 non-null  int64  \n",
      " 10  결판가           296346 non-null  int64  \n",
      " 11  단품코드          296346 non-null  object \n",
      " 12  누적매장순수입고량     296335 non-null  float64\n",
      " 13  누적입고량         296335 non-null  float64\n",
      " 14  누적출고량         703 non-null     float64\n",
      " 15  누적판매량         68423 non-null   float64\n",
      " 16  기간판매량         8511 non-null    float64\n",
      " 17  잔여재고량         296346 non-null  int64  \n",
      " 18  누적판매율[입고량대비]  68423 non-null   object \n",
      " 19  기간판매율[입고량대비]  8510 non-null    float64\n",
      " 20  기간입고량         21521 non-null   float64\n",
      " 21  기간출고량         95 non-null      float64\n",
      " 22  Date          296346 non-null  int64  \n",
      "dtypes: float64(8), int64(5), object(10)\n",
      "memory usage: 54.3+ MB\n"
     ]
    }
   ],
   "source": [
    "df.info()"
   ]
  },
  {
   "cell_type": "markdown",
   "metadata": {},
   "source": [
    "# Week 별로"
   ]
  },
  {
   "cell_type": "code",
   "execution_count": 233,
   "metadata": {},
   "outputs": [],
   "source": [
    "import pandas as pd\n",
    "\n",
    "# Assuming 'Date' is in datetime format\n",
    "df['Date'] = pd.to_datetime(df['Date'], format='%y%m%d')\n",
    "\n",
    "# Create a new column 'Week' and initialize it with 0\n",
    "df['Week'] = 0\n",
    "\n",
    "# Assign week numbers based on date ranges\n",
    "df.loc[(df['Date'] >= '2023-12-21') & (df['Date'] <= '2023-12-24'), 'Week'] = 1\n",
    "df.loc[(df['Date'] >= '2023-12-25') & (df['Date'] <= '2023-12-31'), 'Week'] = 2\n",
    "df.loc[(df['Date'] >= '2024-01-01') & (df['Date'] <= '2024-01-07'), 'Week'] = 3\n",
    "df.loc[(df['Date'] >= '2024-01-08') & (df['Date'] <= '2024-01-11'), 'Week'] = 3"
   ]
  },
  {
   "cell_type": "code",
   "execution_count": 254,
   "metadata": {},
   "outputs": [],
   "source": [
    "df2 = df[(df['Week'] != 0)]"
   ]
  },
  {
   "cell_type": "code",
   "execution_count": 255,
   "metadata": {},
   "outputs": [],
   "source": [
    "df_mean = df2.groupby(['매장코드', '매장명', '스타일코드', 'Week'])['기간판매율[입고량대비]'].mean()"
   ]
  },
  {
   "cell_type": "code",
   "execution_count": 256,
   "metadata": {},
   "outputs": [],
   "source": [
    "df_mean = df_mean.reset_index()"
   ]
  },
  {
   "cell_type": "code",
   "execution_count": 257,
   "metadata": {},
   "outputs": [
    {
     "data": {
      "text/html": [
       "<div>\n",
       "<style scoped>\n",
       "    .dataframe tbody tr th:only-of-type {\n",
       "        vertical-align: middle;\n",
       "    }\n",
       "\n",
       "    .dataframe tbody tr th {\n",
       "        vertical-align: top;\n",
       "    }\n",
       "\n",
       "    .dataframe thead th {\n",
       "        text-align: right;\n",
       "    }\n",
       "</style>\n",
       "<table border=\"1\" class=\"dataframe\">\n",
       "  <thead>\n",
       "    <tr style=\"text-align: right;\">\n",
       "      <th></th>\n",
       "      <th>매장코드</th>\n",
       "      <th>매장명</th>\n",
       "      <th>스타일코드</th>\n",
       "      <th>Week</th>\n",
       "      <th>기간판매율[입고량대비]</th>\n",
       "    </tr>\n",
       "  </thead>\n",
       "  <tbody>\n",
       "    <tr>\n",
       "      <th>5</th>\n",
       "      <td>A8LC</td>\n",
       "      <td>2001중계</td>\n",
       "      <td>SPTAE23M03</td>\n",
       "      <td>2</td>\n",
       "      <td>16.666667</td>\n",
       "    </tr>\n",
       "    <tr>\n",
       "      <th>6</th>\n",
       "      <td>A8LC</td>\n",
       "      <td>2001중계</td>\n",
       "      <td>SPTAE23M03</td>\n",
       "      <td>3</td>\n",
       "      <td>10.096154</td>\n",
       "    </tr>\n",
       "    <tr>\n",
       "      <th>7</th>\n",
       "      <td>A8LC</td>\n",
       "      <td>2001중계</td>\n",
       "      <td>SPTAE23M04</td>\n",
       "      <td>1</td>\n",
       "      <td>11.111111</td>\n",
       "    </tr>\n",
       "    <tr>\n",
       "      <th>8</th>\n",
       "      <td>A8LC</td>\n",
       "      <td>2001중계</td>\n",
       "      <td>SPTAE23M04</td>\n",
       "      <td>2</td>\n",
       "      <td>33.333333</td>\n",
       "    </tr>\n",
       "    <tr>\n",
       "      <th>9</th>\n",
       "      <td>A8LC</td>\n",
       "      <td>2001중계</td>\n",
       "      <td>SPTAE23M04</td>\n",
       "      <td>3</td>\n",
       "      <td>16.666667</td>\n",
       "    </tr>\n",
       "    <tr>\n",
       "      <th>12</th>\n",
       "      <td>A8LC</td>\n",
       "      <td>2001중계</td>\n",
       "      <td>SPTAEA9W01</td>\n",
       "      <td>3</td>\n",
       "      <td>50.000000</td>\n",
       "    </tr>\n",
       "    <tr>\n",
       "      <th>14</th>\n",
       "      <td>A8LH</td>\n",
       "      <td>NC일산</td>\n",
       "      <td>SPCKE23W02</td>\n",
       "      <td>1</td>\n",
       "      <td>23.333333</td>\n",
       "    </tr>\n",
       "    <tr>\n",
       "      <th>15</th>\n",
       "      <td>A8LH</td>\n",
       "      <td>NC일산</td>\n",
       "      <td>SPCKE23W02</td>\n",
       "      <td>2</td>\n",
       "      <td>28.000000</td>\n",
       "    </tr>\n",
       "    <tr>\n",
       "      <th>16</th>\n",
       "      <td>A8LH</td>\n",
       "      <td>NC일산</td>\n",
       "      <td>SPCKE23W02</td>\n",
       "      <td>3</td>\n",
       "      <td>26.666667</td>\n",
       "    </tr>\n",
       "    <tr>\n",
       "      <th>17</th>\n",
       "      <td>A8LH</td>\n",
       "      <td>NC일산</td>\n",
       "      <td>SPKWE11W07</td>\n",
       "      <td>1</td>\n",
       "      <td>33.333333</td>\n",
       "    </tr>\n",
       "    <tr>\n",
       "      <th>18</th>\n",
       "      <td>A8LH</td>\n",
       "      <td>NC일산</td>\n",
       "      <td>SPKWE11W07</td>\n",
       "      <td>2</td>\n",
       "      <td>29.166667</td>\n",
       "    </tr>\n",
       "    <tr>\n",
       "      <th>19</th>\n",
       "      <td>A8LH</td>\n",
       "      <td>NC일산</td>\n",
       "      <td>SPKWE11W07</td>\n",
       "      <td>3</td>\n",
       "      <td>24.166667</td>\n",
       "    </tr>\n",
       "    <tr>\n",
       "      <th>20</th>\n",
       "      <td>A8LH</td>\n",
       "      <td>NC일산</td>\n",
       "      <td>SPKWE12W01</td>\n",
       "      <td>3</td>\n",
       "      <td>20.000000</td>\n",
       "    </tr>\n",
       "    <tr>\n",
       "      <th>25</th>\n",
       "      <td>A8LH</td>\n",
       "      <td>NC일산</td>\n",
       "      <td>SPTAE23M03</td>\n",
       "      <td>3</td>\n",
       "      <td>5.000000</td>\n",
       "    </tr>\n",
       "    <tr>\n",
       "      <th>28</th>\n",
       "      <td>A8LH</td>\n",
       "      <td>NC일산</td>\n",
       "      <td>SPTAE23M04</td>\n",
       "      <td>3</td>\n",
       "      <td>11.111111</td>\n",
       "    </tr>\n",
       "    <tr>\n",
       "      <th>32</th>\n",
       "      <td>A8LH</td>\n",
       "      <td>NC일산</td>\n",
       "      <td>SPTAE23W03</td>\n",
       "      <td>3</td>\n",
       "      <td>50.000000</td>\n",
       "    </tr>\n",
       "    <tr>\n",
       "      <th>35</th>\n",
       "      <td>A8LH</td>\n",
       "      <td>NC일산</td>\n",
       "      <td>SPTAE23W04</td>\n",
       "      <td>3</td>\n",
       "      <td>50.000000</td>\n",
       "    </tr>\n",
       "    <tr>\n",
       "      <th>41</th>\n",
       "      <td>A8LH</td>\n",
       "      <td>NC일산</td>\n",
       "      <td>SPTAEA9M02</td>\n",
       "      <td>3</td>\n",
       "      <td>10.190476</td>\n",
       "    </tr>\n",
       "    <tr>\n",
       "      <th>45</th>\n",
       "      <td>A8LJ</td>\n",
       "      <td>NC고잔</td>\n",
       "      <td>SPCKE12W02</td>\n",
       "      <td>3</td>\n",
       "      <td>20.000000</td>\n",
       "    </tr>\n",
       "    <tr>\n",
       "      <th>46</th>\n",
       "      <td>A8LJ</td>\n",
       "      <td>NC고잔</td>\n",
       "      <td>SPCKE23W02</td>\n",
       "      <td>1</td>\n",
       "      <td>25.000000</td>\n",
       "    </tr>\n",
       "  </tbody>\n",
       "</table>\n",
       "</div>"
      ],
      "text/plain": [
       "    매장코드     매장명       스타일코드  Week  기간판매율[입고량대비]\n",
       "5   A8LC  2001중계  SPTAE23M03     2     16.666667\n",
       "6   A8LC  2001중계  SPTAE23M03     3     10.096154\n",
       "7   A8LC  2001중계  SPTAE23M04     1     11.111111\n",
       "8   A8LC  2001중계  SPTAE23M04     2     33.333333\n",
       "9   A8LC  2001중계  SPTAE23M04     3     16.666667\n",
       "12  A8LC  2001중계  SPTAEA9W01     3     50.000000\n",
       "14  A8LH    NC일산  SPCKE23W02     1     23.333333\n",
       "15  A8LH    NC일산  SPCKE23W02     2     28.000000\n",
       "16  A8LH    NC일산  SPCKE23W02     3     26.666667\n",
       "17  A8LH    NC일산  SPKWE11W07     1     33.333333\n",
       "18  A8LH    NC일산  SPKWE11W07     2     29.166667\n",
       "19  A8LH    NC일산  SPKWE11W07     3     24.166667\n",
       "20  A8LH    NC일산  SPKWE12W01     3     20.000000\n",
       "25  A8LH    NC일산  SPTAE23M03     3      5.000000\n",
       "28  A8LH    NC일산  SPTAE23M04     3     11.111111\n",
       "32  A8LH    NC일산  SPTAE23W03     3     50.000000\n",
       "35  A8LH    NC일산  SPTAE23W04     3     50.000000\n",
       "41  A8LH    NC일산  SPTAEA9M02     3     10.190476\n",
       "45  A8LJ    NC고잔  SPCKE12W02     3     20.000000\n",
       "46  A8LJ    NC고잔  SPCKE23W02     1     25.000000"
      ]
     },
     "execution_count": 257,
     "metadata": {},
     "output_type": "execute_result"
    }
   ],
   "source": [
    "df_mean.dropna().head(20)"
   ]
  },
  {
   "cell_type": "code",
   "execution_count": 258,
   "metadata": {},
   "outputs": [],
   "source": [
    "df_mean2 = df_mean[df_mean['스타일코드'].isin(code_list)]"
   ]
  },
  {
   "cell_type": "code",
   "execution_count": 259,
   "metadata": {},
   "outputs": [],
   "source": [
    "df_mean2 = df_mean2.groupby(['스타일코드', 'Week'])['기간판매율[입고량대비]'].std()"
   ]
  },
  {
   "cell_type": "code",
   "execution_count": 260,
   "metadata": {},
   "outputs": [
    {
     "data": {
      "text/plain": [
       "15.00304818034787"
      ]
     },
     "execution_count": 260,
     "metadata": {},
     "output_type": "execute_result"
    }
   ],
   "source": [
    "df_mean2.mean()"
   ]
  },
  {
   "cell_type": "code",
   "execution_count": 261,
   "metadata": {},
   "outputs": [
    {
     "data": {
      "text/plain": [
       "스타일코드\n",
       "SPTAE23M03    14.801299\n",
       "SPTAE23M04    11.193371\n",
       "SPTAE23W03    14.480619\n",
       "SPTAE23W04    13.277585\n",
       "SPTAEA9M01    17.778679\n",
       "SPTAEA9M02    18.405683\n",
       "SPTAEA9W01    15.084101\n",
       "Name: 기간판매율[입고량대비], dtype: float64"
      ]
     },
     "execution_count": 261,
     "metadata": {},
     "output_type": "execute_result"
    }
   ],
   "source": [
    "df_mean2.groupby('스타일코드').mean()"
   ]
  },
  {
   "cell_type": "code",
   "execution_count": null,
   "metadata": {},
   "outputs": [],
   "source": [
    "17.778679\n",
    "18.405683 # PPT\n",
    "14.801299\n",
    "11.193371 # PPT"
   ]
  },
  {
   "cell_type": "code",
   "execution_count": 262,
   "metadata": {},
   "outputs": [
    {
     "data": {
      "text/plain": [
       "18.092181"
      ]
     },
     "execution_count": 262,
     "metadata": {},
     "output_type": "execute_result"
    }
   ],
   "source": [
    "(17.778679+18.405683)/2"
   ]
  },
  {
   "cell_type": "code",
   "execution_count": 263,
   "metadata": {},
   "outputs": [
    {
     "data": {
      "text/plain": [
       "12.997335"
      ]
     },
     "execution_count": 263,
     "metadata": {},
     "output_type": "execute_result"
    }
   ],
   "source": [
    "(14.801299+11.193371)/2"
   ]
  },
  {
   "cell_type": "code",
   "execution_count": 253,
   "metadata": {},
   "outputs": [
    {
     "data": {
      "text/plain": [
       "스타일코드       Week\n",
       "SPTAE23M03  1       12.947783\n",
       "            2       18.819421\n",
       "SPTAE23M04  1       14.370589\n",
       "            2       10.322337\n",
       "SPTAE23W03  1       14.556252\n",
       "            2       14.460596\n",
       "SPTAE23W04  1       14.433757\n",
       "            2       13.886286\n",
       "SPTAEA9M01  1       20.059000\n",
       "            2       20.023093\n",
       "SPTAEA9M02  1       21.618981\n",
       "            2       20.233736\n",
       "SPTAEA9W01  1       13.793402\n",
       "            2       17.340500\n",
       "Name: 기간판매율[입고량대비], dtype: float64"
      ]
     },
     "execution_count": 253,
     "metadata": {},
     "output_type": "execute_result"
    }
   ],
   "source": [
    "df_mean2"
   ]
  },
  {
   "cell_type": "code",
   "execution_count": 270,
   "metadata": {},
   "outputs": [],
   "source": [
    "pd.set_option('display.max_columns', None)"
   ]
  },
  {
   "cell_type": "code",
   "execution_count": 266,
   "metadata": {},
   "outputs": [
    {
     "data": {
      "text/plain": [
       "98"
      ]
     },
     "execution_count": 266,
     "metadata": {},
     "output_type": "execute_result"
    }
   ],
   "source": [
    "len(df[df['스타일코드'] == 'SPTAEA9M02']['매장명'].unique())"
   ]
  },
  {
   "cell_type": "code",
   "execution_count": 272,
   "metadata": {},
   "outputs": [
    {
     "ename": "SyntaxError",
     "evalue": "leading zeros in decimal integer literals are not permitted; use an 0o prefix for octal integers (452831600.py, line 1)",
     "output_type": "error",
     "traceback": [
      "\u001b[0;36m  Cell \u001b[0;32mIn[272], line 1\u001b[0;36m\u001b[0m\n\u001b[0;31m    df[(df['스타일코드'] == 'SPTAEA9M02')&(df['Date'] == 2024-01-11)]\u001b[0m\n\u001b[0m                                                                \n^\u001b[0m\n\u001b[0;31mSyntaxError\u001b[0m\u001b[0;31m:\u001b[0m leading zeros in decimal integer literals are not permitted; use an 0o prefix for octal integers\n"
     ]
    }
   ],
   "source": []
  },
  {
   "cell_type": "code",
   "execution_count": 268,
   "metadata": {},
   "outputs": [
    {
     "data": {
      "text/plain": [
       "99"
      ]
     },
     "execution_count": 268,
     "metadata": {},
     "output_type": "execute_result"
    }
   ],
   "source": [
    "len(df[df['스타일코드'] == 'SPTAE23M04']['매장명'].unique())"
   ]
  },
  {
   "cell_type": "code",
   "execution_count": 218,
   "metadata": {},
   "outputs": [
    {
     "data": {
      "text/plain": [
       "array(['SPLWE23M12', 'SPTAE11W05', 'SPTAE23M03', 'SPTAE23M04',\n",
       "       'SPTAEA9W01', 'SPCKE12W02', 'SPCKE23W02', 'SPKWE11W07',\n",
       "       'SPKWE12W01', 'SPKWE23W06', 'SPTAE23M07', 'SPTAE23W03',\n",
       "       'SPTAE23W04', 'SPTAEA9M01', 'SPTAEA9M02', 'SPTAE11W06',\n",
       "       'SPTAE23M05', 'SPCKE11W08', 'SPCKE11W99', 'SPCKE12W94',\n",
       "       'SPKWE12W99', 'SPCKE11W98'], dtype=object)"
      ]
     },
     "execution_count": 218,
     "metadata": {},
     "output_type": "execute_result"
    }
   ],
   "source": [
    "df_mean['스타일코드'].unique()"
   ]
  },
  {
   "cell_type": "code",
   "execution_count": 186,
   "metadata": {},
   "outputs": [],
   "source": [
    "df_mean2 = df_mean[df_mean['스타일코드'].isin(code_list)]"
   ]
  },
  {
   "cell_type": "code",
   "execution_count": 193,
   "metadata": {},
   "outputs": [],
   "source": [
    "df_mean2.groupby(['스타일코드', 'Date'])['기간판매율[입고량대비]'].std().to_csv('기간판매율 편차.csv', encoding='utf-8-sig')"
   ]
  },
  {
   "cell_type": "code",
   "execution_count": 198,
   "metadata": {},
   "outputs": [
    {
     "data": {
      "text/plain": [
       "Index(['매장코드', '매장명', '스타일코드', 'Date', '기간판매율[입고량대비]'], dtype='object')"
      ]
     },
     "execution_count": 198,
     "metadata": {},
     "output_type": "execute_result"
    }
   ],
   "source": [
    "df_mean.columns"
   ]
  },
  {
   "cell_type": "code",
   "execution_count": 199,
   "metadata": {},
   "outputs": [
    {
     "data": {
      "text/plain": [
       "스타일코드       Date  \n",
       "SPCKE11W08  231207          NaN\n",
       "            231208     7.477355\n",
       "            231209    11.662202\n",
       "            231210     6.934735\n",
       "            231211     4.695595\n",
       "                        ...    \n",
       "SPTAEA9W01  240107    15.167444\n",
       "            240108     6.865156\n",
       "            240109    17.311710\n",
       "            240110    16.973333\n",
       "            240111    25.554853\n",
       "Name: 기간판매율[입고량대비], Length: 505, dtype: float64"
      ]
     },
     "execution_count": 199,
     "metadata": {},
     "output_type": "execute_result"
    }
   ],
   "source": [
    "df_mean.groupby(['스타일코드', 'Date'])['기간판매율[입고량대비]'].std()"
   ]
  },
  {
   "cell_type": "code",
   "execution_count": 200,
   "metadata": {},
   "outputs": [
    {
     "data": {
      "text/plain": [
       "스타일코드\n",
       "SPCKE11W08    12.397303\n",
       "SPCKE11W98     7.754630\n",
       "SPCKE11W99    13.642740\n",
       "SPCKE12W02    13.891826\n",
       "SPCKE12W94     7.380952\n",
       "SPCKE23W02    20.437349\n",
       "SPKWE11W07    20.272718\n",
       "SPKWE12W01    17.211997\n",
       "SPKWE12W99    10.189618\n",
       "SPKWE23W06    19.055556\n",
       "SPLWE23M12    20.166667\n",
       "SPTAE11W05    21.809050\n",
       "SPTAE11W06    24.014705\n",
       "SPTAE23M03    15.280669\n",
       "SPTAE23M04    15.123121\n",
       "SPTAE23M05    26.430976\n",
       "SPTAE23M07    16.966891\n",
       "SPTAE23W03    36.742424\n",
       "SPTAE23W04    37.717391\n",
       "SPTAEA9M01    26.055089\n",
       "SPTAEA9M02    25.210933\n",
       "SPTAEA9W01    19.056576\n",
       "Name: 기간판매율[입고량대비], dtype: float64"
      ]
     },
     "execution_count": 200,
     "metadata": {},
     "output_type": "execute_result"
    }
   ],
   "source": [
    "df_mean.groupby(['스타일코드'])['기간판매율[입고량대비]'].mean()"
   ]
  },
  {
   "cell_type": "code",
   "execution_count": 201,
   "metadata": {},
   "outputs": [
    {
     "data": {
      "text/plain": [
       "20.35488238047332"
      ]
     },
     "execution_count": 201,
     "metadata": {},
     "output_type": "execute_result"
    }
   ],
   "source": [
    "df_mean['기간판매율[입고량대비]'].mean()"
   ]
  },
  {
   "cell_type": "code",
   "execution_count": 187,
   "metadata": {},
   "outputs": [
    {
     "data": {
      "text/plain": [
       "array(['SPTAE23M03', 'SPTAE23M04', 'SPTAEA9W01', 'SPTAE23W03',\n",
       "       'SPTAE23W04', 'SPTAEA9M01', 'SPTAEA9M02'], dtype=object)"
      ]
     },
     "execution_count": 187,
     "metadata": {},
     "output_type": "execute_result"
    }
   ],
   "source": [
    "df_mean2['스타일코드'].unique()\n",
    "# ['SPTAE23W03', ('SPTAEW04'), 'SPTAEA9M01', 'SPTAEA9M02', 'SPTAEA9W01', 'SPTAE23M03', 'SPTAE23M04']"
   ]
  },
  {
   "cell_type": "code",
   "execution_count": 162,
   "metadata": {},
   "outputs": [
    {
     "data": {
      "text/plain": [
       "매장코드  매장명     스타일코드       Date  \n",
       "A8LC  2001중계  SPLWE23M12  240110   NaN\n",
       "                          240111   NaN\n",
       "              SPTAE11W05  231219   NaN\n",
       "                          231220   NaN\n",
       "                          231221   NaN\n",
       "                                    ..\n",
       "ADYJ  의정부민락   SPTAEA9W01  240107   NaN\n",
       "                          240108   NaN\n",
       "                          240109   NaN\n",
       "                          240110   NaN\n",
       "                          240111   NaN\n",
       "Name: 기간판매율[입고량대비], Length: 33196, dtype: float64"
      ]
     },
     "execution_count": 162,
     "metadata": {},
     "output_type": "execute_result"
    }
   ],
   "source": [
    "df.groupby(['매장코드', '매장명', '스타일코드', 'Date'])['기간판매율[입고량대비]'].mean()"
   ]
  },
  {
   "cell_type": "code",
   "execution_count": 156,
   "metadata": {},
   "outputs": [
    {
     "data": {
      "text/plain": [
       "매장코드  매장명     스타일코드       Date  \n",
       "A8LC  2001중계  SPLWE23M12  240110   NaN\n",
       "                          240111   NaN\n",
       "              SPTAE11W05  231219   NaN\n",
       "                          231220   NaN\n",
       "                          231221   NaN\n",
       "                                    ..\n",
       "ADYJ  의정부민락   SPTAEA9W01  240107   NaN\n",
       "                          240108   NaN\n",
       "                          240109   NaN\n",
       "                          240110   NaN\n",
       "                          240111   NaN\n",
       "Name: 기간판매율[입고량대비], Length: 33196, dtype: float64"
      ]
     },
     "execution_count": 156,
     "metadata": {},
     "output_type": "execute_result"
    }
   ],
   "source": [
    "for i in code_list:\n",
    "    df_mean[df_mean['스타일코드'] == i]['기간판매율[입고량대비]']"
   ]
  },
  {
   "cell_type": "markdown",
   "metadata": {},
   "source": [
    "# 소진율 편차 그래프 제작"
   ]
  },
  {
   "cell_type": "code",
   "execution_count": 404,
   "metadata": {},
   "outputs": [
    {
     "name": "stderr",
     "output_type": "stream",
     "text": [
      "/var/folders/x2/c6gjhmqs6h5bl_d26ctv923h0000gn/T/ipykernel_3332/2616971161.py:1: DtypeWarning: Columns (19,20) have mixed types. Specify dtype option on import or set low_memory=False.\n",
      "  df = pd.read_csv('파일럿PJ_분석매장반영_2차.csv', encoding='utf-8-sig')\n"
     ]
    }
   ],
   "source": [
    "df = pd.read_csv('파일럿PJ_분석매장반영_2차.csv', encoding='utf-8-sig')"
   ]
  },
  {
   "cell_type": "code",
   "execution_count": 403,
   "metadata": {},
   "outputs": [
    {
     "data": {
      "text/plain": [
       "98"
      ]
     },
     "execution_count": 403,
     "metadata": {},
     "output_type": "execute_result"
    }
   ],
   "source": [
    "len(df[(df['스타일코드'] == 'SPTAEA9M01')&(df['Date'] == '2024-01-11')]['매장명'].unique())"
   ]
  },
  {
   "cell_type": "code",
   "execution_count": 279,
   "metadata": {},
   "outputs": [
    {
     "data": {
      "text/plain": [
       "99"
      ]
     },
     "execution_count": 279,
     "metadata": {},
     "output_type": "execute_result"
    }
   ],
   "source": [
    "len(df[(df['스타일코드'] == 'SPTAE23M04')&(df['Date'] == '2024-01-11')]['매장명'].unique())"
   ]
  },
  {
   "cell_type": "code",
   "execution_count": 280,
   "metadata": {},
   "outputs": [
    {
     "data": {
      "text/plain": [
       "Index(['매장코드', '매장명', '스타일코드', '스타일명', '최초입고일', '최종입고일', '최초출고일', '최종출고일',\n",
       "       '현판가', '예판가', '결판가', '단품코드', '누적매장순수입고량', '누적입고량', '누적출고량', '누적판매량',\n",
       "       '기간판매량', '잔여재고량', '누적판매율[입고량대비]', '기간판매율[입고량대비]', '기간입고량', '기간출고량',\n",
       "       'Date', 'Week'],\n",
       "      dtype='object')"
      ]
     },
     "execution_count": 280,
     "metadata": {},
     "output_type": "execute_result"
    }
   ],
   "source": [
    "df.columns"
   ]
  },
  {
   "cell_type": "code",
   "execution_count": 405,
   "metadata": {},
   "outputs": [],
   "source": [
    "df['Date'] = pd.to_datetime(df['Date'], format='%y%m%d')"
   ]
  },
  {
   "cell_type": "code",
   "execution_count": 406,
   "metadata": {},
   "outputs": [],
   "source": [
    "df2 = df.dropna(subset='누적판매율[입고량대비]')"
   ]
  },
  {
   "cell_type": "code",
   "execution_count": 407,
   "metadata": {},
   "outputs": [
    {
     "data": {
      "text/plain": [
       "98"
      ]
     },
     "execution_count": 407,
     "metadata": {},
     "output_type": "execute_result"
    }
   ],
   "source": [
    "len(df[(df['스타일코드'] == 'SPTAEA9M01')&(df['Date'] == '2024-01-19')]['매장명'].unique())"
   ]
  },
  {
   "cell_type": "code",
   "execution_count": 408,
   "metadata": {},
   "outputs": [
    {
     "data": {
      "text/plain": [
       "99"
      ]
     },
     "execution_count": 408,
     "metadata": {},
     "output_type": "execute_result"
    }
   ],
   "source": [
    "len(df[(df['스타일코드'] == 'SPTAE23M04')&(df['Date'] == '2024-01-19')]['매장명'].unique())"
   ]
  },
  {
   "cell_type": "code",
   "execution_count": 409,
   "metadata": {},
   "outputs": [],
   "source": [
    "df_m4 = df2[(df2['스타일코드'] == 'SPTAE23M04')&(df2['Date'] == '2024-01-20')].dropna(subset='누적판매율[입고량대비]')"
   ]
  },
  {
   "cell_type": "code",
   "execution_count": 410,
   "metadata": {},
   "outputs": [],
   "source": [
    "df_m2 = df2[(df2['스타일코드'] == 'SPTAEA9M01')&(df2['Date'] == '2024-01-20')].dropna(subset='누적판매율[입고량대비]')"
   ]
  },
  {
   "cell_type": "code",
   "execution_count": 411,
   "metadata": {},
   "outputs": [
    {
     "data": {
      "text/plain": [
       "Index(['Unnamed: 0', '매장코드', '매장명', '스타일코드', '스타일명', '최초입고일', '최종입고일', '최초출고일',\n",
       "       '최종출고일', '현판가', '예판가', '결판가', '단품코드', '누적매장순수입고량', '누적입고량', '누적출고량',\n",
       "       '누적판매량', '기간판매량', '잔여재고량', '누적판매율[입고량대비]', '기간판매율[입고량대비]', '기간입고량',\n",
       "       '기간출고량', 'Date'],\n",
       "      dtype='object')"
      ]
     },
     "execution_count": 411,
     "metadata": {},
     "output_type": "execute_result"
    }
   ],
   "source": [
    "df_m4.columns"
   ]
  },
  {
   "cell_type": "code",
   "execution_count": 412,
   "metadata": {},
   "outputs": [],
   "source": [
    "dropna = pd.concat([df_m4, df_m2], axis=0)\n",
    "dropna.to_csv('dropna_소진율그래프_3차.csv', encoding='utf-8-sig')"
   ]
  },
  {
   "cell_type": "code",
   "execution_count": 413,
   "metadata": {},
   "outputs": [
    {
     "data": {
      "text/html": [
       "<div>\n",
       "<style scoped>\n",
       "    .dataframe tbody tr th:only-of-type {\n",
       "        vertical-align: middle;\n",
       "    }\n",
       "\n",
       "    .dataframe tbody tr th {\n",
       "        vertical-align: top;\n",
       "    }\n",
       "\n",
       "    .dataframe thead th {\n",
       "        text-align: right;\n",
       "    }\n",
       "</style>\n",
       "<table border=\"1\" class=\"dataframe\">\n",
       "  <thead>\n",
       "    <tr style=\"text-align: right;\">\n",
       "      <th></th>\n",
       "      <th>매장코드</th>\n",
       "      <th>매장명</th>\n",
       "      <th>스타일코드_x</th>\n",
       "      <th>누적판매율[입고량대비]_x</th>\n",
       "      <th>Date_x</th>\n",
       "      <th>스타일코드_y</th>\n",
       "      <th>누적판매율[입고량대비]_y</th>\n",
       "      <th>Date_y</th>\n",
       "    </tr>\n",
       "  </thead>\n",
       "  <tbody>\n",
       "    <tr>\n",
       "      <th>0</th>\n",
       "      <td>A8LJ</td>\n",
       "      <td>NC고잔</td>\n",
       "      <td>SPTAE23M04</td>\n",
       "      <td>7.692308</td>\n",
       "      <td>2024-01-20</td>\n",
       "      <td>SPTAEA9M01</td>\n",
       "      <td>20.0</td>\n",
       "      <td>2024-01-20</td>\n",
       "    </tr>\n",
       "    <tr>\n",
       "      <th>1</th>\n",
       "      <td>A8LJ</td>\n",
       "      <td>NC고잔</td>\n",
       "      <td>SPTAE23M04</td>\n",
       "      <td>7.692308</td>\n",
       "      <td>2024-01-20</td>\n",
       "      <td>SPTAEA9M01</td>\n",
       "      <td>22.222222</td>\n",
       "      <td>2024-01-20</td>\n",
       "    </tr>\n",
       "    <tr>\n",
       "      <th>2</th>\n",
       "      <td>A8LJ</td>\n",
       "      <td>NC고잔</td>\n",
       "      <td>SPTAE23M04</td>\n",
       "      <td>7.692308</td>\n",
       "      <td>2024-01-20</td>\n",
       "      <td>SPTAEA9M01</td>\n",
       "      <td>22.222222</td>\n",
       "      <td>2024-01-20</td>\n",
       "    </tr>\n",
       "    <tr>\n",
       "      <th>3</th>\n",
       "      <td>A8LJ</td>\n",
       "      <td>NC고잔</td>\n",
       "      <td>SPTAE23M04</td>\n",
       "      <td>7.692308</td>\n",
       "      <td>2024-01-20</td>\n",
       "      <td>SPTAEA9M01</td>\n",
       "      <td>16.666667</td>\n",
       "      <td>2024-01-20</td>\n",
       "    </tr>\n",
       "    <tr>\n",
       "      <th>4</th>\n",
       "      <td>A8LJ</td>\n",
       "      <td>NC고잔</td>\n",
       "      <td>SPTAE23M04</td>\n",
       "      <td>4.545455</td>\n",
       "      <td>2024-01-20</td>\n",
       "      <td>SPTAEA9M01</td>\n",
       "      <td>20.0</td>\n",
       "      <td>2024-01-20</td>\n",
       "    </tr>\n",
       "    <tr>\n",
       "      <th>...</th>\n",
       "      <td>...</td>\n",
       "      <td>...</td>\n",
       "      <td>...</td>\n",
       "      <td>...</td>\n",
       "      <td>...</td>\n",
       "      <td>...</td>\n",
       "      <td>...</td>\n",
       "      <td>...</td>\n",
       "    </tr>\n",
       "    <tr>\n",
       "      <th>901</th>\n",
       "      <td>ADVD</td>\n",
       "      <td>NC평택</td>\n",
       "      <td>SPTAE23M04</td>\n",
       "      <td>14.285714</td>\n",
       "      <td>2024-01-20</td>\n",
       "      <td>SPTAEA9M01</td>\n",
       "      <td>0.0</td>\n",
       "      <td>2024-01-20</td>\n",
       "    </tr>\n",
       "    <tr>\n",
       "      <th>902</th>\n",
       "      <td>ADVD</td>\n",
       "      <td>NC평택</td>\n",
       "      <td>SPTAE23M04</td>\n",
       "      <td>25.0</td>\n",
       "      <td>2024-01-20</td>\n",
       "      <td>SPTAEA9M01</td>\n",
       "      <td>0.0</td>\n",
       "      <td>2024-01-20</td>\n",
       "    </tr>\n",
       "    <tr>\n",
       "      <th>903</th>\n",
       "      <td>ADVD</td>\n",
       "      <td>NC평택</td>\n",
       "      <td>SPTAE23M04</td>\n",
       "      <td>25.0</td>\n",
       "      <td>2024-01-20</td>\n",
       "      <td>SPTAEA9M01</td>\n",
       "      <td>11.111111</td>\n",
       "      <td>2024-01-20</td>\n",
       "    </tr>\n",
       "    <tr>\n",
       "      <th>904</th>\n",
       "      <td>ADVD</td>\n",
       "      <td>NC평택</td>\n",
       "      <td>SPTAE23M04</td>\n",
       "      <td>25.0</td>\n",
       "      <td>2024-01-20</td>\n",
       "      <td>SPTAEA9M01</td>\n",
       "      <td>0.0</td>\n",
       "      <td>2024-01-20</td>\n",
       "    </tr>\n",
       "    <tr>\n",
       "      <th>905</th>\n",
       "      <td>ADVD</td>\n",
       "      <td>NC평택</td>\n",
       "      <td>SPTAE23M04</td>\n",
       "      <td>25.0</td>\n",
       "      <td>2024-01-20</td>\n",
       "      <td>SPTAEA9M01</td>\n",
       "      <td>0.0</td>\n",
       "      <td>2024-01-20</td>\n",
       "    </tr>\n",
       "  </tbody>\n",
       "</table>\n",
       "<p>906 rows × 8 columns</p>\n",
       "</div>"
      ],
      "text/plain": [
       "     매장코드   매장명     스타일코드_x 누적판매율[입고량대비]_x     Date_x     스타일코드_y  \\\n",
       "0    A8LJ  NC고잔  SPTAE23M04       7.692308 2024-01-20  SPTAEA9M01   \n",
       "1    A8LJ  NC고잔  SPTAE23M04       7.692308 2024-01-20  SPTAEA9M01   \n",
       "2    A8LJ  NC고잔  SPTAE23M04       7.692308 2024-01-20  SPTAEA9M01   \n",
       "3    A8LJ  NC고잔  SPTAE23M04       7.692308 2024-01-20  SPTAEA9M01   \n",
       "4    A8LJ  NC고잔  SPTAE23M04       4.545455 2024-01-20  SPTAEA9M01   \n",
       "..    ...   ...         ...            ...        ...         ...   \n",
       "901  ADVD  NC평택  SPTAE23M04      14.285714 2024-01-20  SPTAEA9M01   \n",
       "902  ADVD  NC평택  SPTAE23M04           25.0 2024-01-20  SPTAEA9M01   \n",
       "903  ADVD  NC평택  SPTAE23M04           25.0 2024-01-20  SPTAEA9M01   \n",
       "904  ADVD  NC평택  SPTAE23M04           25.0 2024-01-20  SPTAEA9M01   \n",
       "905  ADVD  NC평택  SPTAE23M04           25.0 2024-01-20  SPTAEA9M01   \n",
       "\n",
       "    누적판매율[입고량대비]_y     Date_y  \n",
       "0             20.0 2024-01-20  \n",
       "1        22.222222 2024-01-20  \n",
       "2        22.222222 2024-01-20  \n",
       "3        16.666667 2024-01-20  \n",
       "4             20.0 2024-01-20  \n",
       "..             ...        ...  \n",
       "901            0.0 2024-01-20  \n",
       "902            0.0 2024-01-20  \n",
       "903      11.111111 2024-01-20  \n",
       "904            0.0 2024-01-20  \n",
       "905            0.0 2024-01-20  \n",
       "\n",
       "[906 rows x 8 columns]"
      ]
     },
     "execution_count": 413,
     "metadata": {},
     "output_type": "execute_result"
    }
   ],
   "source": [
    "pd.merge(df_m4[['매장코드', '매장명', '스타일코드', '누적판매율[입고량대비]', 'Date']], \n",
    "         df_m2[['매장코드', '매장명', '스타일코드', '누적판매율[입고량대비]', 'Date']],\n",
    "         on=['매장코드', '매장명'])"
   ]
  },
  {
   "cell_type": "code",
   "execution_count": 414,
   "metadata": {},
   "outputs": [],
   "source": [
    "df_m4_2 = df_m4[['매장코드', '매장명', '누적판매율[입고량대비]']].groupby(['매장코드', '매장명']).mean()\n",
    "df_m4_3 = df_m4_2.reset_index()\n",
    "df_m4_3.columns = ['매장코드', '매장명', '누적판매율_m4']"
   ]
  },
  {
   "cell_type": "code",
   "execution_count": 417,
   "metadata": {},
   "outputs": [],
   "source": [
    "#df_m2 = df_m2[['매장코드', '매장명', '누적판매율[입고량대비]']].groupby(['매장코드', '매장명']).mean()\n",
    "#df_m2 = df_m2.reset_index()\n",
    "df_m2.columns = ['매장코드', '매장명', '누적판매율_m1']"
   ]
  },
  {
   "cell_type": "code",
   "execution_count": 418,
   "metadata": {},
   "outputs": [
    {
     "data": {
      "text/plain": [
       "71"
      ]
     },
     "execution_count": 418,
     "metadata": {},
     "output_type": "execute_result"
    }
   ],
   "source": [
    "len(df_m4_3)"
   ]
  },
  {
   "cell_type": "code",
   "execution_count": 419,
   "metadata": {},
   "outputs": [],
   "source": [
    "store_list = df_m4_3['매장코드'].unique()"
   ]
  },
  {
   "cell_type": "code",
   "execution_count": 420,
   "metadata": {},
   "outputs": [
    {
     "data": {
      "text/plain": [
       "71"
      ]
     },
     "execution_count": 420,
     "metadata": {},
     "output_type": "execute_result"
    }
   ],
   "source": [
    "len(store_list)"
   ]
  },
  {
   "cell_type": "code",
   "execution_count": 421,
   "metadata": {},
   "outputs": [
    {
     "data": {
      "text/html": [
       "<div>\n",
       "<style scoped>\n",
       "    .dataframe tbody tr th:only-of-type {\n",
       "        vertical-align: middle;\n",
       "    }\n",
       "\n",
       "    .dataframe tbody tr th {\n",
       "        vertical-align: top;\n",
       "    }\n",
       "\n",
       "    .dataframe thead th {\n",
       "        text-align: right;\n",
       "    }\n",
       "</style>\n",
       "<table border=\"1\" class=\"dataframe\">\n",
       "  <thead>\n",
       "    <tr style=\"text-align: right;\">\n",
       "      <th></th>\n",
       "      <th>매장코드</th>\n",
       "      <th>매장명</th>\n",
       "      <th>누적판매율_m1</th>\n",
       "    </tr>\n",
       "  </thead>\n",
       "  <tbody>\n",
       "    <tr>\n",
       "      <th>0</th>\n",
       "      <td>A8LJ</td>\n",
       "      <td>NC고잔</td>\n",
       "      <td>20.277778</td>\n",
       "    </tr>\n",
       "    <tr>\n",
       "      <th>1</th>\n",
       "      <td>A8LL</td>\n",
       "      <td>NC덕천</td>\n",
       "      <td>14.285714</td>\n",
       "    </tr>\n",
       "    <tr>\n",
       "      <th>2</th>\n",
       "      <td>A8LM</td>\n",
       "      <td>NC송파</td>\n",
       "      <td>25.0</td>\n",
       "    </tr>\n",
       "    <tr>\n",
       "      <th>3</th>\n",
       "      <td>A8LS</td>\n",
       "      <td>NC불광</td>\n",
       "      <td>14.634921</td>\n",
       "    </tr>\n",
       "    <tr>\n",
       "      <th>4</th>\n",
       "      <td>A8LY</td>\n",
       "      <td>2001천호</td>\n",
       "      <td>28.134921</td>\n",
       "    </tr>\n",
       "    <tr>\n",
       "      <th>...</th>\n",
       "      <td>...</td>\n",
       "      <td>...</td>\n",
       "      <td>...</td>\n",
       "    </tr>\n",
       "    <tr>\n",
       "      <th>82</th>\n",
       "      <td>ADS3</td>\n",
       "      <td>스타시티건대</td>\n",
       "      <td>20.0</td>\n",
       "    </tr>\n",
       "    <tr>\n",
       "      <th>83</th>\n",
       "      <td>ADUH</td>\n",
       "      <td>(NSC)경기광주</td>\n",
       "      <td>16.666667</td>\n",
       "    </tr>\n",
       "    <tr>\n",
       "      <th>84</th>\n",
       "      <td>ADV4</td>\n",
       "      <td>NC평촌</td>\n",
       "      <td>22.222222</td>\n",
       "    </tr>\n",
       "    <tr>\n",
       "      <th>85</th>\n",
       "      <td>ADV5</td>\n",
       "      <td>NC야탑</td>\n",
       "      <td>77.777778</td>\n",
       "    </tr>\n",
       "    <tr>\n",
       "      <th>86</th>\n",
       "      <td>ADVD</td>\n",
       "      <td>NC평택</td>\n",
       "      <td>2.777778</td>\n",
       "    </tr>\n",
       "  </tbody>\n",
       "</table>\n",
       "<p>69 rows × 3 columns</p>\n",
       "</div>"
      ],
      "text/plain": [
       "    매장코드        매장명   누적판매율_m1\n",
       "0   A8LJ       NC고잔  20.277778\n",
       "1   A8LL       NC덕천  14.285714\n",
       "2   A8LM       NC송파       25.0\n",
       "3   A8LS       NC불광  14.634921\n",
       "4   A8LY     2001천호  28.134921\n",
       "..   ...        ...        ...\n",
       "82  ADS3     스타시티건대       20.0\n",
       "83  ADUH  (NSC)경기광주  16.666667\n",
       "84  ADV4       NC평촌  22.222222\n",
       "85  ADV5       NC야탑  77.777778\n",
       "86  ADVD       NC평택   2.777778\n",
       "\n",
       "[69 rows x 3 columns]"
      ]
     },
     "execution_count": 421,
     "metadata": {},
     "output_type": "execute_result"
    }
   ],
   "source": [
    "df_m2[df_m2.isin(store_list).any(axis=1)]"
   ]
  },
  {
   "cell_type": "code",
   "execution_count": 422,
   "metadata": {},
   "outputs": [],
   "source": [
    "df_m2_2 = df_m2[df_m2.isin(store_list).any(axis=1)]\n",
    "df_m2_2.reset_index(inplace=True, drop=True)\n",
    "store_list2 = df_m2_2['매장코드'].unique()"
   ]
  },
  {
   "cell_type": "code",
   "execution_count": 423,
   "metadata": {},
   "outputs": [],
   "source": [
    "df_m4_4 = df_m4_3[df_m4_3.isin(store_list2).any(axis=1)]\n",
    "df_m4_4.reset_index(inplace=True, drop=True)"
   ]
  },
  {
   "cell_type": "code",
   "execution_count": 424,
   "metadata": {},
   "outputs": [
    {
     "data": {
      "text/plain": [
       "69"
      ]
     },
     "execution_count": 424,
     "metadata": {},
     "output_type": "execute_result"
    }
   ],
   "source": [
    "len(df_m4_4)"
   ]
  },
  {
   "cell_type": "code",
   "execution_count": 425,
   "metadata": {},
   "outputs": [
    {
     "data": {
      "text/plain": [
       "69"
      ]
     },
     "execution_count": 425,
     "metadata": {},
     "output_type": "execute_result"
    }
   ],
   "source": [
    "len(df_m2_2)"
   ]
  },
  {
   "cell_type": "code",
   "execution_count": 426,
   "metadata": {},
   "outputs": [
    {
     "name": "stderr",
     "output_type": "stream",
     "text": [
      "/var/folders/x2/c6gjhmqs6h5bl_d26ctv923h0000gn/T/ipykernel_3332/107273480.py:1: SettingWithCopyWarning: \n",
      "A value is trying to be set on a copy of a slice from a DataFrame.\n",
      "Try using .loc[row_indexer,col_indexer] = value instead\n",
      "\n",
      "See the caveats in the documentation: https://pandas.pydata.org/pandas-docs/stable/user_guide/indexing.html#returning-a-view-versus-a-copy\n",
      "  df_m4_4['스타일코드'] = 'm4'\n",
      "/var/folders/x2/c6gjhmqs6h5bl_d26ctv923h0000gn/T/ipykernel_3332/107273480.py:2: SettingWithCopyWarning: \n",
      "A value is trying to be set on a copy of a slice from a DataFrame.\n",
      "Try using .loc[row_indexer,col_indexer] = value instead\n",
      "\n",
      "See the caveats in the documentation: https://pandas.pydata.org/pandas-docs/stable/user_guide/indexing.html#returning-a-view-versus-a-copy\n",
      "  df_m2_2['스타일코드'] = 'm1'\n"
     ]
    }
   ],
   "source": [
    "df_m4_4['스타일코드'] = 'm4'\n",
    "df_m2_2['스타일코드'] = 'm1'"
   ]
  },
  {
   "cell_type": "code",
   "execution_count": 427,
   "metadata": {},
   "outputs": [],
   "source": [
    "df_m4_4.columns = ['매장코드', '매장명', '누적판매율', '스타일코드']\n",
    "df_m2_2.columns = ['매장코드', '매장명', '누적판매율', '스타일코드']"
   ]
  },
  {
   "cell_type": "code",
   "execution_count": 428,
   "metadata": {},
   "outputs": [],
   "source": [
    "pd.concat([df_m4_4, df_m2_2]).to_csv('개수맞춤_소진율그래프_최종2차.csv', encoding='utf-8-sig')"
   ]
  },
  {
   "cell_type": "code",
   "execution_count": 431,
   "metadata": {},
   "outputs": [
    {
     "data": {
      "text/plain": [
       "Index(['Unnamed: 0', '매장코드', '매장명', '스타일코드', '스타일명', '최초입고일', '최종입고일', '최초출고일',\n",
       "       '최종출고일', '현판가', '예판가', '결판가', '단품코드', '누적매장순수입고량', '누적입고량', '누적출고량',\n",
       "       '누적판매량', '기간판매량', '잔여재고량', '누적판매율[입고량대비]', '기간판매율[입고량대비]', '기간입고량',\n",
       "       '기간출고량', 'Date'],\n",
       "      dtype='object')"
      ]
     },
     "execution_count": 431,
     "metadata": {},
     "output_type": "execute_result"
    }
   ],
   "source": [
    "df.columns"
   ]
  },
  {
   "cell_type": "code",
   "execution_count": 434,
   "metadata": {},
   "outputs": [
    {
     "data": {
      "text/plain": [
       "스타일코드\n",
       "SPCKE11W08    14.042873\n",
       "SPCKE11W98     9.692821\n",
       "SPCKE11W99    15.192124\n",
       "SPCKE12W02    11.600206\n",
       "SPCKE12W03     9.881484\n",
       "SPCKE12W93    11.295158\n",
       "SPCKE12W94     9.501938\n",
       "SPCKE23W02    12.200722\n",
       "SPKWE11W07    15.138541\n",
       "SPKWE11W95    28.830833\n",
       "SPKWE12W01    12.862054\n",
       "SPKWE12W99    10.337965\n",
       "SPKWE23W06    10.162527\n",
       "SPLWE23M12    15.563461\n",
       "SPTAE11W05    26.774798\n",
       "SPTAE11W06    26.207298\n",
       "SPTAE23M03    13.611549\n",
       "SPTAE23M04     9.807177\n",
       "SPTAE23M05    23.085415\n",
       "SPTAE23M07    19.591814\n",
       "SPTAE23W03    19.464515\n",
       "SPTAE23W04    19.671571\n",
       "SPTAEA9M01    11.413124\n",
       "SPTAEA9M02    14.795808\n",
       "SPTAEA9W01    12.889600\n",
       "Name: 누적판매율[입고량대비], dtype: float64"
      ]
     },
     "execution_count": 434,
     "metadata": {},
     "output_type": "execute_result"
    }
   ],
   "source": [
    "df[df['Date']=='2024-01-20'].groupby('스타일코드')['누적판매율[입고량대비]'].std()"
   ]
  },
  {
   "cell_type": "code",
   "execution_count": 429,
   "metadata": {},
   "outputs": [
    {
     "data": {
      "text/plain": [
       "스타일코드\n",
       "m1    8.864605\n",
       "m4    8.046023\n",
       "Name: 누적판매율, dtype: float64"
      ]
     },
     "execution_count": 429,
     "metadata": {},
     "output_type": "execute_result"
    }
   ],
   "source": [
    "sojin = pd.concat([df_m4_4, df_m2_2])\n",
    "sojin.groupby('스타일코드')['누적판매율'].std()"
   ]
  },
  {
   "cell_type": "code",
   "execution_count": 306,
   "metadata": {},
   "outputs": [],
   "source": [
    "df_merge = pd.merge(df_m4_3, df_m2, on=['매장코드', '매장명'])\n",
    "df_merge.to_csv('매장개수맞춤_소진율그래프_.csv', encoding='utf-8-sig')"
   ]
  },
  {
   "cell_type": "code",
   "execution_count": null,
   "metadata": {},
   "outputs": [],
   "source": []
  }
 ],
 "metadata": {
  "kernelspec": {
   "display_name": "Python 3",
   "language": "python",
   "name": "python3"
  },
  "language_info": {
   "codemirror_mode": {
    "name": "ipython",
    "version": 3
   },
   "file_extension": ".py",
   "mimetype": "text/x-python",
   "name": "python",
   "nbconvert_exporter": "python",
   "pygments_lexer": "ipython3",
   "version": "3.11.1"
  }
 },
 "nbformat": 4,
 "nbformat_minor": 2
}
